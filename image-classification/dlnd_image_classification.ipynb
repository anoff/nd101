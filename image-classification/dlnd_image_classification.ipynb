{
 "cells": [
  {
   "cell_type": "markdown",
   "metadata": {
    "collapsed": true,
    "deletable": true,
    "editable": true
   },
   "source": [
    "# Image Classification\n",
    "In this project, you'll classify images from the [CIFAR-10 dataset](https://www.cs.toronto.edu/~kriz/cifar.html).  The dataset consists of airplanes, dogs, cats, and other objects. You'll preprocess the images, then train a convolutional neural network on all the samples. The images need to be normalized and the labels need to be one-hot encoded.  You'll get to apply what you learned and build a convolutional, max pooling, dropout, and fully connected layers.  At the end, you'll get to see your neural network's predictions on the sample images.\n",
    "## Get the Data\n",
    "Run the following cell to download the [CIFAR-10 dataset for python](https://www.cs.toronto.edu/~kriz/cifar-10-python.tar.gz)."
   ]
  },
  {
   "cell_type": "code",
   "execution_count": 15,
   "metadata": {
    "collapsed": false,
    "deletable": true,
    "editable": true
   },
   "outputs": [
    {
     "name": "stdout",
     "output_type": "stream",
     "text": [
      "All files found!\n"
     ]
    }
   ],
   "source": [
    "\"\"\"\n",
    "DON'T MODIFY ANYTHING IN THIS CELL THAT IS BELOW THIS LINE\n",
    "\"\"\"\n",
    "from urllib.request import urlretrieve\n",
    "from os.path import isfile, isdir\n",
    "from tqdm import tqdm\n",
    "import problem_unittests as tests\n",
    "import tarfile\n",
    "\n",
    "cifar10_dataset_folder_path = 'cifar-10-batches-py'\n",
    "\n",
    "# Use Floyd's cifar-10 dataset if present\n",
    "floyd_cifar10_location = '/input/cifar-10/python.tar.gz'\n",
    "if isfile(floyd_cifar10_location):\n",
    "    tar_gz_path = floyd_cifar10_location\n",
    "else:\n",
    "    tar_gz_path = 'cifar-10-python.tar.gz'\n",
    "\n",
    "class DLProgress(tqdm):\n",
    "    last_block = 0\n",
    "\n",
    "    def hook(self, block_num=1, block_size=1, total_size=None):\n",
    "        self.total = total_size\n",
    "        self.update((block_num - self.last_block) * block_size)\n",
    "        self.last_block = block_num\n",
    "\n",
    "if not isfile(tar_gz_path):\n",
    "    with DLProgress(unit='B', unit_scale=True, miniters=1, desc='CIFAR-10 Dataset') as pbar:\n",
    "        urlretrieve(\n",
    "            'https://www.cs.toronto.edu/~kriz/cifar-10-python.tar.gz',\n",
    "            tar_gz_path,\n",
    "            pbar.hook)\n",
    "\n",
    "if not isdir(cifar10_dataset_folder_path):\n",
    "    with tarfile.open(tar_gz_path) as tar:\n",
    "        tar.extractall()\n",
    "        tar.close()\n",
    "\n",
    "\n",
    "tests.test_folder_path(cifar10_dataset_folder_path)"
   ]
  },
  {
   "cell_type": "markdown",
   "metadata": {
    "deletable": true,
    "editable": true
   },
   "source": [
    "## Explore the Data\n",
    "The dataset is broken into batches to prevent your machine from running out of memory.  The CIFAR-10 dataset consists of 5 batches, named `data_batch_1`, `data_batch_2`, etc.. Each batch contains the labels and images that are one of the following:\n",
    "* airplane\n",
    "* automobile\n",
    "* bird\n",
    "* cat\n",
    "* deer\n",
    "* dog\n",
    "* frog\n",
    "* horse\n",
    "* ship\n",
    "* truck\n",
    "\n",
    "Understanding a dataset is part of making predictions on the data.  Play around with the code cell below by changing the `batch_id` and `sample_id`. The `batch_id` is the id for a batch (1-5). The `sample_id` is the id for a image and label pair in the batch.\n",
    "\n",
    "Ask yourself \"What are all possible labels?\", \"What is the range of values for the image data?\", \"Are the labels in order or random?\".  Answers to questions like these will help you preprocess the data and end up with better predictions."
   ]
  },
  {
   "cell_type": "code",
   "execution_count": 16,
   "metadata": {
    "collapsed": false,
    "deletable": true,
    "editable": true
   },
   "outputs": [
    {
     "name": "stdout",
     "output_type": "stream",
     "text": [
      "\n",
      "Stats of batch 2:\n",
      "Samples: 10000\n",
      "Label Counts: {0: 984, 1: 1007, 2: 1010, 3: 995, 4: 1010, 5: 988, 6: 1008, 7: 1026, 8: 987, 9: 985}\n",
      "First 20 Labels: [1, 6, 6, 8, 8, 3, 4, 6, 0, 6, 0, 3, 6, 6, 5, 4, 8, 3, 2, 6]\n",
      "\n",
      "Example of Image 5:\n",
      "Image - Min Value: 3 Max Value: 219\n",
      "Image - Shape: (32, 32, 3)\n",
      "Label - Label Id: 3 Name: cat\n"
     ]
    },
    {
     "data": {
      "image/png": "[encoded data removed]",
      "text/plain": [
       "<matplotlib.figure.Figure at 0x10d744fd0>"
      ]
     },
     "metadata": {
      "image/png": {
       "height": 250,
       "width": 253
      }
     },
     "output_type": "display_data"
    }
   ],
   "source": [
    "%matplotlib inline\n",
    "%config InlineBackend.figure_format = 'retina'\n",
    "\n",
    "import helper\n",
    "import numpy as np\n",
    "\n",
    "# Explore the dataset\n",
    "batch_id = 2\n",
    "sample_id = 5\n",
    "helper.display_stats(cifar10_dataset_folder_path, batch_id, sample_id)"
   ]
  },
  {
   "cell_type": "markdown",
   "metadata": {
    "deletable": true,
    "editable": true
   },
   "source": [
    "## Implement Preprocess Functions\n",
    "### Normalize\n",
    "In the cell below, implement the `normalize` function to take in image data, `x`, and return it as a normalized Numpy array. The values should be in the range of 0 to 1, inclusive.  The return object should be the same shape as `x`."
   ]
  },
  {
   "cell_type": "code",
   "execution_count": 36,
   "metadata": {
    "collapsed": false,
    "deletable": true,
    "editable": true
   },
   "outputs": [
    {
     "name": "stdout",
     "output_type": "stream",
     "text": [
      "Tests Passed\n"
     ]
    }
   ],
   "source": [
    "def normalize(x):\n",
    "    \"\"\"\n",
    "    Normalize a list of sample image data in the range of 0 to 1\n",
    "    : x: List of image data.  The image shape is (32, 32, 3)\n",
    "    : return: Numpy array of normalize data\n",
    "    \"\"\"\n",
    "    x_max = 255\n",
    "    x_min = 0\n",
    "    x_norm = x.reshape(x.size)\n",
    "    x_norm = (x_norm - x_min)/(x_max-x_min)    \n",
    "\n",
    "    return x_norm.reshape(x.shape)\n",
    "\n",
    "\n",
    "\"\"\"\n",
    "DON'T MODIFY ANYTHING IN THIS CELL THAT IS BELOW THIS LINE\n",
    "\"\"\"\n",
    "tests.test_normalize(normalize)"
   ]
  },
  {
   "cell_type": "markdown",
   "metadata": {
    "deletable": true,
    "editable": true
   },
   "source": [
    "### One-hot encode\n",
    "Just like the previous code cell, you'll be implementing a function for preprocessing.  This time, you'll implement the `one_hot_encode` function. The input, `x`, are a list of labels.  Implement the function to return the list of labels as One-Hot encoded Numpy array.  The possible values for labels are 0 to 9. The one-hot encoding function should return the same encoding for each value between each call to `one_hot_encode`.  Make sure to save the map of encodings outside the function.\n",
    "\n",
    "Hint: Don't reinvent the wheel."
   ]
  },
  {
   "cell_type": "code",
   "execution_count": 37,
   "metadata": {
    "collapsed": false,
    "deletable": true,
    "editable": true
   },
   "outputs": [
    {
     "name": "stdout",
     "output_type": "stream",
     "text": [
      "Tests Passed\n"
     ]
    }
   ],
   "source": [
    "def one_hot_encode(x):\n",
    "    \"\"\"\n",
    "    One hot encode a list of sample labels. Return a one-hot encoded vector for each label.\n",
    "    : x: List of sample Labels\n",
    "    : return: Numpy array of one-hot encoded labels\n",
    "    \"\"\"\n",
    "    # TODO: Implement Function\n",
    "    codes = np.zeros((len(x), 10))\n",
    "    for i in range(len(x)):\n",
    "        codes[i][x[i]] = 1\n",
    "    return codes\n",
    "\n",
    "\n",
    "\"\"\"\n",
    "DON'T MODIFY ANYTHING IN THIS CELL THAT IS BELOW THIS LINE\n",
    "\"\"\"\n",
    "tests.test_one_hot_encode(one_hot_encode)"
   ]
  },
  {
   "cell_type": "markdown",
   "metadata": {
    "deletable": true,
    "editable": true
   },
   "source": [
    "### Randomize Data\n",
    "As you saw from exploring the data above, the order of the samples are randomized.  It doesn't hurt to randomize it again, but you don't need to for this dataset."
   ]
  },
  {
   "cell_type": "markdown",
   "metadata": {
    "deletable": true,
    "editable": true
   },
   "source": [
    "## Preprocess all the data and save it\n",
    "Running the code cell below will preprocess all the CIFAR-10 data and save it to file. The code below also uses 10% of the training data for validation."
   ]
  },
  {
   "cell_type": "code",
   "execution_count": 38,
   "metadata": {
    "collapsed": false,
    "deletable": true,
    "editable": true
   },
   "outputs": [],
   "source": [
    "\"\"\"\n",
    "DON'T MODIFY ANYTHING IN THIS CELL\n",
    "\"\"\"\n",
    "# Preprocess Training, Validation, and Testing Data\n",
    "helper.preprocess_and_save_data(cifar10_dataset_folder_path, normalize, one_hot_encode)"
   ]
  },
  {
   "cell_type": "markdown",
   "metadata": {
    "deletable": true,
    "editable": true
   },
   "source": [
    "# Check Point\n",
    "This is your first checkpoint.  If you ever decide to come back to this notebook or have to restart the notebook, you can start from here.  The preprocessed data has been saved to disk."
   ]
  },
  {
   "cell_type": "code",
   "execution_count": 39,
   "metadata": {
    "collapsed": true,
    "deletable": true,
    "editable": true
   },
   "outputs": [],
   "source": [
    "\"\"\"\n",
    "DON'T MODIFY ANYTHING IN THIS CELL\n",
    "\"\"\"\n",
    "import pickle\n",
    "import problem_unittests as tests\n",
    "import helper\n",
    "\n",
    "# Load the Preprocessed Validation data\n",
    "valid_features, valid_labels = pickle.load(open('preprocess_validation.p', mode='rb'))"
   ]
  },
  {
   "cell_type": "markdown",
   "metadata": {
    "deletable": true,
    "editable": true
   },
   "source": [
    "## Build the network\n",
    "For the neural network, you'll build each layer into a function.  Most of the code you've seen has been outside of functions. To test your code more thoroughly, we require that you put each layer in a function.  This allows us to give you better feedback and test for simple mistakes using our unittests before you submit your project.\n",
    "\n",
    ">**Note:** If you're finding it hard to dedicate enough time for this course each week, we've provided a small shortcut to this part of the project. In the next couple of problems, you'll have the option to use classes from the [TensorFlow Layers](https://www.tensorflow.org/api_docs/python/tf/layers) or [TensorFlow Layers (contrib)](https://www.tensorflow.org/api_guides/python/contrib.layers) packages to build each layer, except the layers you build in the \"Convolutional and Max Pooling Layer\" section.  TF Layers is similar to Keras's and TFLearn's abstraction to layers, so it's easy to pickup.\n",
    "\n",
    ">However, if you would like to get the most out of this course, try to solve all the problems _without_ using anything from the TF Layers packages. You **can** still use classes from other packages that happen to have the same name as ones you find in TF Layers! For example, instead of using the TF Layers version of the `conv2d` class, [tf.layers.conv2d](https://www.tensorflow.org/api_docs/python/tf/layers/conv2d), you would want to use the TF Neural Network version of `conv2d`, [tf.nn.conv2d](https://www.tensorflow.org/api_docs/python/tf/nn/conv2d). \n",
    "\n",
    "Let's begin!\n",
    "\n",
    "### Input\n",
    "The neural network needs to read the image data, one-hot encoded labels, and dropout keep probability. Implement the following functions\n",
    "* Implement `neural_net_image_input`\n",
    " * Return a [TF Placeholder](https://www.tensorflow.org/api_docs/python/tf/placeholder)\n",
    " * Set the shape using `image_shape` with batch size set to `None`.\n",
    " * Name the TensorFlow placeholder \"x\" using the TensorFlow `name` parameter in the [TF Placeholder](https://www.tensorflow.org/api_docs/python/tf/placeholder).\n",
    "* Implement `neural_net_label_input`\n",
    " * Return a [TF Placeholder](https://www.tensorflow.org/api_docs/python/tf/placeholder)\n",
    " * Set the shape using `n_classes` with batch size set to `None`.\n",
    " * Name the TensorFlow placeholder \"y\" using the TensorFlow `name` parameter in the [TF Placeholder](https://www.tensorflow.org/api_docs/python/tf/placeholder).\n",
    "* Implement `neural_net_keep_prob_input`\n",
    " * Return a [TF Placeholder](https://www.tensorflow.org/api_docs/python/tf/placeholder) for dropout keep probability.\n",
    " * Name the TensorFlow placeholder \"keep_prob\" using the TensorFlow `name` parameter in the [TF Placeholder](https://www.tensorflow.org/api_docs/python/tf/placeholder).\n",
    "\n",
    "These names will be used at the end of the project to load your saved model.\n",
    "\n",
    "Note: `None` for shapes in TensorFlow allow for a dynamic size."
   ]
  },
  {
   "cell_type": "code",
   "execution_count": 40,
   "metadata": {
    "collapsed": false,
    "deletable": true,
    "editable": true
   },
   "outputs": [
    {
     "name": "stdout",
     "output_type": "stream",
     "text": [
      "Image Input Tests Passed.\n",
      "Label Input Tests Passed.\n",
      "Keep Prob Tests Passed.\n"
     ]
    }
   ],
   "source": [
    "import tensorflow as tf\n",
    "\n",
    "def neural_net_image_input(image_shape):\n",
    "    \"\"\"\n",
    "    Return a Tensor for a batch of image input\n",
    "    : image_shape: Shape of the images\n",
    "    : return: Tensor for image input.\n",
    "    \"\"\"\n",
    "    return tf.placeholder(tf.float32, shape=(None, *image_shape), name=\"x\")\n",
    "\n",
    "\n",
    "def neural_net_label_input(n_classes):\n",
    "    \"\"\"\n",
    "    Return a Tensor for a batch of label input\n",
    "    : n_classes: Number of classes\n",
    "    : return: Tensor for label input.\n",
    "    \"\"\"\n",
    "    return tf.placeholder(tf.float32, shape=(None, n_classes), name=\"y\")\n",
    "\n",
    "\n",
    "def neural_net_keep_prob_input():\n",
    "    \"\"\"\n",
    "    Return a Tensor for keep probability\n",
    "    : return: Tensor for keep probability.\n",
    "    \"\"\"\n",
    "    return tf.placeholder(tf.float32, name=\"keep_prob\")\n",
    "\n",
    "\n",
    "\"\"\"\n",
    "DON'T MODIFY ANYTHING IN THIS CELL THAT IS BELOW THIS LINE\n",
    "\"\"\"\n",
    "tf.reset_default_graph()\n",
    "tests.test_nn_image_inputs(neural_net_image_input)\n",
    "tests.test_nn_label_inputs(neural_net_label_input)\n",
    "tests.test_nn_keep_prob_inputs(neural_net_keep_prob_input)"
   ]
  },
  {
   "cell_type": "markdown",
   "metadata": {
    "deletable": true,
    "editable": true
   },
   "source": [
    "### Convolution and Max Pooling Layer\n",
    "Convolution layers have a lot of success with images. For this code cell, you should implement the function `conv2d_maxpool` to apply convolution then max pooling:\n",
    "* Create the weight and bias using `conv_ksize`, `conv_num_outputs` and the shape of `x_tensor`.\n",
    "* Apply a convolution to `x_tensor` using weight and `conv_strides`.\n",
    " * We recommend you use same padding, but you're welcome to use any padding.\n",
    "* Add bias\n",
    "* Add a nonlinear activation to the convolution.\n",
    "* Apply Max Pooling using `pool_ksize` and `pool_strides`.\n",
    " * We recommend you use same padding, but you're welcome to use any padding.\n",
    "\n",
    "**Note:** You **can't** use [TensorFlow Layers](https://www.tensorflow.org/api_docs/python/tf/layers) or [TensorFlow Layers (contrib)](https://www.tensorflow.org/api_guides/python/contrib.layers) for **this** layer, but you can still use TensorFlow's [Neural Network](https://www.tensorflow.org/api_docs/python/tf/nn) package. You may still use the shortcut option for all the **other** layers."
   ]
  },
  {
   "cell_type": "code",
   "execution_count": 41,
   "metadata": {
    "collapsed": false,
    "deletable": true,
    "editable": true
   },
   "outputs": [
    {
     "name": "stdout",
     "output_type": "stream",
     "text": [
      "Tests Passed\n"
     ]
    }
   ],
   "source": [
    "def conv2d_maxpool(x_tensor, conv_num_outputs, conv_ksize, conv_strides, pool_ksize, pool_strides):\n",
    "    \"\"\"\n",
    "    Apply convolution then max pooling to x_tensor\n",
    "    :param x_tensor: TensorFlow Tensor\n",
    "    :param conv_num_outputs: Number of outputs for the convolutional layer\n",
    "    :param conv_ksize: kernal size 2-D Tuple for the convolutional layer\n",
    "    :param conv_strides: Stride 2-D Tuple for convolution\n",
    "    :param pool_ksize: kernal size 2-D Tuple for pool\n",
    "    :param pool_strides: Stride 2-D Tuple for pool\n",
    "    : return: A tensor that represents convolution and max pooling of x_tensor\n",
    "    \"\"\"\n",
    "    # Filter (weights and bias)\n",
    "    # The shape of the filter weight is (height, width, input_depth, output_depth)\n",
    "    #  height/width = conv_ksize, input_depth = x_tensor.shape[3], output_depth = conv_num_outputs\n",
    "    # The shape of the filter bias is (output_depth)\n",
    "    F_W = tf.Variable(tf.truncated_normal(shape=[conv_ksize[0], conv_ksize[1], int(x_tensor.shape[3]), conv_num_outputs], stddev=0.1))\n",
    "    F_b = tf.Variable(tf.zeros([conv_num_outputs]))\n",
    "\n",
    "    # First convolution\n",
    "    padding = \"SAME\"\n",
    "    conv_strides = [1, *conv_strides, 1] # fix dimensions\n",
    "    net = tf.nn.conv2d(x_tensor, F_W, conv_strides, padding)\n",
    "    # apply bias\n",
    "    net = tf.nn.bias_add(net, F_b)\n",
    "    \n",
    "    # activation function\n",
    "    net = tf.nn.relu(net)\n",
    "    # pooling\n",
    "    pool_ksize = [1, *pool_ksize, 1] # add dimensions for batch_size and depth as 1\n",
    "    pool_strides = [1, *pool_strides, 1] # -\"-\n",
    "    net = tf.nn.max_pool(net, pool_ksize, pool_strides, padding)\n",
    "    return net\n",
    "\n",
    "\n",
    "\"\"\"\n",
    "DON'T MODIFY ANYTHING IN THIS CELL THAT IS BELOW THIS LINE\n",
    "\"\"\"\n",
    "tests.test_con_pool(conv2d_maxpool)"
   ]
  },
  {
   "cell_type": "markdown",
   "metadata": {
    "deletable": true,
    "editable": true
   },
   "source": [
    "### Flatten Layer\n",
    "Implement the `flatten` function to change the dimension of `x_tensor` from a 4-D tensor to a 2-D tensor.  The output should be the shape (*Batch Size*, *Flattened Image Size*). Shortcut option: you can use classes from the [TensorFlow Layers](https://www.tensorflow.org/api_docs/python/tf/layers) or [TensorFlow Layers (contrib)](https://www.tensorflow.org/api_guides/python/contrib.layers) packages for this layer. For more of a challenge, only use other TensorFlow packages."
   ]
  },
  {
   "cell_type": "code",
   "execution_count": 42,
   "metadata": {
    "collapsed": false,
    "deletable": true,
    "editable": true
   },
   "outputs": [
    {
     "name": "stdout",
     "output_type": "stream",
     "text": [
      "Tests Passed\n"
     ]
    }
   ],
   "source": [
    "def flatten(x_tensor):\n",
    "    \"\"\"\n",
    "    Flatten x_tensor to (Batch Size, Flattened Image Size)\n",
    "    : x_tensor: A tensor of size (Batch Size, ...), where ... are the image dimensions.\n",
    "    : return: A tensor of size (Batch Size, Flattened Image Size).\n",
    "    \"\"\"\n",
    "    dim_size = int(x_tensor.shape[1]) * int(x_tensor.shape[2]) * int(x_tensor.shape[3])\n",
    "    return tf.reshape(x_tensor, [-1, dim_size]) # why doesn't x_tensor.shape[0] work and what does -1 do?\n",
    "    # http://stackoverflow.com/questions/36668542/flatten-batch-in-tensorflow\n",
    "    # https://www.tensorflow.org/api_docs/python/tf/reshape\n",
    "\n",
    "\n",
    "\"\"\"\n",
    "DON'T MODIFY ANYTHING IN THIS CELL THAT IS BELOW THIS LINE\n",
    "\"\"\"\n",
    "tests.test_flatten(flatten)"
   ]
  },
  {
   "cell_type": "markdown",
   "metadata": {
    "deletable": true,
    "editable": true
   },
   "source": [
    "### Fully-Connected Layer\n",
    "Implement the `fully_conn` function to apply a fully connected layer to `x_tensor` with the shape (*Batch Size*, *num_outputs*). Shortcut option: you can use classes from the [TensorFlow Layers](https://www.tensorflow.org/api_docs/python/tf/layers) or [TensorFlow Layers (contrib)](https://www.tensorflow.org/api_guides/python/contrib.layers) packages for this layer. For more of a challenge, only use other TensorFlow packages."
   ]
  },
  {
   "cell_type": "code",
   "execution_count": 43,
   "metadata": {
    "collapsed": false,
    "deletable": true,
    "editable": true
   },
   "outputs": [
    {
     "name": "stdout",
     "output_type": "stream",
     "text": [
      "Tests Passed\n"
     ]
    }
   ],
   "source": [
    "def fully_conn(x_tensor, num_outputs):\n",
    "    \"\"\"\n",
    "    Apply a fully connected layer to x_tensor using weight and bias\n",
    "    : x_tensor: A 2-D tensor where the first dimension is batch size.\n",
    "    : num_outputs: The number of output that the new tensor should be.\n",
    "    : return: A 2-D tensor where the second dimension is num_outputs.\n",
    "    \"\"\"\n",
    "    weights = tf.Variable(tf.truncated_normal(shape=[int(x_tensor.shape[1]), num_outputs], stddev=0.1))\n",
    "    biases = tf.Variable(tf.zeros([num_outputs]))\n",
    "    net = tf.add(tf.matmul(x_tensor, weights), biases)\n",
    "    net = tf.nn.relu(net)\n",
    "    return net\n",
    "\n",
    "\n",
    "\"\"\"\n",
    "DON'T MODIFY ANYTHING IN THIS CELL THAT IS BELOW THIS LINE\n",
    "\"\"\"\n",
    "tests.test_fully_conn(fully_conn)"
   ]
  },
  {
   "cell_type": "markdown",
   "metadata": {
    "deletable": true,
    "editable": true
   },
   "source": [
    "### Output Layer\n",
    "Implement the `output` function to apply a fully connected layer to `x_tensor` with the shape (*Batch Size*, *num_outputs*). Shortcut option: you can use classes from the [TensorFlow Layers](https://www.tensorflow.org/api_docs/python/tf/layers) or [TensorFlow Layers (contrib)](https://www.tensorflow.org/api_guides/python/contrib.layers) packages for this layer. For more of a challenge, only use other TensorFlow packages.\n",
    "\n",
    "**Note:** Activation, softmax, or cross entropy should **not** be applied to this."
   ]
  },
  {
   "cell_type": "code",
   "execution_count": 44,
   "metadata": {
    "collapsed": false,
    "deletable": true,
    "editable": true
   },
   "outputs": [
    {
     "name": "stdout",
     "output_type": "stream",
     "text": [
      "Tests Passed\n"
     ]
    }
   ],
   "source": [
    "def output(x_tensor, num_outputs):\n",
    "    \"\"\"\n",
    "    Apply a output layer to x_tensor using weight and bias\n",
    "    : x_tensor: A 2-D tensor where the first dimension is batch size.\n",
    "    : num_outputs: The number of output that the new tensor should be.\n",
    "    : return: A 2-D tensor where the second dimension is num_outputs.\n",
    "    \"\"\"\n",
    "    weights = tf.Variable(tf.truncated_normal(shape=[int(x_tensor.shape[1]), num_outputs], stddev=0.1))\n",
    "    biases = tf.Variable(tf.zeros([num_outputs]))\n",
    "    net = tf.add(tf.matmul(x_tensor, weights), biases)\n",
    "    return net\n",
    "\n",
    "\n",
    "\"\"\"\n",
    "DON'T MODIFY ANYTHING IN THIS CELL THAT IS BELOW THIS LINE\n",
    "\"\"\"\n",
    "tests.test_output(output)"
   ]
  },
  {
   "cell_type": "markdown",
   "metadata": {
    "deletable": true,
    "editable": true
   },
   "source": [
    "### Create Convolutional Model\n",
    "Implement the function `conv_net` to create a convolutional neural network model. The function takes in a batch of images, `x`, and outputs logits.  Use the layers you created above to create this model:\n",
    "\n",
    "* Apply 1, 2, or 3 Convolution and Max Pool layers\n",
    "* Apply a Flatten Layer\n",
    "* Apply 1, 2, or 3 Fully Connected Layers\n",
    "* Apply an Output Layer\n",
    "* Return the output\n",
    "* Apply [TensorFlow's Dropout](https://www.tensorflow.org/api_docs/python/tf/nn/dropout) to one or more layers in the model using `keep_prob`. "
   ]
  },
  {
   "cell_type": "code",
   "execution_count": 61,
   "metadata": {
    "collapsed": false,
    "deletable": true,
    "editable": true
   },
   "outputs": [
    {
     "name": "stdout",
     "output_type": "stream",
     "text": [
      "Neural Network Built!\n"
     ]
    }
   ],
   "source": [
    "def conv_net(x, keep_prob):\n",
    "    \"\"\"\n",
    "    Create a convolutional neural network model\n",
    "    : x: Placeholder tensor that holds image data.\n",
    "    : keep_prob: Placeholder tensor that hold dropout keep probability.\n",
    "    : return: Tensor that represents logits\n",
    "    \"\"\"\n",
    "    # TODO: Apply 1, 2, or 3 Convolution and Max Pool layers\n",
    "    #    Play around with different number of outputs, kernel size and stride\n",
    "    # Function Definition from Above:\n",
    "    #    conv2d_maxpool(x_tensor, conv_num_outputs, conv_ksize, conv_strides, pool_ksize, pool_strides)\n",
    "    conv_ksize = [3, 3]\n",
    "    conv_stride = [2, 2]\n",
    "    pool_ksize = [2, 2]\n",
    "    pool_strides = [2, 2]\n",
    "    conv1 = conv2d_maxpool(x, 32, conv_ksize, conv_stride, pool_ksize, pool_strides)\n",
    "    \n",
    "    #conv2 = conv2d_maxpool(conv1, 64, conv_ksize, conv_stride, pool_ksize, pool_strides)\n",
    "    \n",
    "    conv3 = conv2d_maxpool(conv1, 64, conv_ksize, conv_stride, pool_ksize, pool_strides)\n",
    "    conv3 = tf.nn.dropout(conv3, keep_prob)\n",
    "\n",
    "    # TODO: Apply a Flatten Layer\n",
    "    # Function Definition from Above:\n",
    "    #   flatten(x_tensor)\n",
    "    flattened = flatten(conv3)\n",
    "    \n",
    "\n",
    "    # TODO: Apply 1, 2, or 3 Fully Connected Layers\n",
    "    #    Play around with different number of outputs\n",
    "    # Function Definition from Above:\n",
    "    #   fully_conn(x_tensor, num_outputs)\n",
    "    fc1 = fully_conn(flattened, 256)\n",
    "    fc2 = fully_conn(fc1, 32)\n",
    "    \n",
    "    \n",
    "    # TODO: Apply an Output Layer\n",
    "    #    Set this to the number of classes\n",
    "    # Function Definition from Above:\n",
    "    #   output(x_tensor, num_outputs)\n",
    "    net = output(fc1, 10)\n",
    "    \n",
    "    # TODO: return output\n",
    "    return net\n",
    "\n",
    "\n",
    "\"\"\"\n",
    "DON'T MODIFY ANYTHING IN THIS CELL THAT IS BELOW THIS LINE\n",
    "\"\"\"\n",
    "\n",
    "##############################\n",
    "## Build the Neural Network ##\n",
    "##############################\n",
    "\n",
    "# Remove previous weights, bias, inputs, etc..\n",
    "tf.reset_default_graph()\n",
    "\n",
    "# Inputs\n",
    "x = neural_net_image_input((32, 32, 3))\n",
    "y = neural_net_label_input(10)\n",
    "keep_prob = neural_net_keep_prob_input()\n",
    "\n",
    "# Model\n",
    "logits = conv_net(x, keep_prob)\n",
    "\n",
    "# Name logits Tensor, so that is can be loaded from disk after training\n",
    "logits = tf.identity(logits, name='logits')\n",
    "\n",
    "# Loss and Optimizer\n",
    "cost = tf.reduce_mean(tf.nn.softmax_cross_entropy_with_logits(logits=logits, labels=y))\n",
    "optimizer = tf.train.AdamOptimizer().minimize(cost)\n",
    "\n",
    "# Accuracy\n",
    "correct_pred = tf.equal(tf.argmax(logits, 1), tf.argmax(y, 1))\n",
    "accuracy = tf.reduce_mean(tf.cast(correct_pred, tf.float32), name='accuracy')\n",
    "\n",
    "tests.test_conv_net(conv_net)"
   ]
  },
  {
   "cell_type": "markdown",
   "metadata": {
    "deletable": true,
    "editable": true
   },
   "source": [
    "## Train the Neural Network\n",
    "### Single Optimization\n",
    "Implement the function `train_neural_network` to do a single optimization.  The optimization should use `optimizer` to optimize in `session` with a `feed_dict` of the following:\n",
    "* `x` for image input\n",
    "* `y` for labels\n",
    "* `keep_prob` for keep probability for dropout\n",
    "\n",
    "This function will be called for each batch, so `tf.global_variables_initializer()` has already been called.\n",
    "\n",
    "Note: Nothing needs to be returned. This function is only optimizing the neural network."
   ]
  },
  {
   "cell_type": "code",
   "execution_count": 46,
   "metadata": {
    "collapsed": false,
    "deletable": true,
    "editable": true
   },
   "outputs": [
    {
     "name": "stdout",
     "output_type": "stream",
     "text": [
      "Tests Passed\n"
     ]
    }
   ],
   "source": [
    "def train_neural_network(session, optimizer, keep_probability, feature_batch, label_batch):\n",
    "    \"\"\"\n",
    "    Optimize the session on a batch of images and labels\n",
    "    : session: Current TensorFlow session\n",
    "    : optimizer: TensorFlow optimizer function\n",
    "    : keep_probability: keep probability\n",
    "    : feature_batch: Batch of Numpy image data\n",
    "    : label_batch: Batch of Numpy label data\n",
    "    \"\"\"\n",
    "    session.run(optimizer, feed_dict={\n",
    "            x: feature_batch,\n",
    "            y: label_batch,\n",
    "            keep_prob: keep_probability})\n",
    "\n",
    "\n",
    "\"\"\"\n",
    "DON'T MODIFY ANYTHING IN THIS CELL THAT IS BELOW THIS LINE\n",
    "\"\"\"\n",
    "tests.test_train_nn(train_neural_network)"
   ]
  },
  {
   "cell_type": "markdown",
   "metadata": {
    "deletable": true,
    "editable": true
   },
   "source": [
    "### Show Stats\n",
    "Implement the function `print_stats` to print loss and validation accuracy.  Use the global variables `valid_features` and `valid_labels` to calculate validation accuracy.  Use a keep probability of `1.0` to calculate the loss and validation accuracy."
   ]
  },
  {
   "cell_type": "code",
   "execution_count": 47,
   "metadata": {
    "collapsed": true,
    "deletable": true,
    "editable": true
   },
   "outputs": [],
   "source": [
    "def print_stats(session, feature_batch, label_batch, cost, accuracy):\n",
    "    \"\"\"\n",
    "    Print information about loss and validation accuracy\n",
    "    : session: Current TensorFlow session\n",
    "    : feature_batch: Batch of Numpy image data\n",
    "    : label_batch: Batch of Numpy label data\n",
    "    : cost: TensorFlow cost function\n",
    "    : accuracy: TensorFlow accuracy function\n",
    "    \"\"\"\n",
    "    loss = session.run(cost, feed_dict={\n",
    "        x: feature_batch,\n",
    "        y: label_batch,\n",
    "        keep_prob: 1.0\n",
    "    })\n",
    "    accuracy = session.run(accuracy, feed_dict={\n",
    "        x: valid_features,\n",
    "        y: valid_labels,\n",
    "        keep_prob: 1.0\n",
    "    })\n",
    "    print(\"Loss: {:>10.4f}, Accuracy: {:.6f}\".format(loss, accuracy))"
   ]
  },
  {
   "cell_type": "markdown",
   "metadata": {
    "deletable": true,
    "editable": true
   },
   "source": [
    "### Hyperparameters\n",
    "Tune the following parameters:\n",
    "* Set `epochs` to the number of iterations until the network stops learning or start overfitting\n",
    "* Set `batch_size` to the highest number that your machine has memory for.  Most people set them to common sizes of memory:\n",
    " * 64\n",
    " * 128\n",
    " * 256\n",
    " * ...\n",
    "* Set `keep_probability` to the probability of keeping a node using dropout"
   ]
  },
  {
   "cell_type": "code",
   "execution_count": 48,
   "metadata": {
    "collapsed": true,
    "deletable": true,
    "editable": true
   },
   "outputs": [],
   "source": [
    "# TODO: Tune Parameters\n",
    "epochs = 40\n",
    "batch_size = 512\n",
    "keep_probability = 0.75"
   ]
  },
  {
   "cell_type": "markdown",
   "metadata": {
    "deletable": true,
    "editable": true
   },
   "source": [
    "### Train on a Single CIFAR-10 Batch\n",
    "Instead of training the neural network on all the CIFAR-10 batches of data, let's use a single batch. This should save time while you iterate on the model to get a better accuracy.  Once the final validation accuracy is 50% or greater, run the model on all the data in the next section."
   ]
  },
  {
   "cell_type": "code",
   "execution_count": 62,
   "metadata": {
    "collapsed": false,
    "deletable": true,
    "editable": true
   },
   "outputs": [
    {
     "name": "stdout",
     "output_type": "stream",
     "text": [
      "Checking the Training on a Single Batch...\n",
      "Epoch  1, CIFAR-10 Batch 1:  Loss:     2.1647, Accuracy: 0.253600\n",
      "Epoch  2, CIFAR-10 Batch 1:  Loss:     1.9928, Accuracy: 0.322600\n",
      "Epoch  3, CIFAR-10 Batch 1:  Loss:     1.8610, Accuracy: 0.367200\n",
      "Epoch  4, CIFAR-10 Batch 1:  Loss:     1.7786, Accuracy: 0.382800\n",
      "Epoch  5, CIFAR-10 Batch 1:  Loss:     1.7199, Accuracy: 0.406600\n",
      "Epoch  6, CIFAR-10 Batch 1:  Loss:     1.6726, Accuracy: 0.415200\n",
      "Epoch  7, CIFAR-10 Batch 1:  Loss:     1.6224, Accuracy: 0.420400\n",
      "Epoch  8, CIFAR-10 Batch 1:  Loss:     1.5938, Accuracy: 0.432800\n",
      "Epoch  9, CIFAR-10 Batch 1:  Loss:     1.5562, Accuracy: 0.436400\n",
      "Epoch 10, CIFAR-10 Batch 1:  Loss:     1.5244, Accuracy: 0.435600\n",
      "Epoch 11, CIFAR-10 Batch 1:  Loss:     1.4908, Accuracy: 0.448800\n",
      "Epoch 12, CIFAR-10 Batch 1:  Loss:     1.4567, Accuracy: 0.461000\n",
      "Epoch 13, CIFAR-10 Batch 1:  Loss:     1.4306, Accuracy: 0.456400\n",
      "Epoch 14, CIFAR-10 Batch 1:  Loss:     1.4103, Accuracy: 0.468800\n",
      "Epoch 15, CIFAR-10 Batch 1:  Loss:     1.3805, Accuracy: 0.470600\n",
      "Epoch 16, CIFAR-10 Batch 1:  Loss:     1.3533, Accuracy: 0.482600\n",
      "Epoch 17, CIFAR-10 Batch 1:  Loss:     1.3260, Accuracy: 0.484400\n",
      "Epoch 18, CIFAR-10 Batch 1:  Loss:     1.2948, Accuracy: 0.493800\n",
      "Epoch 19, CIFAR-10 Batch 1:  Loss:     1.2742, Accuracy: 0.493600\n",
      "Epoch 20, CIFAR-10 Batch 1:  Loss:     1.2557, Accuracy: 0.505000\n",
      "Epoch 21, CIFAR-10 Batch 1:  Loss:     1.2246, Accuracy: 0.506800\n",
      "Epoch 22, CIFAR-10 Batch 1:  Loss:     1.2020, Accuracy: 0.509000\n",
      "Epoch 23, CIFAR-10 Batch 1:  Loss:     1.1879, Accuracy: 0.512000\n",
      "Epoch 24, CIFAR-10 Batch 1:  Loss:     1.1720, Accuracy: 0.523200\n",
      "Epoch 25, CIFAR-10 Batch 1:  Loss:     1.1404, Accuracy: 0.517400\n",
      "Epoch 26, CIFAR-10 Batch 1:  Loss:     1.1283, Accuracy: 0.519600\n",
      "Epoch 27, CIFAR-10 Batch 1:  Loss:     1.1178, Accuracy: 0.523200\n",
      "Epoch 28, CIFAR-10 Batch 1:  Loss:     1.0979, Accuracy: 0.522400\n",
      "Epoch 29, CIFAR-10 Batch 1:  Loss:     1.0781, Accuracy: 0.527600\n",
      "Epoch 30, CIFAR-10 Batch 1:  Loss:     1.0786, Accuracy: 0.528600\n",
      "Epoch 31, CIFAR-10 Batch 1:  Loss:     1.0444, Accuracy: 0.531400\n",
      "Epoch 32, CIFAR-10 Batch 1:  Loss:     1.0406, Accuracy: 0.527600\n",
      "Epoch 33, CIFAR-10 Batch 1:  Loss:     1.0230, Accuracy: 0.539200\n",
      "Epoch 34, CIFAR-10 Batch 1:  Loss:     1.0056, Accuracy: 0.533000\n",
      "Epoch 35, CIFAR-10 Batch 1:  Loss:     0.9899, Accuracy: 0.537800\n",
      "Epoch 36, CIFAR-10 Batch 1:  Loss:     0.9604, Accuracy: 0.538200\n",
      "Epoch 37, CIFAR-10 Batch 1:  Loss:     0.9549, Accuracy: 0.540000\n",
      "Epoch 38, CIFAR-10 Batch 1:  Loss:     0.9460, Accuracy: 0.541000\n",
      "Epoch 39, CIFAR-10 Batch 1:  Loss:     0.9255, Accuracy: 0.549200\n",
      "Epoch 40, CIFAR-10 Batch 1:  Loss:     0.9376, Accuracy: 0.545000\n"
     ]
    }
   ],
   "source": [
    "\"\"\"\n",
    "DON'T MODIFY ANYTHING IN THIS CELL\n",
    "\"\"\"\n",
    "print('Checking the Training on a Single Batch...')\n",
    "with tf.Session() as sess:\n",
    "    # Initializing the variables\n",
    "    sess.run(tf.global_variables_initializer())\n",
    "    \n",
    "    # Training cycle\n",
    "    for epoch in range(epochs):\n",
    "        batch_i = 1\n",
    "        for batch_features, batch_labels in helper.load_preprocess_training_batch(batch_i, batch_size):\n",
    "            train_neural_network(sess, optimizer, keep_probability, batch_features, batch_labels)\n",
    "        print('Epoch {:>2}, CIFAR-10 Batch {}:  '.format(epoch + 1, batch_i), end='')\n",
    "        print_stats(sess, batch_features, batch_labels, cost, accuracy)"
   ]
  },
  {
   "cell_type": "markdown",
   "metadata": {
    "deletable": true,
    "editable": true
   },
   "source": [
    "### Fully Train the Model\n",
    "Now that you got a good accuracy with a single CIFAR-10 batch, try it with all five batches."
   ]
  },
  {
   "cell_type": "code",
   "execution_count": 63,
   "metadata": {
    "collapsed": false,
    "deletable": true,
    "editable": true
   },
   "outputs": [
    {
     "name": "stdout",
     "output_type": "stream",
     "text": [
      "Training...\n",
      "Epoch  1, CIFAR-10 Batch 1:  Loss:     2.1754, Accuracy: 0.236600\n",
      "Epoch  1, CIFAR-10 Batch 2:  Loss:     1.9121, Accuracy: 0.312800\n",
      "Epoch  1, CIFAR-10 Batch 3:  Loss:     1.6985, Accuracy: 0.355200\n",
      "Epoch  1, CIFAR-10 Batch 4:  Loss:     1.6785, Accuracy: 0.387600\n",
      "Epoch  1, CIFAR-10 Batch 5:  Loss:     1.7052, Accuracy: 0.391000\n",
      "Epoch  2, CIFAR-10 Batch 1:  Loss:     1.7332, Accuracy: 0.403200\n",
      "Epoch  2, CIFAR-10 Batch 2:  Loss:     1.6087, Accuracy: 0.424800\n",
      "Epoch  2, CIFAR-10 Batch 3:  Loss:     1.4106, Accuracy: 0.421600\n",
      "Epoch  2, CIFAR-10 Batch 4:  Loss:     1.4665, Accuracy: 0.446400\n",
      "Epoch  2, CIFAR-10 Batch 5:  Loss:     1.5256, Accuracy: 0.447400\n",
      "Epoch  3, CIFAR-10 Batch 1:  Loss:     1.5810, Accuracy: 0.459400\n",
      "Epoch  3, CIFAR-10 Batch 2:  Loss:     1.4991, Accuracy: 0.468600\n",
      "Epoch  3, CIFAR-10 Batch 3:  Loss:     1.2693, Accuracy: 0.469400\n",
      "Epoch  3, CIFAR-10 Batch 4:  Loss:     1.3444, Accuracy: 0.481000\n",
      "Epoch  3, CIFAR-10 Batch 5:  Loss:     1.4071, Accuracy: 0.482600\n",
      "Epoch  4, CIFAR-10 Batch 1:  Loss:     1.4940, Accuracy: 0.493200\n",
      "Epoch  4, CIFAR-10 Batch 2:  Loss:     1.3894, Accuracy: 0.506200\n",
      "Epoch  4, CIFAR-10 Batch 3:  Loss:     1.1858, Accuracy: 0.505200\n",
      "Epoch  4, CIFAR-10 Batch 4:  Loss:     1.2704, Accuracy: 0.512000\n",
      "Epoch  4, CIFAR-10 Batch 5:  Loss:     1.3286, Accuracy: 0.506800\n",
      "Epoch  5, CIFAR-10 Batch 1:  Loss:     1.4279, Accuracy: 0.519200\n",
      "Epoch  5, CIFAR-10 Batch 2:  Loss:     1.3207, Accuracy: 0.525200\n",
      "Epoch  5, CIFAR-10 Batch 3:  Loss:     1.1373, Accuracy: 0.517200\n",
      "Epoch  5, CIFAR-10 Batch 4:  Loss:     1.2156, Accuracy: 0.532400\n",
      "Epoch  5, CIFAR-10 Batch 5:  Loss:     1.2756, Accuracy: 0.523000\n",
      "Epoch  6, CIFAR-10 Batch 1:  Loss:     1.3743, Accuracy: 0.539200\n",
      "Epoch  6, CIFAR-10 Batch 2:  Loss:     1.2629, Accuracy: 0.543200\n",
      "Epoch  6, CIFAR-10 Batch 3:  Loss:     1.0933, Accuracy: 0.534000\n",
      "Epoch  6, CIFAR-10 Batch 4:  Loss:     1.1746, Accuracy: 0.552200\n",
      "Epoch  6, CIFAR-10 Batch 5:  Loss:     1.2226, Accuracy: 0.544200\n",
      "Epoch  7, CIFAR-10 Batch 1:  Loss:     1.3250, Accuracy: 0.557200\n",
      "Epoch  7, CIFAR-10 Batch 2:  Loss:     1.2212, Accuracy: 0.555200\n",
      "Epoch  7, CIFAR-10 Batch 3:  Loss:     1.0535, Accuracy: 0.548400\n",
      "Epoch  7, CIFAR-10 Batch 4:  Loss:     1.1273, Accuracy: 0.559000\n",
      "Epoch  7, CIFAR-10 Batch 5:  Loss:     1.1844, Accuracy: 0.553400\n",
      "Epoch  8, CIFAR-10 Batch 1:  Loss:     1.2945, Accuracy: 0.569200\n",
      "Epoch  8, CIFAR-10 Batch 2:  Loss:     1.1673, Accuracy: 0.571000\n",
      "Epoch  8, CIFAR-10 Batch 3:  Loss:     1.0280, Accuracy: 0.556400\n",
      "Epoch  8, CIFAR-10 Batch 4:  Loss:     1.0852, Accuracy: 0.569000\n",
      "Epoch  8, CIFAR-10 Batch 5:  Loss:     1.1428, Accuracy: 0.563400\n",
      "Epoch  9, CIFAR-10 Batch 1:  Loss:     1.2572, Accuracy: 0.575000\n",
      "Epoch  9, CIFAR-10 Batch 2:  Loss:     1.1396, Accuracy: 0.577600\n",
      "Epoch  9, CIFAR-10 Batch 3:  Loss:     1.0088, Accuracy: 0.565200\n",
      "Epoch  9, CIFAR-10 Batch 4:  Loss:     1.0502, Accuracy: 0.573600\n",
      "Epoch  9, CIFAR-10 Batch 5:  Loss:     1.1117, Accuracy: 0.575000\n",
      "Epoch 10, CIFAR-10 Batch 1:  Loss:     1.2148, Accuracy: 0.582000\n",
      "Epoch 10, CIFAR-10 Batch 2:  Loss:     1.1100, Accuracy: 0.580000\n",
      "Epoch 10, CIFAR-10 Batch 3:  Loss:     0.9669, Accuracy: 0.578000\n",
      "Epoch 10, CIFAR-10 Batch 4:  Loss:     1.0083, Accuracy: 0.590400\n",
      "Epoch 10, CIFAR-10 Batch 5:  Loss:     1.0811, Accuracy: 0.579400\n",
      "Epoch 11, CIFAR-10 Batch 1:  Loss:     1.1855, Accuracy: 0.589600\n",
      "Epoch 11, CIFAR-10 Batch 2:  Loss:     1.0830, Accuracy: 0.584400\n",
      "Epoch 11, CIFAR-10 Batch 3:  Loss:     0.9697, Accuracy: 0.582600\n",
      "Epoch 11, CIFAR-10 Batch 4:  Loss:     0.9870, Accuracy: 0.595200\n",
      "Epoch 11, CIFAR-10 Batch 5:  Loss:     1.0572, Accuracy: 0.592600\n",
      "Epoch 12, CIFAR-10 Batch 1:  Loss:     1.1672, Accuracy: 0.592600\n",
      "Epoch 12, CIFAR-10 Batch 2:  Loss:     1.0471, Accuracy: 0.586000\n",
      "Epoch 12, CIFAR-10 Batch 3:  Loss:     0.9456, Accuracy: 0.593000\n",
      "Epoch 12, CIFAR-10 Batch 4:  Loss:     0.9601, Accuracy: 0.600800\n",
      "Epoch 12, CIFAR-10 Batch 5:  Loss:     1.0324, Accuracy: 0.598600\n",
      "Epoch 13, CIFAR-10 Batch 1:  Loss:     1.1351, Accuracy: 0.593200\n",
      "Epoch 13, CIFAR-10 Batch 2:  Loss:     1.0584, Accuracy: 0.582000\n",
      "Epoch 13, CIFAR-10 Batch 3:  Loss:     0.9294, Accuracy: 0.600200\n",
      "Epoch 13, CIFAR-10 Batch 4:  Loss:     0.9340, Accuracy: 0.604400\n",
      "Epoch 13, CIFAR-10 Batch 5:  Loss:     1.0189, Accuracy: 0.601800\n",
      "Epoch 14, CIFAR-10 Batch 1:  Loss:     1.1166, Accuracy: 0.604400\n",
      "Epoch 14, CIFAR-10 Batch 2:  Loss:     1.0226, Accuracy: 0.589200\n",
      "Epoch 14, CIFAR-10 Batch 3:  Loss:     0.9230, Accuracy: 0.600000\n",
      "Epoch 14, CIFAR-10 Batch 4:  Loss:     0.9093, Accuracy: 0.605400\n",
      "Epoch 14, CIFAR-10 Batch 5:  Loss:     0.9861, Accuracy: 0.608200\n",
      "Epoch 15, CIFAR-10 Batch 1:  Loss:     1.1006, Accuracy: 0.606600\n",
      "Epoch 15, CIFAR-10 Batch 2:  Loss:     0.9874, Accuracy: 0.590200\n",
      "Epoch 15, CIFAR-10 Batch 3:  Loss:     0.8934, Accuracy: 0.610800\n",
      "Epoch 15, CIFAR-10 Batch 4:  Loss:     0.8879, Accuracy: 0.608400\n",
      "Epoch 15, CIFAR-10 Batch 5:  Loss:     0.9696, Accuracy: 0.607800\n",
      "Epoch 16, CIFAR-10 Batch 1:  Loss:     1.0651, Accuracy: 0.614000\n",
      "Epoch 16, CIFAR-10 Batch 2:  Loss:     0.9752, Accuracy: 0.597400\n",
      "Epoch 16, CIFAR-10 Batch 3:  Loss:     0.8846, Accuracy: 0.612000\n",
      "Epoch 16, CIFAR-10 Batch 4:  Loss:     0.8684, Accuracy: 0.615200\n",
      "Epoch 16, CIFAR-10 Batch 5:  Loss:     0.9434, Accuracy: 0.612400\n",
      "Epoch 17, CIFAR-10 Batch 1:  Loss:     1.0435, Accuracy: 0.614600\n",
      "Epoch 17, CIFAR-10 Batch 2:  Loss:     0.9602, Accuracy: 0.593800\n",
      "Epoch 17, CIFAR-10 Batch 3:  Loss:     0.8620, Accuracy: 0.617200\n",
      "Epoch 17, CIFAR-10 Batch 4:  Loss:     0.8551, Accuracy: 0.622600\n",
      "Epoch 17, CIFAR-10 Batch 5:  Loss:     0.9280, Accuracy: 0.611400\n",
      "Epoch 18, CIFAR-10 Batch 1:  Loss:     1.0336, Accuracy: 0.616600\n",
      "Epoch 18, CIFAR-10 Batch 2:  Loss:     0.9525, Accuracy: 0.602600\n",
      "Epoch 18, CIFAR-10 Batch 3:  Loss:     0.8490, Accuracy: 0.622200\n",
      "Epoch 18, CIFAR-10 Batch 4:  Loss:     0.8388, Accuracy: 0.625400\n",
      "Epoch 18, CIFAR-10 Batch 5:  Loss:     0.9041, Accuracy: 0.614800\n",
      "Epoch 19, CIFAR-10 Batch 1:  Loss:     1.0008, Accuracy: 0.625000\n",
      "Epoch 19, CIFAR-10 Batch 2:  Loss:     0.9180, Accuracy: 0.606800\n",
      "Epoch 19, CIFAR-10 Batch 3:  Loss:     0.8445, Accuracy: 0.619600\n",
      "Epoch 19, CIFAR-10 Batch 4:  Loss:     0.8203, Accuracy: 0.628200\n",
      "Epoch 19, CIFAR-10 Batch 5:  Loss:     0.8944, Accuracy: 0.620400\n",
      "Epoch 20, CIFAR-10 Batch 1:  Loss:     0.9835, Accuracy: 0.624200\n",
      "Epoch 20, CIFAR-10 Batch 2:  Loss:     0.9115, Accuracy: 0.605200\n",
      "Epoch 20, CIFAR-10 Batch 3:  Loss:     0.8205, Accuracy: 0.627400\n",
      "Epoch 20, CIFAR-10 Batch 4:  Loss:     0.8027, Accuracy: 0.627800\n",
      "Epoch 20, CIFAR-10 Batch 5:  Loss:     0.8853, Accuracy: 0.620200\n",
      "Epoch 21, CIFAR-10 Batch 1:  Loss:     0.9643, Accuracy: 0.629200\n",
      "Epoch 21, CIFAR-10 Batch 2:  Loss:     0.8942, Accuracy: 0.605800\n",
      "Epoch 21, CIFAR-10 Batch 3:  Loss:     0.8158, Accuracy: 0.628200\n",
      "Epoch 21, CIFAR-10 Batch 4:  Loss:     0.7884, Accuracy: 0.632600\n",
      "Epoch 21, CIFAR-10 Batch 5:  Loss:     0.8468, Accuracy: 0.631000\n",
      "Epoch 22, CIFAR-10 Batch 1:  Loss:     0.9549, Accuracy: 0.628800\n",
      "Epoch 22, CIFAR-10 Batch 2:  Loss:     0.8868, Accuracy: 0.612400\n",
      "Epoch 22, CIFAR-10 Batch 3:  Loss:     0.7976, Accuracy: 0.632000\n",
      "Epoch 22, CIFAR-10 Batch 4:  Loss:     0.7792, Accuracy: 0.633600\n",
      "Epoch 22, CIFAR-10 Batch 5:  Loss:     0.8278, Accuracy: 0.626400\n",
      "Epoch 23, CIFAR-10 Batch 1:  Loss:     0.9385, Accuracy: 0.634000\n",
      "Epoch 23, CIFAR-10 Batch 2:  Loss:     0.8666, Accuracy: 0.618400\n",
      "Epoch 23, CIFAR-10 Batch 3:  Loss:     0.7918, Accuracy: 0.634200\n",
      "Epoch 23, CIFAR-10 Batch 4:  Loss:     0.7718, Accuracy: 0.631800\n",
      "Epoch 23, CIFAR-10 Batch 5:  Loss:     0.8148, Accuracy: 0.633000\n",
      "Epoch 24, CIFAR-10 Batch 1:  Loss:     0.9168, Accuracy: 0.634400\n",
      "Epoch 24, CIFAR-10 Batch 2:  Loss:     0.8511, Accuracy: 0.627600\n",
      "Epoch 24, CIFAR-10 Batch 3:  Loss:     0.7916, Accuracy: 0.633600\n",
      "Epoch 24, CIFAR-10 Batch 4:  Loss:     0.7491, Accuracy: 0.637400\n",
      "Epoch 24, CIFAR-10 Batch 5:  Loss:     0.8052, Accuracy: 0.628600\n",
      "Epoch 25, CIFAR-10 Batch 1:  Loss:     0.9003, Accuracy: 0.632000\n",
      "Epoch 25, CIFAR-10 Batch 2:  Loss:     0.8377, Accuracy: 0.628200\n",
      "Epoch 25, CIFAR-10 Batch 3:  Loss:     0.7671, Accuracy: 0.639600\n",
      "Epoch 25, CIFAR-10 Batch 4:  Loss:     0.7399, Accuracy: 0.635200\n",
      "Epoch 25, CIFAR-10 Batch 5:  Loss:     0.7995, Accuracy: 0.628200\n",
      "Epoch 26, CIFAR-10 Batch 1:  Loss:     0.8831, Accuracy: 0.640200\n",
      "Epoch 26, CIFAR-10 Batch 2:  Loss:     0.8210, Accuracy: 0.626000\n",
      "Epoch 26, CIFAR-10 Batch 3:  Loss:     0.7600, Accuracy: 0.638600\n",
      "Epoch 26, CIFAR-10 Batch 4:  Loss:     0.7185, Accuracy: 0.642000\n",
      "Epoch 26, CIFAR-10 Batch 5:  Loss:     0.7771, Accuracy: 0.633400\n",
      "Epoch 27, CIFAR-10 Batch 1:  Loss:     0.8626, Accuracy: 0.644800\n",
      "Epoch 27, CIFAR-10 Batch 2:  Loss:     0.8110, Accuracy: 0.631600\n",
      "Epoch 27, CIFAR-10 Batch 3:  Loss:     0.7474, Accuracy: 0.639800\n",
      "Epoch 27, CIFAR-10 Batch 4:  Loss:     0.7115, Accuracy: 0.639000\n",
      "Epoch 27, CIFAR-10 Batch 5:  Loss:     0.7786, Accuracy: 0.634200\n",
      "Epoch 28, CIFAR-10 Batch 1:  Loss:     0.8475, Accuracy: 0.643800\n",
      "Epoch 28, CIFAR-10 Batch 2:  Loss:     0.8081, Accuracy: 0.634600\n",
      "Epoch 28, CIFAR-10 Batch 3:  Loss:     0.7436, Accuracy: 0.636600\n",
      "Epoch 28, CIFAR-10 Batch 4:  Loss:     0.7199, Accuracy: 0.641600\n",
      "Epoch 28, CIFAR-10 Batch 5:  Loss:     0.7474, Accuracy: 0.642600\n",
      "Epoch 29, CIFAR-10 Batch 1:  Loss:     0.8379, Accuracy: 0.641400\n",
      "Epoch 29, CIFAR-10 Batch 2:  Loss:     0.7865, Accuracy: 0.648000\n",
      "Epoch 29, CIFAR-10 Batch 3:  Loss:     0.7328, Accuracy: 0.636200\n",
      "Epoch 29, CIFAR-10 Batch 4:  Loss:     0.7056, Accuracy: 0.641400\n",
      "Epoch 29, CIFAR-10 Batch 5:  Loss:     0.7296, Accuracy: 0.643200\n",
      "Epoch 30, CIFAR-10 Batch 1:  Loss:     0.8149, Accuracy: 0.647800\n",
      "Epoch 30, CIFAR-10 Batch 2:  Loss:     0.7849, Accuracy: 0.645800\n",
      "Epoch 30, CIFAR-10 Batch 3:  Loss:     0.7147, Accuracy: 0.643800\n",
      "Epoch 30, CIFAR-10 Batch 4:  Loss:     0.6926, Accuracy: 0.646600\n",
      "Epoch 30, CIFAR-10 Batch 5:  Loss:     0.7251, Accuracy: 0.646200\n",
      "Epoch 31, CIFAR-10 Batch 1:  Loss:     0.8142, Accuracy: 0.649600\n",
      "Epoch 31, CIFAR-10 Batch 2:  Loss:     0.7760, Accuracy: 0.647600\n",
      "Epoch 31, CIFAR-10 Batch 3:  Loss:     0.7000, Accuracy: 0.646600\n",
      "Epoch 31, CIFAR-10 Batch 4:  Loss:     0.6768, Accuracy: 0.644200\n",
      "Epoch 31, CIFAR-10 Batch 5:  Loss:     0.7064, Accuracy: 0.643800\n",
      "Epoch 32, CIFAR-10 Batch 1:  Loss:     0.7969, Accuracy: 0.652000\n",
      "Epoch 32, CIFAR-10 Batch 2:  Loss:     0.7666, Accuracy: 0.647800\n",
      "Epoch 32, CIFAR-10 Batch 3:  Loss:     0.6957, Accuracy: 0.646200\n",
      "Epoch 32, CIFAR-10 Batch 4:  Loss:     0.6585, Accuracy: 0.650600\n",
      "Epoch 32, CIFAR-10 Batch 5:  Loss:     0.6919, Accuracy: 0.646800\n",
      "Epoch 33, CIFAR-10 Batch 1:  Loss:     0.7821, Accuracy: 0.655200\n",
      "Epoch 33, CIFAR-10 Batch 2:  Loss:     0.7571, Accuracy: 0.643800\n",
      "Epoch 33, CIFAR-10 Batch 3:  Loss:     0.6742, Accuracy: 0.650600\n",
      "Epoch 33, CIFAR-10 Batch 4:  Loss:     0.6523, Accuracy: 0.650000\n",
      "Epoch 33, CIFAR-10 Batch 5:  Loss:     0.6879, Accuracy: 0.643800\n",
      "Epoch 34, CIFAR-10 Batch 1:  Loss:     0.7796, Accuracy: 0.657000\n",
      "Epoch 34, CIFAR-10 Batch 2:  Loss:     0.7387, Accuracy: 0.647200\n",
      "Epoch 34, CIFAR-10 Batch 3:  Loss:     0.6783, Accuracy: 0.648000\n",
      "Epoch 34, CIFAR-10 Batch 4:  Loss:     0.6448, Accuracy: 0.654200\n",
      "Epoch 34, CIFAR-10 Batch 5:  Loss:     0.6712, Accuracy: 0.648800\n",
      "Epoch 35, CIFAR-10 Batch 1:  Loss:     0.7495, Accuracy: 0.656600\n",
      "Epoch 35, CIFAR-10 Batch 2:  Loss:     0.7215, Accuracy: 0.652600\n",
      "Epoch 35, CIFAR-10 Batch 3:  Loss:     0.6566, Accuracy: 0.655600\n",
      "Epoch 35, CIFAR-10 Batch 4:  Loss:     0.6335, Accuracy: 0.650000\n",
      "Epoch 35, CIFAR-10 Batch 5:  Loss:     0.6553, Accuracy: 0.654000\n",
      "Epoch 36, CIFAR-10 Batch 1:  Loss:     0.7389, Accuracy: 0.659600\n",
      "Epoch 36, CIFAR-10 Batch 2:  Loss:     0.7230, Accuracy: 0.652000\n",
      "Epoch 36, CIFAR-10 Batch 3:  Loss:     0.6488, Accuracy: 0.654800\n",
      "Epoch 36, CIFAR-10 Batch 4:  Loss:     0.6166, Accuracy: 0.651400\n",
      "Epoch 36, CIFAR-10 Batch 5:  Loss:     0.6637, Accuracy: 0.649200\n",
      "Epoch 37, CIFAR-10 Batch 1:  Loss:     0.7270, Accuracy: 0.664600\n",
      "Epoch 37, CIFAR-10 Batch 2:  Loss:     0.7053, Accuracy: 0.652200\n",
      "Epoch 37, CIFAR-10 Batch 3:  Loss:     0.6477, Accuracy: 0.650600\n",
      "Epoch 37, CIFAR-10 Batch 4:  Loss:     0.6186, Accuracy: 0.653200\n",
      "Epoch 37, CIFAR-10 Batch 5:  Loss:     0.6401, Accuracy: 0.649200\n",
      "Epoch 38, CIFAR-10 Batch 1:  Loss:     0.7036, Accuracy: 0.653400\n",
      "Epoch 38, CIFAR-10 Batch 2:  Loss:     0.6988, Accuracy: 0.652800\n",
      "Epoch 38, CIFAR-10 Batch 3:  Loss:     0.6430, Accuracy: 0.654000\n",
      "Epoch 38, CIFAR-10 Batch 4:  Loss:     0.6060, Accuracy: 0.657200\n",
      "Epoch 38, CIFAR-10 Batch 5:  Loss:     0.6394, Accuracy: 0.654600\n",
      "Epoch 39, CIFAR-10 Batch 1:  Loss:     0.7036, Accuracy: 0.661000\n",
      "Epoch 39, CIFAR-10 Batch 2:  Loss:     0.6985, Accuracy: 0.652400\n",
      "Epoch 39, CIFAR-10 Batch 3:  Loss:     0.6105, Accuracy: 0.657800\n",
      "Epoch 39, CIFAR-10 Batch 4:  Loss:     0.5917, Accuracy: 0.655000\n",
      "Epoch 39, CIFAR-10 Batch 5:  Loss:     0.6145, Accuracy: 0.658400\n",
      "Epoch 40, CIFAR-10 Batch 1:  Loss:     0.6865, Accuracy: 0.659000\n",
      "Epoch 40, CIFAR-10 Batch 2:  Loss:     0.6801, Accuracy: 0.649800\n",
      "Epoch 40, CIFAR-10 Batch 3:  Loss:     0.6194, Accuracy: 0.661200\n",
      "Epoch 40, CIFAR-10 Batch 4:  Loss:     0.5824, Accuracy: 0.658600\n",
      "Epoch 40, CIFAR-10 Batch 5:  Loss:     0.6114, Accuracy: 0.655400\n"
     ]
    }
   ],
   "source": [
    "\"\"\"\n",
    "DON'T MODIFY ANYTHING IN THIS CELL\n",
    "\"\"\"\n",
    "save_model_path = './image_classification'\n",
    "\n",
    "print('Training...')\n",
    "with tf.Session() as sess:\n",
    "    # Initializing the variables\n",
    "    sess.run(tf.global_variables_initializer())\n",
    "    \n",
    "    # Training cycle\n",
    "    for epoch in range(epochs):\n",
    "        # Loop over all batches\n",
    "        n_batches = 5\n",
    "        for batch_i in range(1, n_batches + 1):\n",
    "            for batch_features, batch_labels in helper.load_preprocess_training_batch(batch_i, batch_size):\n",
    "                train_neural_network(sess, optimizer, keep_probability, batch_features, batch_labels)\n",
    "            print('Epoch {:>2}, CIFAR-10 Batch {}:  '.format(epoch + 1, batch_i), end='')\n",
    "            print_stats(sess, batch_features, batch_labels, cost, accuracy)\n",
    "            \n",
    "    # Save Model\n",
    "    saver = tf.train.Saver()\n",
    "    save_path = saver.save(sess, save_model_path)"
   ]
  },
  {
   "cell_type": "markdown",
   "metadata": {
    "deletable": true,
    "editable": true
   },
   "source": [
    "# Checkpoint\n",
    "The model has been saved to disk.\n",
    "## Test Model\n",
    "Test your model against the test dataset.  This will be your final accuracy. You should have an accuracy greater than 50%. If you don't, keep tweaking the model architecture and parameters."
   ]
  },
  {
   "cell_type": "code",
   "execution_count": 64,
   "metadata": {
    "collapsed": false,
    "deletable": true,
    "editable": true
   },
   "outputs": [
    {
     "name": "stdout",
     "output_type": "stream",
     "text": [
      "Testing Accuracy: 0.6570140153169632\n",
      "\n"
     ]
    },
    {
     "data": {
      "image/png": "[encoded data removed]",
      "text/plain": [
       "<matplotlib.figure.Figure at 0x11c9ab668>"
      ]
     },
     "metadata": {
      "image/png": {
       "height": 319,
       "width": 355
      }
     },
     "output_type": "display_data"
    }
   ],
   "source": [
    "\"\"\"\n",
    "DON'T MODIFY ANYTHING IN THIS CELL\n",
    "\"\"\"\n",
    "%matplotlib inline\n",
    "%config InlineBackend.figure_format = 'retina'\n",
    "\n",
    "import tensorflow as tf\n",
    "import pickle\n",
    "import helper\n",
    "import random\n",
    "\n",
    "# Set batch size if not already set\n",
    "try:\n",
    "    if batch_size:\n",
    "        pass\n",
    "except NameError:\n",
    "    batch_size = 64\n",
    "\n",
    "save_model_path = './image_classification'\n",
    "n_samples = 4\n",
    "top_n_predictions = 3\n",
    "\n",
    "def test_model():\n",
    "    \"\"\"\n",
    "    Test the saved model against the test dataset\n",
    "    \"\"\"\n",
    "\n",
    "    test_features, test_labels = pickle.load(open('preprocess_test.p', mode='rb'))\n",
    "    loaded_graph = tf.Graph()\n",
    "\n",
    "    with tf.Session(graph=loaded_graph) as sess:\n",
    "        # Load model\n",
    "        loader = tf.train.import_meta_graph(save_model_path + '.meta')\n",
    "        loader.restore(sess, save_model_path)\n",
    "\n",
    "        # Get Tensors from loaded model\n",
    "        loaded_x = loaded_graph.get_tensor_by_name('x:0')\n",
    "        loaded_y = loaded_graph.get_tensor_by_name('y:0')\n",
    "        loaded_keep_prob = loaded_graph.get_tensor_by_name('keep_prob:0')\n",
    "        loaded_logits = loaded_graph.get_tensor_by_name('logits:0')\n",
    "        loaded_acc = loaded_graph.get_tensor_by_name('accuracy:0')\n",
    "        \n",
    "        # Get accuracy in batches for memory limitations\n",
    "        test_batch_acc_total = 0\n",
    "        test_batch_count = 0\n",
    "        \n",
    "        for test_feature_batch, test_label_batch in helper.batch_features_labels(test_features, test_labels, batch_size):\n",
    "            test_batch_acc_total += sess.run(\n",
    "                loaded_acc,\n",
    "                feed_dict={loaded_x: test_feature_batch, loaded_y: test_label_batch, loaded_keep_prob: 1.0})\n",
    "            test_batch_count += 1\n",
    "\n",
    "        print('Testing Accuracy: {}\\n'.format(test_batch_acc_total/test_batch_count))\n",
    "\n",
    "        # Print Random Samples\n",
    "        random_test_features, random_test_labels = tuple(zip(*random.sample(list(zip(test_features, test_labels)), n_samples)))\n",
    "        random_test_predictions = sess.run(\n",
    "            tf.nn.top_k(tf.nn.softmax(loaded_logits), top_n_predictions),\n",
    "            feed_dict={loaded_x: random_test_features, loaded_y: random_test_labels, loaded_keep_prob: 1.0})\n",
    "        helper.display_image_predictions(random_test_features, random_test_labels, random_test_predictions)\n",
    "\n",
    "\n",
    "test_model()"
   ]
  },
  {
   "cell_type": "markdown",
   "metadata": {
    "deletable": true,
    "editable": true
   },
   "source": [
    "## Why 50-80% Accuracy?\n",
    "You might be wondering why you can't get an accuracy any higher. First things first, 50% isn't bad for a simple CNN.  Pure guessing would get you 10% accuracy. However, you might notice people are getting scores [well above 80%](http://rodrigob.github.io/are_we_there_yet/build/classification_datasets_results.html#43494641522d3130).  That's because we haven't taught you all there is to know about neural networks. We still need to cover a few more techniques.\n",
    "## Submitting This Project\n",
    "When submitting this project, make sure to run all the cells before saving the notebook.  Save the notebook file as \"dlnd_image_classification.ipynb\" and save it as a HTML file under \"File\" -> \"Download as\".  Include the \"helper.py\" and \"problem_unittests.py\" files in your submission."
   ]
  }
 ],
 "metadata": {
  "kernelspec": {
   "display_name": "Python 3",
   "language": "python",
   "name": "python3"
  },
  "language_info": {
   "codemirror_mode": {
    "name": "ipython",
    "version": 3
   },
   "file_extension": ".py",
   "mimetype": "text/x-python",
   "name": "python",
   "nbconvert_exporter": "python",
   "pygments_lexer": "ipython3",
   "version": "3.6.0"
  }
 },
 "nbformat": 4,
 "nbformat_minor": 1
}
