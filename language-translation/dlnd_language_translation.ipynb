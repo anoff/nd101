{
 "cells": [
  {
   "cell_type": "markdown",
   "metadata": {
    "collapsed": true,
    "deletable": true,
    "editable": true
   },
   "source": [
    "# Language Translation\n",
    "In this project, you’re going to take a peek into the realm of neural network machine translation.  You’ll be training a sequence to sequence model on a dataset of English and French sentences that can translate new sentences from English to French.\n",
    "## Get the Data\n",
    "Since translating the whole language of English to French will take lots of time to train, we have provided you with a small portion of the English corpus."
   ]
  },
  {
   "cell_type": "code",
   "execution_count": 1,
   "metadata": {
    "collapsed": false,
    "deletable": true,
    "editable": true
   },
   "outputs": [],
   "source": [
    "\"\"\"\n",
    "DON'T MODIFY ANYTHING IN THIS CELL\n",
    "\"\"\"\n",
    "import helper\n",
    "import problem_unittests as tests\n",
    "\n",
    "source_path = 'data/small_vocab_en'\n",
    "target_path = 'data/small_vocab_fr'\n",
    "source_text = helper.load_data(source_path)\n",
    "target_text = helper.load_data(target_path)"
   ]
  },
  {
   "cell_type": "markdown",
   "metadata": {
    "deletable": true,
    "editable": true
   },
   "source": [
    "## Explore the Data\n",
    "Play around with view_sentence_range to view different parts of the data."
   ]
  },
  {
   "cell_type": "code",
   "execution_count": 2,
   "metadata": {
    "collapsed": false,
    "deletable": true,
    "editable": true
   },
   "outputs": [
    {
     "name": "stdout",
     "output_type": "stream",
     "text": [
      "Dataset Stats\n",
      "Roughly the number of unique words: 227\n",
      "Number of sentences: 137861\n",
      "Average number of words in a sentence: 13.225277634719028\n",
      "\n",
      "English sentences 0 to 10:\n",
      "new jersey is sometimes quiet during autumn , and it is snowy in april .\n",
      "the united states is usually chilly during july , and it is usually freezing in november .\n",
      "california is usually quiet during march , and it is usually hot in june .\n",
      "the united states is sometimes mild during june , and it is cold in september .\n",
      "your least liked fruit is the grape , but my least liked is the apple .\n",
      "his favorite fruit is the orange , but my favorite is the grape .\n",
      "paris is relaxing during december , but it is usually chilly in july .\n",
      "new jersey is busy during spring , and it is never hot in march .\n",
      "our least liked fruit is the lemon , but my least liked is the grape .\n",
      "the united states is sometimes busy during january , and it is sometimes warm in november .\n",
      "\n",
      "French sentences 0 to 10:\n",
      "new jersey est parfois calme pendant l' automne , et il est neigeux en avril .\n",
      "les états-unis est généralement froid en juillet , et il gèle habituellement en novembre .\n",
      "california est généralement calme en mars , et il est généralement chaud en juin .\n",
      "les états-unis est parfois légère en juin , et il fait froid en septembre .\n",
      "votre moins aimé fruit est le raisin , mais mon moins aimé est la pomme .\n",
      "son fruit préféré est l'orange , mais mon préféré est le raisin .\n",
      "paris est relaxant en décembre , mais il est généralement froid en juillet .\n",
      "new jersey est occupé au printemps , et il est jamais chaude en mars .\n",
      "notre fruit est moins aimé le citron , mais mon moins aimé est le raisin .\n",
      "les états-unis est parfois occupé en janvier , et il est parfois chaud en novembre .\n"
     ]
    }
   ],
   "source": [
    "view_sentence_range = (0, 10)\n",
    "\n",
    "\"\"\"\n",
    "DON'T MODIFY ANYTHING IN THIS CELL\n",
    "\"\"\"\n",
    "import numpy as np\n",
    "\n",
    "print('Dataset Stats')\n",
    "print('Roughly the number of unique words: {}'.format(len({word: None for word in source_text.split()})))\n",
    "\n",
    "sentences = source_text.split('\\n')\n",
    "word_counts = [len(sentence.split()) for sentence in sentences]\n",
    "print('Number of sentences: {}'.format(len(sentences)))\n",
    "print('Average number of words in a sentence: {}'.format(np.average(word_counts)))\n",
    "\n",
    "print()\n",
    "print('English sentences {} to {}:'.format(*view_sentence_range))\n",
    "print('\\n'.join(source_text.split('\\n')[view_sentence_range[0]:view_sentence_range[1]]))\n",
    "print()\n",
    "print('French sentences {} to {}:'.format(*view_sentence_range))\n",
    "print('\\n'.join(target_text.split('\\n')[view_sentence_range[0]:view_sentence_range[1]]))"
   ]
  },
  {
   "cell_type": "markdown",
   "metadata": {
    "deletable": true,
    "editable": true
   },
   "source": [
    "## Implement Preprocessing Function\n",
    "### Text to Word Ids\n",
    "As you did with other RNNs, you must turn the text into a number so the computer can understand it. In the function `text_to_ids()`, you'll turn `source_text` and `target_text` from words to ids.  However, you need to add the `<EOS>` word id at the end of `target_text`.  This will help the neural network predict when the sentence should end.\n",
    "\n",
    "You can get the `<EOS>` word id by doing:\n",
    "```python\n",
    "target_vocab_to_int['<EOS>']\n",
    "```\n",
    "You can get other word ids using `source_vocab_to_int` and `target_vocab_to_int`."
   ]
  },
  {
   "cell_type": "code",
   "execution_count": 3,
   "metadata": {
    "collapsed": false,
    "deletable": true,
    "editable": true
   },
   "outputs": [
    {
     "name": "stdout",
     "output_type": "stream",
     "text": [
      "Tests Passed\n"
     ]
    }
   ],
   "source": [
    "def text_to_ids(source_text, target_text, source_vocab_to_int, target_vocab_to_int):\n",
    "    \"\"\"\n",
    "    Convert source and target text to proper word ids\n",
    "    :param source_text: String that contains all the source text.\n",
    "    :param target_text: String that contains all the target text.\n",
    "    :param source_vocab_to_int: Dictionary to go from the source words to an id\n",
    "    :param target_vocab_to_int: Dictionary to go from the target words to an id\n",
    "    :return: A tuple of lists (source_id_text, target_id_text)\n",
    "    \"\"\"\n",
    "    source_ids = [[source_vocab_to_int[word] for word in entry.split()] for entry in source_text.split(\"\\n\")]\n",
    "    target_ids = [[target_vocab_to_int[word] for word in entry.split()] + [target_vocab_to_int['<EOS>']] for entry in target_text.split(\"\\n\")]\n",
    "    return source_ids, target_ids\n",
    "\n",
    "\"\"\"\n",
    "DON'T MODIFY ANYTHING IN THIS CELL THAT IS BELOW THIS LINE\n",
    "\"\"\"\n",
    "tests.test_text_to_ids(text_to_ids)"
   ]
  },
  {
   "cell_type": "markdown",
   "metadata": {
    "deletable": true,
    "editable": true
   },
   "source": [
    "### Preprocess all the data and save it\n",
    "Running the code cell below will preprocess all the data and save it to file."
   ]
  },
  {
   "cell_type": "code",
   "execution_count": 4,
   "metadata": {
    "collapsed": false,
    "deletable": true,
    "editable": true
   },
   "outputs": [],
   "source": [
    "\"\"\"\n",
    "DON'T MODIFY ANYTHING IN THIS CELL\n",
    "\"\"\"\n",
    "helper.preprocess_and_save_data(source_path, target_path, text_to_ids)"
   ]
  },
  {
   "cell_type": "markdown",
   "metadata": {
    "deletable": true,
    "editable": true
   },
   "source": [
    "# Check Point\n",
    "This is your first checkpoint. If you ever decide to come back to this notebook or have to restart the notebook, you can start from here. The preprocessed data has been saved to disk."
   ]
  },
  {
   "cell_type": "code",
   "execution_count": 2,
   "metadata": {
    "collapsed": false,
    "deletable": true,
    "editable": true
   },
   "outputs": [],
   "source": [
    "\"\"\"\n",
    "DON'T MODIFY ANYTHING IN THIS CELL\n",
    "\"\"\"\n",
    "import numpy as np\n",
    "import helper\n",
    "\n",
    "(source_int_text, target_int_text), (source_vocab_to_int, target_vocab_to_int), _ = helper.load_preprocess()"
   ]
  },
  {
   "cell_type": "markdown",
   "metadata": {
    "deletable": true,
    "editable": true
   },
   "source": [
    "### Check the Version of TensorFlow and Access to GPU\n",
    "This will check to make sure you have the correct version of TensorFlow and access to a GPU"
   ]
  },
  {
   "cell_type": "code",
   "execution_count": 3,
   "metadata": {
    "collapsed": false,
    "deletable": true,
    "editable": true
   },
   "outputs": [
    {
     "name": "stdout",
     "output_type": "stream",
     "text": [
      "TensorFlow Version: 1.1.0\n",
      "Default GPU Device: /gpu:0\n"
     ]
    }
   ],
   "source": [
    "\"\"\"\n",
    "DON'T MODIFY ANYTHING IN THIS CELL\n",
    "\"\"\"\n",
    "from distutils.version import LooseVersion\n",
    "import warnings\n",
    "import tensorflow as tf\n",
    "from tensorflow.python.layers.core import Dense\n",
    "\n",
    "# Check TensorFlow Version\n",
    "assert LooseVersion(tf.__version__) >= LooseVersion('1.1'), 'Please use TensorFlow version 1.1 or newer'\n",
    "print('TensorFlow Version: {}'.format(tf.__version__))\n",
    "\n",
    "# Check for a GPU\n",
    "if not tf.test.gpu_device_name():\n",
    "    warnings.warn('No GPU found. Please use a GPU to train your neural network.')\n",
    "else:\n",
    "    print('Default GPU Device: {}'.format(tf.test.gpu_device_name()))"
   ]
  },
  {
   "cell_type": "markdown",
   "metadata": {
    "deletable": true,
    "editable": true
   },
   "source": [
    "## Build the Neural Network\n",
    "You'll build the components necessary to build a Sequence-to-Sequence model by implementing the following functions below:\n",
    "- `model_inputs`\n",
    "- `process_decoder_input`\n",
    "- `encoding_layer`\n",
    "- `decoding_layer_train`\n",
    "- `decoding_layer_infer`\n",
    "- `decoding_layer`\n",
    "- `seq2seq_model`\n",
    "\n",
    "### Input\n",
    "Implement the `model_inputs()` function to create TF Placeholders for the Neural Network. It should create the following placeholders:\n",
    "\n",
    "- Input text placeholder named \"input\" using the TF Placeholder name parameter with rank 2.\n",
    "- Targets placeholder with rank 2.\n",
    "- Learning rate placeholder with rank 0.\n",
    "- Keep probability placeholder named \"keep_prob\" using the TF Placeholder name parameter with rank 0.\n",
    "- Target sequence length placeholder named \"target_sequence_length\" with rank 1\n",
    "- Max target sequence length tensor named \"max_target_len\" getting its value from applying tf.reduce_max on the target_sequence_length placeholder. Rank 0.\n",
    "- Source sequence length placeholder named \"source_sequence_length\" with rank 1\n",
    "\n",
    "Return the placeholders in the following the tuple (input, targets, learning rate, keep probability, target sequence length, max target sequence length, source sequence length)"
   ]
  },
  {
   "cell_type": "code",
   "execution_count": 4,
   "metadata": {
    "collapsed": false,
    "deletable": true,
    "editable": true
   },
   "outputs": [
    {
     "name": "stdout",
     "output_type": "stream",
     "text": [
      "Tests Passed\n"
     ]
    }
   ],
   "source": [
    "def model_inputs():\n",
    "    \"\"\"\n",
    "    Create TF Placeholders for input, targets, learning rate, and lengths of source and target sequences.\n",
    "    :return: Tuple (input, targets, learning rate, keep probability, target sequence length,\n",
    "    max target sequence length, source sequence length)\n",
    "    \"\"\"\n",
    "    input = tf.placeholder(dtype=tf.int32, shape=(None, None), name=\"input\")\n",
    "    targets = tf.placeholder(dtype=tf.int32, shape=(None, None), name=\"targets\")\n",
    "    lr = tf.placeholder(dtype=tf.float32, shape=(None), name=\"learnrate\")\n",
    "    keep_prob = tf.placeholder(dtype=tf.float32, shape=(None), name=\"keep_prob\")\n",
    "    target_seq_len = tf.placeholder(dtype=tf.int32, shape=(None, ), name=\"target_sequence_length\")\n",
    "    max_target_len = tf.reduce_max(target_seq_len, name=\"max_target_len\")\n",
    "    source_seq_len = tf.placeholder(dtype=tf.int32, shape=(None, ), name=\"source_sequence_length\")\n",
    "    return input, targets, lr, keep_prob, target_seq_len, max_target_len, source_seq_len\n",
    "\n",
    "\"\"\"\n",
    "DON'T MODIFY ANYTHING IN THIS CELL THAT IS BELOW THIS LINE\n",
    "\"\"\"\n",
    "tests.test_model_inputs(model_inputs)"
   ]
  },
  {
   "cell_type": "markdown",
   "metadata": {
    "deletable": true,
    "editable": true
   },
   "source": [
    "### Process Decoder Input\n",
    "Implement `process_decoder_input` by removing the last word id from each batch in `target_data` and concat the GO ID to the begining of each batch."
   ]
  },
  {
   "cell_type": "code",
   "execution_count": 5,
   "metadata": {
    "collapsed": false,
    "deletable": true,
    "editable": true
   },
   "outputs": [
    {
     "name": "stdout",
     "output_type": "stream",
     "text": [
      "Tests Passed\n"
     ]
    }
   ],
   "source": [
    "def process_decoder_input(target_data, target_vocab_to_int, batch_size):\n",
    "    \"\"\"\n",
    "    Preprocess target data for encoding\n",
    "    :param target_data: Target Placehoder\n",
    "    :param target_vocab_to_int: Dictionary to go from the target words to an id\n",
    "    :param batch_size: Batch Size\n",
    "    :return: Preprocessed target data\n",
    "    \"\"\"\n",
    "    x = tf.strided_slice(target_data, [0,0], [batch_size, -1], [1,1])\n",
    "    y = tf.concat([tf.fill([batch_size, 1], target_vocab_to_int['<GO>']), x], 1)\n",
    "    return y\n",
    "\n",
    "\"\"\"\n",
    "DON'T MODIFY ANYTHING IN THIS CELL THAT IS BELOW THIS LINE\n",
    "\"\"\"\n",
    "tests.test_process_encoding_input(process_decoder_input)"
   ]
  },
  {
   "cell_type": "markdown",
   "metadata": {
    "deletable": true,
    "editable": true
   },
   "source": [
    "### Encoding\n",
    "Implement `encoding_layer()` to create a Encoder RNN layer:\n",
    " * Embed the encoder input using [`tf.contrib.layers.embed_sequence`](https://www.tensorflow.org/api_docs/python/tf/contrib/layers/embed_sequence)\n",
    " * Construct a [stacked](https://github.com/tensorflow/tensorflow/blob/6947f65a374ebf29e74bb71e36fd82760056d82c/tensorflow/docs_src/tutorials/recurrent.md#stacking-multiple-lstms) [`tf.contrib.rnn.LSTMCell`](https://www.tensorflow.org/api_docs/python/tf/contrib/rnn/LSTMCell) wrapped in a [`tf.contrib.rnn.DropoutWrapper`](https://www.tensorflow.org/api_docs/python/tf/contrib/rnn/DropoutWrapper)\n",
    " * Pass cell and embedded input to [`tf.nn.dynamic_rnn()`](https://www.tensorflow.org/api_docs/python/tf/nn/dynamic_rnn)"
   ]
  },
  {
   "cell_type": "code",
   "execution_count": 6,
   "metadata": {
    "collapsed": false,
    "deletable": true,
    "editable": true,
    "scrolled": false
   },
   "outputs": [
    {
     "name": "stdout",
     "output_type": "stream",
     "text": [
      "Tests Passed\n"
     ]
    }
   ],
   "source": [
    "from imp import reload\n",
    "reload(tests)\n",
    "\n",
    "def encoding_layer(rnn_inputs, rnn_size, num_layers, keep_prob, \n",
    "                   source_sequence_length, source_vocab_size, \n",
    "                   encoding_embedding_size):\n",
    "    \"\"\"\n",
    "    Create encoding layer\n",
    "    :param rnn_inputs: Inputs for the RNN\n",
    "    :param rnn_size: RNN Size\n",
    "    :param num_layers: Number of layers\n",
    "    :param keep_prob: Dropout keep probability\n",
    "    :param source_sequence_length: a list of the lengths of each sequence in the batch\n",
    "    :param source_vocab_size: vocabulary size of source data\n",
    "    :param encoding_embedding_size: embedding size of source data\n",
    "    :return: tuple (RNN output, RNN state)\n",
    "    \"\"\"\n",
    "    embedded = tf.contrib.layers.embed_sequence(ids=rnn_inputs, vocab_size=source_vocab_size, embed_dim=encoding_embedding_size)\n",
    "    \n",
    "    \n",
    "    gen_cell = lambda: tf.contrib.rnn.LSTMCell(num_units=rnn_size, initializer=tf.random_uniform_initializer(-0.1, 0.1, seed=2))\n",
    "    \n",
    "    cells = tf.contrib.rnn.MultiRNNCell(cells=[gen_cell() for _ in range(num_layers)]) # new version of [cell]*5\n",
    "    drop = tf.contrib.rnn.DropoutWrapper(cell=cells, output_keep_prob=keep_prob)\n",
    "    output, state = tf.nn.dynamic_rnn(cell=drop, inputs=embedded, dtype=tf.float32)\n",
    "    return output, state\n",
    "\n",
    "\"\"\"\n",
    "DON'T MODIFY ANYTHING IN THIS CELL THAT IS BELOW THIS LINE\n",
    "\"\"\"\n",
    "tests.test_encoding_layer(encoding_layer)"
   ]
  },
  {
   "cell_type": "markdown",
   "metadata": {
    "deletable": true,
    "editable": true
   },
   "source": [
    "### Decoding - Training\n",
    "Create a training decoding layer:\n",
    "* Create a [`tf.contrib.seq2seq.TrainingHelper`](https://www.tensorflow.org/api_docs/python/tf/contrib/seq2seq/TrainingHelper) \n",
    "* Create a [`tf.contrib.seq2seq.BasicDecoder`](https://www.tensorflow.org/api_docs/python/tf/contrib/seq2seq/BasicDecoder)\n",
    "* Obtain the decoder outputs from [`tf.contrib.seq2seq.dynamic_decode`](https://www.tensorflow.org/api_docs/python/tf/contrib/seq2seq/dynamic_decode)"
   ]
  },
  {
   "cell_type": "code",
   "execution_count": 7,
   "metadata": {
    "collapsed": false,
    "deletable": true,
    "editable": true
   },
   "outputs": [
    {
     "name": "stdout",
     "output_type": "stream",
     "text": [
      "Tests Passed\n"
     ]
    }
   ],
   "source": [
    "\n",
    "def decoding_layer_train(encoder_state, dec_cell, dec_embed_input, \n",
    "                         target_sequence_length, max_summary_length, \n",
    "                         output_layer, keep_prob):\n",
    "    \"\"\"\n",
    "    Create a decoding layer for training\n",
    "    :param encoder_state: Encoder State\n",
    "    :param dec_cell: Decoder RNN Cell\n",
    "    :param dec_embed_input: Decoder embedded input\n",
    "    :param target_sequence_length: The lengths of each sequence in the target batch\n",
    "    :param max_summary_length: The length of the longest sequence in the batch\n",
    "    :param output_layer: Function to apply the output layer\n",
    "    :param keep_prob: Dropout keep probability\n",
    "    :return: BasicDecoderOutput containing training logits and sample_id\n",
    "    \"\"\"\n",
    "    training_helper = tf.contrib.seq2seq.TrainingHelper(inputs=dec_embed_input, sequence_length=target_sequence_length, time_major=False)\n",
    "    \n",
    "    decoder = tf.contrib.seq2seq.BasicDecoder(cell=dec_cell, helper=training_helper,\n",
    "                                                initial_state=encoder_state, output_layer=output_layer)\n",
    "    training_decoder_output, _ = tf.contrib.seq2seq.dynamic_decode(decoder, impute_finished=True,\n",
    "                                               maximum_iterations=max_summary_length)\n",
    "    return training_decoder_output\n",
    "\n",
    "\n",
    "\"\"\"\n",
    "DON'T MODIFY ANYTHING IN THIS CELL THAT IS BELOW THIS LINE\n",
    "\"\"\"\n",
    "tests.test_decoding_layer_train(decoding_layer_train)"
   ]
  },
  {
   "cell_type": "markdown",
   "metadata": {
    "deletable": true,
    "editable": true
   },
   "source": [
    "### Decoding - Inference\n",
    "Create inference decoder:\n",
    "* Create a [`tf.contrib.seq2seq.GreedyEmbeddingHelper`](https://www.tensorflow.org/api_docs/python/tf/contrib/seq2seq/GreedyEmbeddingHelper)\n",
    "* Create a [`tf.contrib.seq2seq.BasicDecoder`](https://www.tensorflow.org/api_docs/python/tf/contrib/seq2seq/BasicDecoder)\n",
    "* Obtain the decoder outputs from [`tf.contrib.seq2seq.dynamic_decode`](https://www.tensorflow.org/api_docs/python/tf/contrib/seq2seq/dynamic_decode)"
   ]
  },
  {
   "cell_type": "code",
   "execution_count": 8,
   "metadata": {
    "collapsed": false,
    "deletable": true,
    "editable": true,
    "scrolled": true
   },
   "outputs": [
    {
     "name": "stdout",
     "output_type": "stream",
     "text": [
      "Tests Passed\n"
     ]
    }
   ],
   "source": [
    "def decoding_layer_infer(encoder_state, dec_cell, dec_embeddings, start_of_sequence_id,\n",
    "                         end_of_sequence_id, max_target_sequence_length,\n",
    "                         vocab_size, output_layer, batch_size, keep_prob):\n",
    "    \"\"\"\n",
    "    Create a decoding layer for inference\n",
    "    :param encoder_state: Encoder state\n",
    "    :param dec_cell: Decoder RNN Cell\n",
    "    :param dec_embeddings: Decoder embeddings\n",
    "    :param start_of_sequence_id: GO ID\n",
    "    :param end_of_sequence_id: EOS Id\n",
    "    :param max_target_sequence_length: Maximum length of target sequences\n",
    "    :param vocab_size: Size of decoder/target vocabulary\n",
    "    :param decoding_scope: TenorFlow Variable Scope for decoding\n",
    "    :param output_layer: Function to apply the output layer\n",
    "    :param batch_size: Batch size\n",
    "    :param keep_prob: Dropout keep probability\n",
    "    :return: BasicDecoderOutput containing inference logits and sample_id\n",
    "    \"\"\"\n",
    "    start_tokens = tf.tile(tf.constant([start_of_sequence_id], dtype=tf.int32), [batch_size], name='start_tokens')\n",
    "    inference_helper = tf.contrib.seq2seq.GreedyEmbeddingHelper(dec_embeddings,\n",
    "                                        start_tokens, end_of_sequence_id)\n",
    "\n",
    "    # Basic decoder\n",
    "    inference_decoder = tf.contrib.seq2seq.BasicDecoder(dec_cell,\n",
    "                                        inference_helper, encoder_state, output_layer)\n",
    "\n",
    "    # Perform dynamic decoding using the decoder\n",
    "    inference_decoder_output, _ = tf.contrib.seq2seq.dynamic_decode(inference_decoder,\n",
    "                                        impute_finished=True,\n",
    "                                        maximum_iterations=max_target_sequence_length)\n",
    "    \n",
    "    return inference_decoder_output\n",
    "\n",
    "\n",
    "\n",
    "\"\"\"\n",
    "DON'T MODIFY ANYTHING IN THIS CELL THAT IS BELOW THIS LINE\n",
    "\"\"\"\n",
    "tests.test_decoding_layer_infer(decoding_layer_infer)"
   ]
  },
  {
   "cell_type": "markdown",
   "metadata": {
    "deletable": true,
    "editable": true
   },
   "source": [
    "### Build the Decoding Layer\n",
    "Implement `decoding_layer()` to create a Decoder RNN layer.\n",
    "\n",
    "* Embed the target sequences\n",
    "* Construct the decoder LSTM cell (just like you constructed the encoder cell above)\n",
    "* Create an output layer to map the outputs of the decoder to the elements of our vocabulary\n",
    "* Use the your `decoding_layer_train(encoder_state, dec_cell, dec_embed_input, target_sequence_length, max_target_sequence_length, output_layer, keep_prob)` function to get the training logits.\n",
    "* Use your `decoding_layer_infer(encoder_state, dec_cell, dec_embeddings, start_of_sequence_id, end_of_sequence_id, max_target_sequence_length, vocab_size, output_layer, batch_size, keep_prob)` function to get the inference logits.\n",
    "\n",
    "Note: You'll need to use [tf.variable_scope](https://www.tensorflow.org/api_docs/python/tf/variable_scope) to share variables between training and inference."
   ]
  },
  {
   "cell_type": "code",
   "execution_count": 9,
   "metadata": {
    "collapsed": false,
    "deletable": true,
    "editable": true
   },
   "outputs": [
    {
     "name": "stdout",
     "output_type": "stream",
     "text": [
      "Tests Passed\n"
     ]
    }
   ],
   "source": [
    "def decoding_layer(dec_input, encoder_state,\n",
    "                   target_sequence_length, max_target_sequence_length,\n",
    "                   rnn_size,\n",
    "                   num_layers, target_vocab_to_int, target_vocab_size,\n",
    "                   batch_size, keep_prob, decoding_embedding_size):\n",
    "    \"\"\"\n",
    "    Create decoding layer\n",
    "    :param dec_input: Decoder input\n",
    "    :param encoder_state: Encoder state\n",
    "    :param target_sequence_length: The lengths of each sequence in the target batch\n",
    "    :param max_target_sequence_length: Maximum length of target sequences\n",
    "    :param rnn_size: RNN Size\n",
    "    :param num_layers: Number of layers\n",
    "    :param target_vocab_to_int: Dictionary to go from the target words to an id\n",
    "    :param target_vocab_size: Size of target vocabulary\n",
    "    :param batch_size: The size of the batch\n",
    "    :param keep_prob: Dropout keep probability\n",
    "    :return: Tuple of (Training BasicDecoderOutput, Inference BasicDecoderOutput)\n",
    "    \"\"\"\n",
    "    start_of_sequence_id = target_vocab_to_int['<GO>']\n",
    "    end_of_sequence_id = target_vocab_to_int['<EOS>']\n",
    "    dec_embeddings = tf.Variable(tf.random_uniform([target_vocab_size, decoding_embedding_size]))\n",
    "    dec_embed_input = tf.nn.embedding_lookup(dec_embeddings, dec_input)\n",
    "    \n",
    "    gen_cell = lambda rnn_size: tf.contrib.rnn.LSTMCell(rnn_size, initializer=tf.random_uniform_initializer(-0.1, 0.1, seed=2))\n",
    "    \n",
    "    dec_cell = tf.contrib.rnn.MultiRNNCell([gen_cell(rnn_size) for _ in range(num_layers)])\n",
    "    \n",
    "    output_layer = Dense(units=target_vocab_size,\n",
    "                                kernel_initializer = tf.truncated_normal_initializer(mean = 0.0, stddev=0.1))\n",
    "    \n",
    "    with tf.variable_scope(\"decode\"):\n",
    "        training = decoding_layer_train(encoder_state, dec_cell, dec_embed_input, target_sequence_length,\n",
    "                                    max_target_sequence_length, output_layer, keep_prob)\n",
    "    #(encoder_state, dec_cell, dec_embed_input, target_sequence_length, max_summary_length, output_layer, keep_prob)\n",
    "    with tf.variable_scope(\"decode\", reuse=True):\n",
    "        inference = decoding_layer_infer(encoder_state, dec_cell, dec_embeddings, start_of_sequence_id, end_of_sequence_id,\n",
    "                                     max_target_sequence_length, target_vocab_size, output_layer, batch_size, keep_prob)\n",
    "    return training, inference\n",
    "\n",
    "\n",
    "\n",
    "\"\"\"\n",
    "DON'T MODIFY ANYTHING IN THIS CELL THAT IS BELOW THIS LINE\n",
    "\"\"\"\n",
    "tests.test_decoding_layer(decoding_layer)"
   ]
  },
  {
   "cell_type": "markdown",
   "metadata": {
    "deletable": true,
    "editable": true
   },
   "source": [
    "### Build the Neural Network\n",
    "Apply the functions you implemented above to:\n",
    "\n",
    "- Encode the input using your `encoding_layer(rnn_inputs, rnn_size, num_layers, keep_prob,  source_sequence_length, source_vocab_size, encoding_embedding_size)`.\n",
    "- Process target data using your `process_decoder_input(target_data, target_vocab_to_int, batch_size)` function.\n",
    "- Apply embedding to the target data for the decoder.\n",
    "- Decode the encoded input using your `decoding_layer(dec_input, enc_state, target_sequence_length, max_target_sentence_length, rnn_size, num_layers, target_vocab_to_int, target_vocab_size, batch_size, keep_prob, dec_embedding_size)` function."
   ]
  },
  {
   "cell_type": "code",
   "execution_count": 10,
   "metadata": {
    "collapsed": false,
    "deletable": true,
    "editable": true
   },
   "outputs": [
    {
     "name": "stdout",
     "output_type": "stream",
     "text": [
      "Tests Passed\n"
     ]
    }
   ],
   "source": [
    "def seq2seq_model(input_data, target_data, keep_prob, batch_size,\n",
    "                  source_sequence_length, target_sequence_length,\n",
    "                  max_target_sentence_length,\n",
    "                  source_vocab_size, target_vocab_size,\n",
    "                  enc_embedding_size, dec_embedding_size,\n",
    "                  rnn_size, num_layers, target_vocab_to_int):\n",
    "    \"\"\"\n",
    "    Build the Sequence-to-Sequence part of the neural network\n",
    "    :param input_data: Input placeholder\n",
    "    :param target_data: Target placeholder\n",
    "    :param keep_prob: Dropout keep probability placeholder\n",
    "    :param batch_size: Batch Size\n",
    "    :param source_sequence_length: Sequence Lengths of source sequences in the batch\n",
    "    :param target_sequence_length: Sequence Lengths of target sequences in the batch\n",
    "    :param source_vocab_size: Source vocabulary size\n",
    "    :param target_vocab_size: Target vocabulary size\n",
    "    :param enc_embedding_size: Decoder embedding size\n",
    "    :param dec_embedding_size: Encoder embedding size\n",
    "    :param rnn_size: RNN Size\n",
    "    :param num_layers: Number of layers\n",
    "    :param target_vocab_to_int: Dictionary to go from the target words to an id\n",
    "    :return: Tuple of (Training BasicDecoderOutput, Inference BasicDecoderOutput)\n",
    "    \"\"\"\n",
    "    \n",
    "    #Encode the input using your encoding_layer(rnn_inputs, rnn_size, num_layers, keep_prob,  source_sequence_length, source_vocab_size, encoding_embedding_size).\n",
    "    enc_output, enc_state = encoding_layer(input_data, rnn_size, num_layers, keep_prob, \n",
    "                   source_sequence_length, source_vocab_size, \n",
    "                   enc_embedding_size)\n",
    "    #Process target data using your process_decoder_input(target_data, target_vocab_to_int, batch_size) function.\n",
    "    dec_in = process_decoder_input(target_data, target_vocab_to_int, batch_size)\n",
    "    \n",
    "    #Apply embedding to the target data for the decoder.\n",
    "    #dec_in = tf.contrib.layers.embed_sequence(dec_in, target_vocab_size, dec_embedding_size)\n",
    "    \n",
    "    #Decode the encoded input using your decoding_layer(dec_input, enc_state, target_sequence_length, max_target_sentence_length, rnn_size, num_layers, target_vocab_to_int, target_vocab_size, batch_size, keep_prob, dec_embedding_size) function.\n",
    "    training, inference = decoding_layer(dec_in, enc_state, target_sequence_length, max_target_sentence_length,\n",
    "                                rnn_size, num_layers, target_vocab_to_int, target_vocab_size, batch_size,\n",
    "                                keep_prob, dec_embedding_size)\n",
    "\n",
    "    return training, inference\n",
    "\n",
    "\n",
    "\"\"\"\n",
    "DON'T MODIFY ANYTHING IN THIS CELL THAT IS BELOW THIS LINE\n",
    "\"\"\"\n",
    "tests.test_seq2seq_model(seq2seq_model)"
   ]
  },
  {
   "cell_type": "markdown",
   "metadata": {
    "deletable": true,
    "editable": true
   },
   "source": [
    "## Neural Network Training\n",
    "### Hyperparameters\n",
    "Tune the following parameters:\n",
    "\n",
    "- Set `epochs` to the number of epochs.\n",
    "- Set `batch_size` to the batch size.\n",
    "- Set `rnn_size` to the size of the RNNs.\n",
    "- Set `num_layers` to the number of layers.\n",
    "- Set `encoding_embedding_size` to the size of the embedding for the encoder.\n",
    "- Set `decoding_embedding_size` to the size of the embedding for the decoder.\n",
    "- Set `learning_rate` to the learning rate.\n",
    "- Set `keep_probability` to the Dropout keep probability\n",
    "- Set `display_step` to state how many steps between each debug output statement"
   ]
  },
  {
   "cell_type": "code",
   "execution_count": 15,
   "metadata": {
    "collapsed": true,
    "deletable": true,
    "editable": true
   },
   "outputs": [],
   "source": [
    "# Number of Epochs\n",
    "epochs = 10\n",
    "# Display every n-th step\n",
    "display_step = 10\n",
    "# Batch Size\n",
    "batch_size = 512\n",
    "# RNN Size\n",
    "rnn_size = 512\n",
    "# Number of Layers\n",
    "num_layers = 3\n",
    "# Embedding Size\n",
    "encoding_embedding_size = 256\n",
    "decoding_embedding_size = 256\n",
    "# Learning Rate\n",
    "learning_rate = 0.001\n",
    "# Dropout Keep Probability\n",
    "keep_probability = 0.8"
   ]
  },
  {
   "cell_type": "markdown",
   "metadata": {
    "deletable": true,
    "editable": true
   },
   "source": [
    "### Build the Graph\n",
    "Build the graph using the neural network you implemented."
   ]
  },
  {
   "cell_type": "code",
   "execution_count": 16,
   "metadata": {
    "collapsed": false,
    "deletable": true,
    "editable": true
   },
   "outputs": [],
   "source": [
    "\"\"\"\n",
    "DON'T MODIFY ANYTHING IN THIS CELL\n",
    "\"\"\"\n",
    "save_path = 'checkpoints/dev'\n",
    "(source_int_text, target_int_text), (source_vocab_to_int, target_vocab_to_int), _ = helper.load_preprocess()\n",
    "max_target_sentence_length = max([len(sentence) for sentence in source_int_text])\n",
    "\n",
    "train_graph = tf.Graph()\n",
    "with train_graph.as_default():\n",
    "    input_data, targets, lr, keep_prob, target_sequence_length, max_target_sequence_length, source_sequence_length = model_inputs()\n",
    "\n",
    "    #sequence_length = tf.placeholder_with_default(max_target_sentence_length, None, name='sequence_length')\n",
    "    input_shape = tf.shape(input_data)\n",
    "\n",
    "    train_logits, inference_logits = seq2seq_model(tf.reverse(input_data, [-1]),\n",
    "                                                   targets,\n",
    "                                                   keep_prob,\n",
    "                                                   batch_size,\n",
    "                                                   source_sequence_length,\n",
    "                                                   target_sequence_length,\n",
    "                                                   max_target_sequence_length,\n",
    "                                                   len(source_vocab_to_int),\n",
    "                                                   len(target_vocab_to_int),\n",
    "                                                   encoding_embedding_size,\n",
    "                                                   decoding_embedding_size,\n",
    "                                                   rnn_size,\n",
    "                                                   num_layers,\n",
    "                                                   target_vocab_to_int)\n",
    "\n",
    "\n",
    "    training_logits = tf.identity(train_logits.rnn_output, name='logits')\n",
    "    inference_logits = tf.identity(inference_logits.sample_id, name='predictions')\n",
    "\n",
    "    masks = tf.sequence_mask(target_sequence_length, max_target_sequence_length, dtype=tf.float32, name='masks')\n",
    "\n",
    "    with tf.name_scope(\"optimization\"):\n",
    "        # Loss function\n",
    "        cost = tf.contrib.seq2seq.sequence_loss(\n",
    "            training_logits,\n",
    "            targets,\n",
    "            masks)\n",
    "\n",
    "        # Optimizer\n",
    "        optimizer = tf.train.AdamOptimizer(lr)\n",
    "\n",
    "        # Gradient Clipping\n",
    "        gradients = optimizer.compute_gradients(cost)\n",
    "        capped_gradients = [(tf.clip_by_value(grad, -1., 1.), var) for grad, var in gradients if grad is not None]\n",
    "        train_op = optimizer.apply_gradients(capped_gradients)\n"
   ]
  },
  {
   "cell_type": "markdown",
   "metadata": {
    "deletable": true,
    "editable": true
   },
   "source": [
    "Batch and pad the source and target sequences"
   ]
  },
  {
   "cell_type": "code",
   "execution_count": 17,
   "metadata": {
    "collapsed": true,
    "deletable": true,
    "editable": true
   },
   "outputs": [],
   "source": [
    "\"\"\"\n",
    "DON'T MODIFY ANYTHING IN THIS CELL\n",
    "\"\"\"\n",
    "def pad_sentence_batch(sentence_batch, pad_int):\n",
    "    \"\"\"Pad sentences with <PAD> so that each sentence of a batch has the same length\"\"\"\n",
    "    max_sentence = max([len(sentence) for sentence in sentence_batch])\n",
    "    return [sentence + [pad_int] * (max_sentence - len(sentence)) for sentence in sentence_batch]\n",
    "\n",
    "\n",
    "def get_batches(sources, targets, batch_size, source_pad_int, target_pad_int):\n",
    "    \"\"\"Batch targets, sources, and the lengths of their sentences together\"\"\"\n",
    "    for batch_i in range(0, len(sources)//batch_size):\n",
    "        start_i = batch_i * batch_size\n",
    "\n",
    "        # Slice the right amount for the batch\n",
    "        sources_batch = sources[start_i:start_i + batch_size]\n",
    "        targets_batch = targets[start_i:start_i + batch_size]\n",
    "\n",
    "        # Pad\n",
    "        pad_sources_batch = np.array(pad_sentence_batch(sources_batch, source_pad_int))\n",
    "        pad_targets_batch = np.array(pad_sentence_batch(targets_batch, target_pad_int))\n",
    "\n",
    "        # Need the lengths for the _lengths parameters\n",
    "        pad_targets_lengths = []\n",
    "        for target in pad_targets_batch:\n",
    "            pad_targets_lengths.append(len(target))\n",
    "\n",
    "        pad_source_lengths = []\n",
    "        for source in pad_sources_batch:\n",
    "            pad_source_lengths.append(len(source))\n",
    "\n",
    "        yield pad_sources_batch, pad_targets_batch, pad_source_lengths, pad_targets_lengths\n"
   ]
  },
  {
   "cell_type": "markdown",
   "metadata": {
    "deletable": true,
    "editable": true
   },
   "source": [
    "### Train\n",
    "Train the neural network on the preprocessed data. If you have a hard time getting a good loss, check the forms to see if anyone is having the same problem."
   ]
  },
  {
   "cell_type": "code",
   "execution_count": 18,
   "metadata": {
    "collapsed": false,
    "deletable": true,
    "editable": true,
    "scrolled": true
   },
   "outputs": [
    {
     "name": "stdout",
     "output_type": "stream",
     "text": [
      "Epoch   0 Batch   10/269 - Train Accuracy: 0.3235, Validation Accuracy: 0.3895, Loss: 3.2952\n",
      "Epoch   0 Batch   20/269 - Train Accuracy: 0.3914, Validation Accuracy: 0.4427, Loss: 2.7741\n",
      "Epoch   0 Batch   30/269 - Train Accuracy: 0.4498, Validation Accuracy: 0.4761, Loss: 2.4391\n",
      "Epoch   0 Batch   40/269 - Train Accuracy: 0.4572, Validation Accuracy: 0.5012, Loss: 2.2814\n",
      "Epoch   0 Batch   50/269 - Train Accuracy: 0.4610, Validation Accuracy: 0.5070, Loss: 2.1064\n",
      "Epoch   0 Batch   60/269 - Train Accuracy: 0.4964, Validation Accuracy: 0.4972, Loss: 1.7918\n",
      "Epoch   0 Batch   70/269 - Train Accuracy: 0.5105, Validation Accuracy: 0.5150, Loss: 1.7045\n",
      "Epoch   0 Batch   80/269 - Train Accuracy: 0.4882, Validation Accuracy: 0.4927, Loss: 1.6511\n",
      "Epoch   0 Batch   90/269 - Train Accuracy: 0.4518, Validation Accuracy: 0.5208, Loss: 1.7053\n",
      "Epoch   0 Batch  100/269 - Train Accuracy: 0.5371, Validation Accuracy: 0.5354, Loss: 1.4442\n",
      "Epoch   0 Batch  110/269 - Train Accuracy: 0.5211, Validation Accuracy: 0.5414, Loss: 1.3714\n",
      "Epoch   0 Batch  120/269 - Train Accuracy: 0.4992, Validation Accuracy: 0.5391, Loss: 1.3476\n",
      "Epoch   0 Batch  130/269 - Train Accuracy: 0.5144, Validation Accuracy: 0.5528, Loss: 1.3184\n",
      "Epoch   0 Batch  140/269 - Train Accuracy: 0.5327, Validation Accuracy: 0.5415, Loss: 1.1839\n",
      "Epoch   0 Batch  150/269 - Train Accuracy: 0.5228, Validation Accuracy: 0.5458, Loss: 1.1426\n",
      "Epoch   0 Batch  160/269 - Train Accuracy: 0.5375, Validation Accuracy: 0.5462, Loss: 1.0738\n",
      "Epoch   0 Batch  170/269 - Train Accuracy: 0.5669, Validation Accuracy: 0.5819, Loss: 1.0101\n",
      "Epoch   0 Batch  180/269 - Train Accuracy: 0.5663, Validation Accuracy: 0.5724, Loss: 0.9604\n",
      "Epoch   0 Batch  190/269 - Train Accuracy: 0.5727, Validation Accuracy: 0.5905, Loss: 0.9277\n",
      "Epoch   0 Batch  200/269 - Train Accuracy: 0.5571, Validation Accuracy: 0.5852, Loss: 0.9355\n",
      "Epoch   0 Batch  210/269 - Train Accuracy: 0.5901, Validation Accuracy: 0.5888, Loss: 0.8594\n",
      "Epoch   0 Batch  220/269 - Train Accuracy: 0.5910, Validation Accuracy: 0.5889, Loss: 0.7894\n",
      "Epoch   0 Batch  230/269 - Train Accuracy: 0.5794, Validation Accuracy: 0.5914, Loss: 0.8156\n",
      "Epoch   0 Batch  240/269 - Train Accuracy: 0.5549, Validation Accuracy: 0.5314, Loss: 1.2096\n",
      "Epoch   0 Batch  250/269 - Train Accuracy: 0.5218, Validation Accuracy: 0.5530, Loss: 1.0515\n",
      "Epoch   0 Batch  260/269 - Train Accuracy: 0.5452, Validation Accuracy: 0.5634, Loss: 0.9550\n",
      "Epoch   1 Batch   10/269 - Train Accuracy: 0.5771, Validation Accuracy: 0.5907, Loss: 0.8210\n",
      "Epoch   1 Batch   20/269 - Train Accuracy: 0.5801, Validation Accuracy: 0.5927, Loss: 0.8037\n",
      "Epoch   1 Batch   30/269 - Train Accuracy: 0.5964, Validation Accuracy: 0.6015, Loss: 0.7355\n",
      "Epoch   1 Batch   40/269 - Train Accuracy: 0.5843, Validation Accuracy: 0.6088, Loss: 0.7589\n",
      "Epoch   1 Batch   50/269 - Train Accuracy: 0.5770, Validation Accuracy: 0.6019, Loss: 0.7412\n",
      "Epoch   1 Batch   60/269 - Train Accuracy: 0.6127, Validation Accuracy: 0.6087, Loss: 0.6635\n",
      "Epoch   1 Batch   70/269 - Train Accuracy: 0.6308, Validation Accuracy: 0.6156, Loss: 0.6731\n",
      "Epoch   1 Batch   80/269 - Train Accuracy: 0.6202, Validation Accuracy: 0.6218, Loss: 0.6620\n",
      "Epoch   1 Batch   90/269 - Train Accuracy: 0.5717, Validation Accuracy: 0.6240, Loss: 0.6924\n",
      "Epoch   1 Batch  100/269 - Train Accuracy: 0.6408, Validation Accuracy: 0.6319, Loss: 0.6325\n",
      "Epoch   1 Batch  110/269 - Train Accuracy: 0.6091, Validation Accuracy: 0.6349, Loss: 0.6116\n",
      "Epoch   1 Batch  120/269 - Train Accuracy: 0.6154, Validation Accuracy: 0.6339, Loss: 0.6195\n",
      "Epoch   1 Batch  130/269 - Train Accuracy: 0.6026, Validation Accuracy: 0.6225, Loss: 0.6092\n",
      "Epoch   1 Batch  140/269 - Train Accuracy: 0.6397, Validation Accuracy: 0.6487, Loss: 0.5916\n",
      "Epoch   1 Batch  150/269 - Train Accuracy: 0.6415, Validation Accuracy: 0.6328, Loss: 0.5684\n",
      "Epoch   1 Batch  160/269 - Train Accuracy: 0.6483, Validation Accuracy: 0.6491, Loss: 0.5488\n",
      "Epoch   1 Batch  170/269 - Train Accuracy: 0.6488, Validation Accuracy: 0.6572, Loss: 0.5393\n",
      "Epoch   1 Batch  180/269 - Train Accuracy: 0.6360, Validation Accuracy: 0.6513, Loss: 0.5323\n",
      "Epoch   1 Batch  190/269 - Train Accuracy: 0.6509, Validation Accuracy: 0.6500, Loss: 0.5181\n",
      "Epoch   1 Batch  200/269 - Train Accuracy: 0.6532, Validation Accuracy: 0.6635, Loss: 0.5338\n",
      "Epoch   1 Batch  210/269 - Train Accuracy: 0.6668, Validation Accuracy: 0.6688, Loss: 0.4977\n",
      "Epoch   1 Batch  220/269 - Train Accuracy: 0.6681, Validation Accuracy: 0.6674, Loss: 0.4723\n",
      "Epoch   1 Batch  230/269 - Train Accuracy: 0.6590, Validation Accuracy: 0.6599, Loss: 0.4964\n",
      "Epoch   1 Batch  240/269 - Train Accuracy: 0.6829, Validation Accuracy: 0.6573, Loss: 0.4464\n",
      "Epoch   1 Batch  250/269 - Train Accuracy: 0.6454, Validation Accuracy: 0.6559, Loss: 0.4907\n",
      "Epoch   1 Batch  260/269 - Train Accuracy: 0.6389, Validation Accuracy: 0.6662, Loss: 0.5034\n",
      "Epoch   2 Batch   10/269 - Train Accuracy: 0.6653, Validation Accuracy: 0.6806, Loss: 0.4909\n",
      "Epoch   2 Batch   20/269 - Train Accuracy: 0.6531, Validation Accuracy: 0.6722, Loss: 0.4722\n",
      "Epoch   2 Batch   30/269 - Train Accuracy: 0.6766, Validation Accuracy: 0.6838, Loss: 0.4539\n",
      "Epoch   2 Batch   40/269 - Train Accuracy: 0.6528, Validation Accuracy: 0.6839, Loss: 0.4712\n",
      "Epoch   2 Batch   50/269 - Train Accuracy: 0.6704, Validation Accuracy: 0.6777, Loss: 0.4619\n",
      "Epoch   2 Batch   60/269 - Train Accuracy: 0.6758, Validation Accuracy: 0.6689, Loss: 0.4196\n",
      "Epoch   2 Batch   70/269 - Train Accuracy: 0.6973, Validation Accuracy: 0.6715, Loss: 0.4194\n",
      "Epoch   2 Batch   80/269 - Train Accuracy: 0.7035, Validation Accuracy: 0.6976, Loss: 0.4094\n",
      "Epoch   2 Batch   90/269 - Train Accuracy: 0.6638, Validation Accuracy: 0.6968, Loss: 0.4294\n",
      "Epoch   2 Batch  100/269 - Train Accuracy: 0.7217, Validation Accuracy: 0.7124, Loss: 0.3849\n",
      "Epoch   2 Batch  110/269 - Train Accuracy: 0.6765, Validation Accuracy: 0.6867, Loss: 0.3785\n",
      "Epoch   2 Batch  120/269 - Train Accuracy: 0.7138, Validation Accuracy: 0.7182, Loss: 0.3822\n",
      "Epoch   2 Batch  130/269 - Train Accuracy: 0.7127, Validation Accuracy: 0.7213, Loss: 0.3705\n",
      "Epoch   2 Batch  140/269 - Train Accuracy: 0.6847, Validation Accuracy: 0.6979, Loss: 0.3724\n",
      "Epoch   2 Batch  150/269 - Train Accuracy: 0.7231, Validation Accuracy: 0.7154, Loss: 0.3496\n",
      "Epoch   2 Batch  160/269 - Train Accuracy: 0.7400, Validation Accuracy: 0.7340, Loss: 0.3229\n",
      "Epoch   2 Batch  170/269 - Train Accuracy: 0.7453, Validation Accuracy: 0.7391, Loss: 0.3153\n",
      "Epoch   2 Batch  180/269 - Train Accuracy: 0.7507, Validation Accuracy: 0.7576, Loss: 0.3108\n",
      "Epoch   2 Batch  190/269 - Train Accuracy: 0.7569, Validation Accuracy: 0.7545, Loss: 0.2840\n",
      "Epoch   2 Batch  200/269 - Train Accuracy: 0.6677, Validation Accuracy: 0.6894, Loss: 0.3717\n",
      "Epoch   2 Batch  210/269 - Train Accuracy: 0.7346, Validation Accuracy: 0.7144, Loss: 0.3197\n",
      "Epoch   2 Batch  220/269 - Train Accuracy: 0.7436, Validation Accuracy: 0.7477, Loss: 0.2718\n",
      "Epoch   2 Batch  230/269 - Train Accuracy: 0.7690, Validation Accuracy: 0.7665, Loss: 0.2711\n",
      "Epoch   2 Batch  240/269 - Train Accuracy: 0.8156, Validation Accuracy: 0.7829, Loss: 0.2271\n",
      "Epoch   2 Batch  250/269 - Train Accuracy: 0.8077, Validation Accuracy: 0.7941, Loss: 0.2414\n",
      "Epoch   2 Batch  260/269 - Train Accuracy: 0.7566, Validation Accuracy: 0.7925, Loss: 0.2400\n",
      "Epoch   3 Batch   10/269 - Train Accuracy: 0.8359, Validation Accuracy: 0.8113, Loss: 0.2201\n",
      "Epoch   3 Batch   20/269 - Train Accuracy: 0.8333, Validation Accuracy: 0.8424, Loss: 0.2013\n",
      "Epoch   3 Batch   30/269 - Train Accuracy: 0.8341, Validation Accuracy: 0.8163, Loss: 0.1874\n",
      "Epoch   3 Batch   40/269 - Train Accuracy: 0.8471, Validation Accuracy: 0.8556, Loss: 0.1852\n",
      "Epoch   3 Batch   50/269 - Train Accuracy: 0.8536, Validation Accuracy: 0.8600, Loss: 0.1845\n",
      "Epoch   3 Batch   60/269 - Train Accuracy: 0.8762, Validation Accuracy: 0.8786, Loss: 0.1508\n",
      "Epoch   3 Batch   70/269 - Train Accuracy: 0.8882, Validation Accuracy: 0.8853, Loss: 0.1484\n",
      "Epoch   3 Batch   80/269 - Train Accuracy: 0.8925, Validation Accuracy: 0.8958, Loss: 0.1333\n",
      "Epoch   3 Batch   90/269 - Train Accuracy: 0.8968, Validation Accuracy: 0.8855, Loss: 0.1337\n",
      "Epoch   3 Batch  100/269 - Train Accuracy: 0.8538, Validation Accuracy: 0.8382, Loss: 0.1562\n",
      "Epoch   3 Batch  110/269 - Train Accuracy: 0.8392, Validation Accuracy: 0.8330, Loss: 0.1701\n",
      "Epoch   3 Batch  120/269 - Train Accuracy: 0.8692, Validation Accuracy: 0.8775, Loss: 0.1432\n",
      "Epoch   3 Batch  130/269 - Train Accuracy: 0.8960, Validation Accuracy: 0.8845, Loss: 0.1278\n",
      "Epoch   3 Batch  140/269 - Train Accuracy: 0.8954, Validation Accuracy: 0.8960, Loss: 0.1161\n",
      "Epoch   3 Batch  150/269 - Train Accuracy: 0.8881, Validation Accuracy: 0.9048, Loss: 0.1053\n",
      "Epoch   3 Batch  160/269 - Train Accuracy: 0.9080, Validation Accuracy: 0.9114, Loss: 0.0945\n",
      "Epoch   3 Batch  170/269 - Train Accuracy: 0.9077, Validation Accuracy: 0.9168, Loss: 0.0878\n",
      "Epoch   3 Batch  180/269 - Train Accuracy: 0.9211, Validation Accuracy: 0.9320, Loss: 0.0802\n",
      "Epoch   3 Batch  190/269 - Train Accuracy: 0.9102, Validation Accuracy: 0.9185, Loss: 0.0783\n",
      "Epoch   3 Batch  200/269 - Train Accuracy: 0.9174, Validation Accuracy: 0.9019, Loss: 0.0773\n",
      "Epoch   3 Batch  210/269 - Train Accuracy: 0.9066, Validation Accuracy: 0.9215, Loss: 0.0783\n",
      "Epoch   3 Batch  220/269 - Train Accuracy: 0.9028, Validation Accuracy: 0.8999, Loss: 0.0718\n",
      "Epoch   3 Batch  230/269 - Train Accuracy: 0.9266, Validation Accuracy: 0.9222, Loss: 0.0734\n",
      "Epoch   3 Batch  240/269 - Train Accuracy: 0.9295, Validation Accuracy: 0.9274, Loss: 0.0631\n",
      "Epoch   3 Batch  250/269 - Train Accuracy: 0.9255, Validation Accuracy: 0.9204, Loss: 0.0646\n",
      "Epoch   3 Batch  260/269 - Train Accuracy: 0.9297, Validation Accuracy: 0.9278, Loss: 0.0732\n",
      "Epoch   4 Batch   10/269 - Train Accuracy: 0.9307, Validation Accuracy: 0.9316, Loss: 0.0564\n",
      "Epoch   4 Batch   20/269 - Train Accuracy: 0.9408, Validation Accuracy: 0.9316, Loss: 0.0582\n",
      "Epoch   4 Batch   30/269 - Train Accuracy: 0.9387, Validation Accuracy: 0.9351, Loss: 0.0574\n",
      "Epoch   4 Batch   40/269 - Train Accuracy: 0.9273, Validation Accuracy: 0.9249, Loss: 0.0626\n",
      "Epoch   4 Batch   50/269 - Train Accuracy: 0.9165, Validation Accuracy: 0.9292, Loss: 0.0631\n",
      "Epoch   4 Batch   60/269 - Train Accuracy: 0.9359, Validation Accuracy: 0.9394, Loss: 0.0494\n",
      "Epoch   4 Batch   70/269 - Train Accuracy: 0.9443, Validation Accuracy: 0.9300, Loss: 0.0526\n",
      "Epoch   4 Batch   80/269 - Train Accuracy: 0.9262, Validation Accuracy: 0.9351, Loss: 0.0468\n",
      "Epoch   4 Batch   90/269 - Train Accuracy: 0.9394, Validation Accuracy: 0.9371, Loss: 0.0514\n",
      "Epoch   4 Batch  100/269 - Train Accuracy: 0.9413, Validation Accuracy: 0.9411, Loss: 0.0493\n",
      "Epoch   4 Batch  110/269 - Train Accuracy: 0.9308, Validation Accuracy: 0.9384, Loss: 0.0432\n",
      "Epoch   4 Batch  120/269 - Train Accuracy: 0.9384, Validation Accuracy: 0.9420, Loss: 0.0491\n",
      "Epoch   4 Batch  130/269 - Train Accuracy: 0.9425, Validation Accuracy: 0.9453, Loss: 0.0498\n",
      "Epoch   4 Batch  140/269 - Train Accuracy: 0.9343, Validation Accuracy: 0.9355, Loss: 0.0480\n",
      "Epoch   4 Batch  150/269 - Train Accuracy: 0.9487, Validation Accuracy: 0.9408, Loss: 0.0467\n",
      "Epoch   4 Batch  160/269 - Train Accuracy: 0.9333, Validation Accuracy: 0.9474, Loss: 0.0418\n",
      "Epoch   4 Batch  170/269 - Train Accuracy: 0.9382, Validation Accuracy: 0.9415, Loss: 0.0397\n",
      "Epoch   4 Batch  180/269 - Train Accuracy: 0.9559, Validation Accuracy: 0.9536, Loss: 0.0369\n",
      "Epoch   4 Batch  190/269 - Train Accuracy: 0.9425, Validation Accuracy: 0.9464, Loss: 0.0402\n",
      "Epoch   4 Batch  200/269 - Train Accuracy: 0.9522, Validation Accuracy: 0.9346, Loss: 0.0373\n",
      "Epoch   4 Batch  210/269 - Train Accuracy: 0.9423, Validation Accuracy: 0.9475, Loss: 0.0387\n",
      "Epoch   4 Batch  220/269 - Train Accuracy: 0.9453, Validation Accuracy: 0.9494, Loss: 0.0388\n",
      "Epoch   4 Batch  230/269 - Train Accuracy: 0.9564, Validation Accuracy: 0.9566, Loss: 0.0380\n",
      "Epoch   4 Batch  240/269 - Train Accuracy: 0.9544, Validation Accuracy: 0.9536, Loss: 0.0344\n",
      "Epoch   4 Batch  250/269 - Train Accuracy: 0.9564, Validation Accuracy: 0.9443, Loss: 0.0342\n",
      "Epoch   4 Batch  260/269 - Train Accuracy: 0.9515, Validation Accuracy: 0.9506, Loss: 0.0430\n",
      "Epoch   5 Batch   10/269 - Train Accuracy: 0.9553, Validation Accuracy: 0.9479, Loss: 0.0320\n",
      "Epoch   5 Batch   20/269 - Train Accuracy: 0.9607, Validation Accuracy: 0.9569, Loss: 0.0330\n",
      "Epoch   5 Batch   30/269 - Train Accuracy: 0.9647, Validation Accuracy: 0.9504, Loss: 0.0341\n",
      "Epoch   5 Batch   40/269 - Train Accuracy: 0.9477, Validation Accuracy: 0.9542, Loss: 0.0381\n",
      "Epoch   5 Batch   50/269 - Train Accuracy: 0.9479, Validation Accuracy: 0.9509, Loss: 0.0390\n",
      "Epoch   5 Batch   60/269 - Train Accuracy: 0.9616, Validation Accuracy: 0.9563, Loss: 0.0313\n",
      "Epoch   5 Batch   70/269 - Train Accuracy: 0.9531, Validation Accuracy: 0.9446, Loss: 0.0336\n",
      "Epoch   5 Batch   80/269 - Train Accuracy: 0.9555, Validation Accuracy: 0.9498, Loss: 0.0285\n",
      "Epoch   5 Batch   90/269 - Train Accuracy: 0.9556, Validation Accuracy: 0.9578, Loss: 0.0333\n",
      "Epoch   5 Batch  100/269 - Train Accuracy: 0.9657, Validation Accuracy: 0.9541, Loss: 0.0309\n",
      "Epoch   5 Batch  110/269 - Train Accuracy: 0.9515, Validation Accuracy: 0.9525, Loss: 0.0262\n",
      "Epoch   5 Batch  120/269 - Train Accuracy: 0.9507, Validation Accuracy: 0.9561, Loss: 0.0318\n",
      "Epoch   5 Batch  130/269 - Train Accuracy: 0.9627, Validation Accuracy: 0.9615, Loss: 0.0328\n",
      "Epoch   5 Batch  140/269 - Train Accuracy: 0.9561, Validation Accuracy: 0.9550, Loss: 0.0325\n",
      "Epoch   5 Batch  150/269 - Train Accuracy: 0.9669, Validation Accuracy: 0.9507, Loss: 0.0326\n",
      "Epoch   5 Batch  160/269 - Train Accuracy: 0.9618, Validation Accuracy: 0.9539, Loss: 0.0282\n",
      "Epoch   5 Batch  170/269 - Train Accuracy: 0.9515, Validation Accuracy: 0.9543, Loss: 0.0257\n",
      "Epoch   5 Batch  180/269 - Train Accuracy: 0.9658, Validation Accuracy: 0.9659, Loss: 0.0244\n",
      "Epoch   5 Batch  190/269 - Train Accuracy: 0.9576, Validation Accuracy: 0.9600, Loss: 0.0283\n",
      "Epoch   5 Batch  200/269 - Train Accuracy: 0.9687, Validation Accuracy: 0.9451, Loss: 0.0238\n",
      "Epoch   5 Batch  210/269 - Train Accuracy: 0.9641, Validation Accuracy: 0.9583, Loss: 0.0258\n",
      "Epoch   5 Batch  220/269 - Train Accuracy: 0.9585, Validation Accuracy: 0.9523, Loss: 0.0291\n",
      "Epoch   5 Batch  230/269 - Train Accuracy: 0.9667, Validation Accuracy: 0.9703, Loss: 0.0264\n",
      "Epoch   5 Batch  240/269 - Train Accuracy: 0.9700, Validation Accuracy: 0.9664, Loss: 0.0242\n",
      "Epoch   5 Batch  250/269 - Train Accuracy: 0.9645, Validation Accuracy: 0.9647, Loss: 0.0241\n",
      "Epoch   5 Batch  260/269 - Train Accuracy: 0.9652, Validation Accuracy: 0.9616, Loss: 0.0303\n",
      "Epoch   6 Batch   10/269 - Train Accuracy: 0.9684, Validation Accuracy: 0.9617, Loss: 0.0225\n",
      "Epoch   6 Batch   20/269 - Train Accuracy: 0.9690, Validation Accuracy: 0.9644, Loss: 0.0230\n",
      "Epoch   6 Batch   30/269 - Train Accuracy: 0.9714, Validation Accuracy: 0.9647, Loss: 0.0247\n",
      "Epoch   6 Batch   40/269 - Train Accuracy: 0.9644, Validation Accuracy: 0.9613, Loss: 0.0277\n",
      "Epoch   6 Batch   50/269 - Train Accuracy: 0.9592, Validation Accuracy: 0.9625, Loss: 0.0285\n",
      "Epoch   6 Batch   60/269 - Train Accuracy: 0.9708, Validation Accuracy: 0.9633, Loss: 0.0228\n",
      "Epoch   6 Batch   70/269 - Train Accuracy: 0.9647, Validation Accuracy: 0.9589, Loss: 0.0227\n",
      "Epoch   6 Batch   80/269 - Train Accuracy: 0.9680, Validation Accuracy: 0.9641, Loss: 0.0214\n",
      "Epoch   6 Batch   90/269 - Train Accuracy: 0.9697, Validation Accuracy: 0.9647, Loss: 0.0231\n",
      "Epoch   6 Batch  100/269 - Train Accuracy: 0.9733, Validation Accuracy: 0.9611, Loss: 0.0210\n",
      "Epoch   6 Batch  110/269 - Train Accuracy: 0.9691, Validation Accuracy: 0.9636, Loss: 0.0182\n",
      "Epoch   6 Batch  120/269 - Train Accuracy: 0.9645, Validation Accuracy: 0.9670, Loss: 0.0225\n",
      "Epoch   6 Batch  130/269 - Train Accuracy: 0.9698, Validation Accuracy: 0.9657, Loss: 0.0256\n",
      "Epoch   6 Batch  140/269 - Train Accuracy: 0.9619, Validation Accuracy: 0.9626, Loss: 0.0242\n",
      "Epoch   6 Batch  150/269 - Train Accuracy: 0.9718, Validation Accuracy: 0.9557, Loss: 0.0231\n",
      "Epoch   6 Batch  160/269 - Train Accuracy: 0.9677, Validation Accuracy: 0.9620, Loss: 0.0186\n",
      "Epoch   6 Batch  170/269 - Train Accuracy: 0.9702, Validation Accuracy: 0.9648, Loss: 0.0188\n",
      "Epoch   6 Batch  180/269 - Train Accuracy: 0.9779, Validation Accuracy: 0.9706, Loss: 0.0179\n",
      "Epoch   6 Batch  190/269 - Train Accuracy: 0.9696, Validation Accuracy: 0.9623, Loss: 0.0226\n",
      "Epoch   6 Batch  200/269 - Train Accuracy: 0.9822, Validation Accuracy: 0.9600, Loss: 0.0181\n",
      "Epoch   6 Batch  210/269 - Train Accuracy: 0.9658, Validation Accuracy: 0.9677, Loss: 0.0198\n",
      "Epoch   6 Batch  220/269 - Train Accuracy: 0.9686, Validation Accuracy: 0.9730, Loss: 0.0215\n",
      "Epoch   6 Batch  230/269 - Train Accuracy: 0.9746, Validation Accuracy: 0.9728, Loss: 0.0192\n",
      "Epoch   6 Batch  240/269 - Train Accuracy: 0.9746, Validation Accuracy: 0.9660, Loss: 0.0187\n",
      "Epoch   6 Batch  250/269 - Train Accuracy: 0.9745, Validation Accuracy: 0.9633, Loss: 0.0172\n",
      "Epoch   6 Batch  260/269 - Train Accuracy: 0.9746, Validation Accuracy: 0.9665, Loss: 0.0223\n",
      "Epoch   7 Batch   10/269 - Train Accuracy: 0.9822, Validation Accuracy: 0.9675, Loss: 0.0160\n",
      "Epoch   7 Batch   20/269 - Train Accuracy: 0.9779, Validation Accuracy: 0.9730, Loss: 0.0177\n",
      "Epoch   7 Batch   30/269 - Train Accuracy: 0.9769, Validation Accuracy: 0.9656, Loss: 0.0197\n",
      "Epoch   7 Batch   40/269 - Train Accuracy: 0.9771, Validation Accuracy: 0.9668, Loss: 0.0210\n",
      "Epoch   7 Batch   50/269 - Train Accuracy: 0.9692, Validation Accuracy: 0.9723, Loss: 0.0229\n",
      "Epoch   7 Batch   60/269 - Train Accuracy: 0.9781, Validation Accuracy: 0.9712, Loss: 0.0183\n",
      "Epoch   7 Batch   70/269 - Train Accuracy: 0.9738, Validation Accuracy: 0.9711, Loss: 0.0173\n",
      "Epoch   7 Batch   80/269 - Train Accuracy: 0.9735, Validation Accuracy: 0.9721, Loss: 0.0171\n",
      "Epoch   7 Batch   90/269 - Train Accuracy: 0.9785, Validation Accuracy: 0.9697, Loss: 0.0180\n",
      "Epoch   7 Batch  100/269 - Train Accuracy: 0.9796, Validation Accuracy: 0.9645, Loss: 0.0168\n",
      "Epoch   7 Batch  110/269 - Train Accuracy: 0.9800, Validation Accuracy: 0.9701, Loss: 0.0143\n",
      "Epoch   7 Batch  120/269 - Train Accuracy: 0.9786, Validation Accuracy: 0.9692, Loss: 0.0197\n",
      "Epoch   7 Batch  130/269 - Train Accuracy: 0.9800, Validation Accuracy: 0.9676, Loss: 0.0209\n",
      "Epoch   7 Batch  140/269 - Train Accuracy: 0.9672, Validation Accuracy: 0.9631, Loss: 0.0199\n",
      "Epoch   7 Batch  150/269 - Train Accuracy: 0.9800, Validation Accuracy: 0.9609, Loss: 0.0184\n",
      "Epoch   7 Batch  160/269 - Train Accuracy: 0.9806, Validation Accuracy: 0.9646, Loss: 0.0175\n",
      "Epoch   7 Batch  170/269 - Train Accuracy: 0.9794, Validation Accuracy: 0.9712, Loss: 0.0158\n",
      "Epoch   7 Batch  180/269 - Train Accuracy: 0.9863, Validation Accuracy: 0.9722, Loss: 0.0140\n",
      "Epoch   7 Batch  190/269 - Train Accuracy: 0.9735, Validation Accuracy: 0.9554, Loss: 0.0197\n",
      "Epoch   7 Batch  200/269 - Train Accuracy: 0.9836, Validation Accuracy: 0.9616, Loss: 0.0161\n",
      "Epoch   7 Batch  210/269 - Train Accuracy: 0.9754, Validation Accuracy: 0.9669, Loss: 0.0160\n",
      "Epoch   7 Batch  220/269 - Train Accuracy: 0.9783, Validation Accuracy: 0.9745, Loss: 0.0171\n",
      "Epoch   7 Batch  230/269 - Train Accuracy: 0.9799, Validation Accuracy: 0.9751, Loss: 0.0156\n",
      "Epoch   7 Batch  240/269 - Train Accuracy: 0.9789, Validation Accuracy: 0.9699, Loss: 0.0154\n",
      "Epoch   7 Batch  250/269 - Train Accuracy: 0.9775, Validation Accuracy: 0.9630, Loss: 0.0145\n",
      "Epoch   7 Batch  260/269 - Train Accuracy: 0.9761, Validation Accuracy: 0.9674, Loss: 0.0181\n",
      "Epoch   8 Batch   10/269 - Train Accuracy: 0.9827, Validation Accuracy: 0.9678, Loss: 0.0120\n",
      "Epoch   8 Batch   20/269 - Train Accuracy: 0.9793, Validation Accuracy: 0.9703, Loss: 0.0144\n",
      "Epoch   8 Batch   30/269 - Train Accuracy: 0.9825, Validation Accuracy: 0.9733, Loss: 0.0160\n",
      "Epoch   8 Batch   40/269 - Train Accuracy: 0.9856, Validation Accuracy: 0.9722, Loss: 0.0165\n",
      "Epoch   8 Batch   50/269 - Train Accuracy: 0.9666, Validation Accuracy: 0.9762, Loss: 0.0190\n",
      "Epoch   8 Batch   60/269 - Train Accuracy: 0.9810, Validation Accuracy: 0.9736, Loss: 0.0172\n",
      "Epoch   8 Batch   70/269 - Train Accuracy: 0.9807, Validation Accuracy: 0.9762, Loss: 0.0143\n",
      "Epoch   8 Batch   80/269 - Train Accuracy: 0.9767, Validation Accuracy: 0.9670, Loss: 0.0126\n",
      "Epoch   8 Batch   90/269 - Train Accuracy: 0.9731, Validation Accuracy: 0.9639, Loss: 0.0152\n",
      "Epoch   8 Batch  100/269 - Train Accuracy: 0.9794, Validation Accuracy: 0.9608, Loss: 0.0140\n",
      "Epoch   8 Batch  110/269 - Train Accuracy: 0.9783, Validation Accuracy: 0.9697, Loss: 0.0115\n",
      "Epoch   8 Batch  120/269 - Train Accuracy: 0.9763, Validation Accuracy: 0.9724, Loss: 0.0154\n",
      "Epoch   8 Batch  130/269 - Train Accuracy: 0.9737, Validation Accuracy: 0.9572, Loss: 0.0163\n",
      "Epoch   8 Batch  140/269 - Train Accuracy: 0.9789, Validation Accuracy: 0.9760, Loss: 0.0159\n",
      "Epoch   8 Batch  150/269 - Train Accuracy: 0.9823, Validation Accuracy: 0.9708, Loss: 0.0161\n",
      "Epoch   8 Batch  160/269 - Train Accuracy: 0.9783, Validation Accuracy: 0.9680, Loss: 0.0137\n",
      "Epoch   8 Batch  170/269 - Train Accuracy: 0.9848, Validation Accuracy: 0.9687, Loss: 0.0114\n",
      "Epoch   8 Batch  180/269 - Train Accuracy: 0.9847, Validation Accuracy: 0.9759, Loss: 0.0118\n",
      "Epoch   8 Batch  190/269 - Train Accuracy: 0.9794, Validation Accuracy: 0.9730, Loss: 0.0133\n",
      "Epoch   8 Batch  200/269 - Train Accuracy: 0.9876, Validation Accuracy: 0.9727, Loss: 0.0110\n",
      "Epoch   8 Batch  210/269 - Train Accuracy: 0.9753, Validation Accuracy: 0.9645, Loss: 0.0139\n",
      "Epoch   8 Batch  220/269 - Train Accuracy: 0.9848, Validation Accuracy: 0.9716, Loss: 0.0143\n",
      "Epoch   8 Batch  230/269 - Train Accuracy: 0.9792, Validation Accuracy: 0.9695, Loss: 0.0144\n",
      "Epoch   8 Batch  240/269 - Train Accuracy: 0.9845, Validation Accuracy: 0.9751, Loss: 0.0125\n",
      "Epoch   8 Batch  250/269 - Train Accuracy: 0.9866, Validation Accuracy: 0.9672, Loss: 0.0119\n",
      "Epoch   8 Batch  260/269 - Train Accuracy: 0.9853, Validation Accuracy: 0.9717, Loss: 0.0149\n",
      "Epoch   9 Batch   10/269 - Train Accuracy: 0.9906, Validation Accuracy: 0.9698, Loss: 0.0098\n",
      "Epoch   9 Batch   20/269 - Train Accuracy: 0.9810, Validation Accuracy: 0.9778, Loss: 0.0139\n",
      "Epoch   9 Batch   30/269 - Train Accuracy: 0.9854, Validation Accuracy: 0.9729, Loss: 0.0145\n",
      "Epoch   9 Batch   40/269 - Train Accuracy: 0.9783, Validation Accuracy: 0.9733, Loss: 0.0159\n",
      "Epoch   9 Batch   50/269 - Train Accuracy: 0.9784, Validation Accuracy: 0.9756, Loss: 0.0166\n",
      "Epoch   9 Batch   60/269 - Train Accuracy: 0.9793, Validation Accuracy: 0.9762, Loss: 0.0130\n",
      "Epoch   9 Batch   70/269 - Train Accuracy: 0.9860, Validation Accuracy: 0.9760, Loss: 0.0111\n",
      "Epoch   9 Batch   80/269 - Train Accuracy: 0.9842, Validation Accuracy: 0.9722, Loss: 0.0109\n",
      "Epoch   9 Batch   90/269 - Train Accuracy: 0.9839, Validation Accuracy: 0.9696, Loss: 0.0129\n",
      "Epoch   9 Batch  100/269 - Train Accuracy: 0.9867, Validation Accuracy: 0.9632, Loss: 0.0120\n",
      "Epoch   9 Batch  110/269 - Train Accuracy: 0.9894, Validation Accuracy: 0.9654, Loss: 0.0091\n",
      "Epoch   9 Batch  120/269 - Train Accuracy: 0.9752, Validation Accuracy: 0.9575, Loss: 0.0135\n",
      "Epoch   9 Batch  130/269 - Train Accuracy: 0.9833, Validation Accuracy: 0.9634, Loss: 0.0142\n",
      "Epoch   9 Batch  140/269 - Train Accuracy: 0.9839, Validation Accuracy: 0.9788, Loss: 0.0133\n",
      "Epoch   9 Batch  150/269 - Train Accuracy: 0.9805, Validation Accuracy: 0.9680, Loss: 0.0133\n",
      "Epoch   9 Batch  160/269 - Train Accuracy: 0.9809, Validation Accuracy: 0.9653, Loss: 0.0109\n",
      "Epoch   9 Batch  170/269 - Train Accuracy: 0.9824, Validation Accuracy: 0.9727, Loss: 0.0104\n",
      "Epoch   9 Batch  180/269 - Train Accuracy: 0.9919, Validation Accuracy: 0.9787, Loss: 0.0102\n",
      "Epoch   9 Batch  190/269 - Train Accuracy: 0.9851, Validation Accuracy: 0.9726, Loss: 0.0117\n",
      "Epoch   9 Batch  200/269 - Train Accuracy: 0.9905, Validation Accuracy: 0.9789, Loss: 0.0079\n",
      "Epoch   9 Batch  210/269 - Train Accuracy: 0.9835, Validation Accuracy: 0.9705, Loss: 0.0094\n",
      "Epoch   9 Batch  220/269 - Train Accuracy: 0.9829, Validation Accuracy: 0.9775, Loss: 0.0109\n",
      "Epoch   9 Batch  230/269 - Train Accuracy: 0.9846, Validation Accuracy: 0.9766, Loss: 0.0109\n",
      "Epoch   9 Batch  240/269 - Train Accuracy: 0.9843, Validation Accuracy: 0.9657, Loss: 0.0111\n",
      "Epoch   9 Batch  250/269 - Train Accuracy: 0.9858, Validation Accuracy: 0.9717, Loss: 0.0092\n",
      "Epoch   9 Batch  260/269 - Train Accuracy: 0.9849, Validation Accuracy: 0.9779, Loss: 0.0128\n",
      "Model Trained and Saved\n"
     ]
    }
   ],
   "source": [
    "\"\"\"\n",
    "DON'T MODIFY ANYTHING IN THIS CELL\n",
    "\"\"\"\n",
    "def get_accuracy(target, logits):\n",
    "    \"\"\"\n",
    "    Calculate accuracy\n",
    "    \"\"\"\n",
    "    max_seq = max(target.shape[1], logits.shape[1])\n",
    "    if max_seq - target.shape[1]:\n",
    "        target = np.pad(\n",
    "            target,\n",
    "            [(0,0),(0,max_seq - target.shape[1])],\n",
    "            'constant')\n",
    "    if max_seq - logits.shape[1]:\n",
    "        logits = np.pad(\n",
    "            logits,\n",
    "            [(0,0),(0,max_seq - logits.shape[1])],\n",
    "            'constant')\n",
    "\n",
    "    return np.mean(np.equal(target, logits))\n",
    "\n",
    "# Split data to training and validation sets\n",
    "train_source = source_int_text[batch_size:]\n",
    "train_target = target_int_text[batch_size:]\n",
    "valid_source = source_int_text[:batch_size]\n",
    "valid_target = target_int_text[:batch_size]\n",
    "(valid_sources_batch, valid_targets_batch, valid_sources_lengths, valid_targets_lengths ) = next(get_batches(valid_source,\n",
    "                                                                                                             valid_target,\n",
    "                                                                                                             batch_size,\n",
    "                                                                                                             source_vocab_to_int['<PAD>'],\n",
    "                                                                                                             target_vocab_to_int['<PAD>']))                                                                                                  \n",
    "with tf.Session(graph=train_graph) as sess:\n",
    "    sess.run(tf.global_variables_initializer())\n",
    "\n",
    "    for epoch_i in range(epochs):\n",
    "        for batch_i, (source_batch, target_batch, sources_lengths, targets_lengths) in enumerate(\n",
    "                get_batches(train_source, train_target, batch_size,\n",
    "                            source_vocab_to_int['<PAD>'],\n",
    "                            target_vocab_to_int['<PAD>'])):\n",
    "\n",
    "            _, loss = sess.run(\n",
    "                [train_op, cost],\n",
    "                {input_data: source_batch,\n",
    "                 targets: target_batch,\n",
    "                 lr: learning_rate,\n",
    "                 target_sequence_length: targets_lengths,\n",
    "                 source_sequence_length: sources_lengths,\n",
    "                 keep_prob: keep_probability})\n",
    "\n",
    "\n",
    "            if batch_i % display_step == 0 and batch_i > 0:\n",
    "\n",
    "\n",
    "                batch_train_logits = sess.run(\n",
    "                    inference_logits,\n",
    "                    {input_data: source_batch,\n",
    "                     source_sequence_length: sources_lengths,\n",
    "                     target_sequence_length: targets_lengths,\n",
    "                     keep_prob: 1.0})\n",
    "\n",
    "\n",
    "                batch_valid_logits = sess.run(\n",
    "                    inference_logits,\n",
    "                    {input_data: valid_sources_batch,\n",
    "                     source_sequence_length: valid_sources_lengths,\n",
    "                     target_sequence_length: valid_targets_lengths,\n",
    "                     keep_prob: 1.0})\n",
    "\n",
    "                train_acc = get_accuracy(target_batch, batch_train_logits)\n",
    "\n",
    "                valid_acc = get_accuracy(valid_targets_batch, batch_valid_logits)\n",
    "\n",
    "                print('Epoch {:>3} Batch {:>4}/{} - Train Accuracy: {:>6.4f}, Validation Accuracy: {:>6.4f}, Loss: {:>6.4f}'\n",
    "                      .format(epoch_i, batch_i, len(source_int_text) // batch_size, train_acc, valid_acc, loss))\n",
    "\n",
    "    # Save Model\n",
    "    saver = tf.train.Saver()\n",
    "    saver.save(sess, save_path)\n",
    "    print('Model Trained and Saved')"
   ]
  },
  {
   "cell_type": "markdown",
   "metadata": {
    "deletable": true,
    "editable": true
   },
   "source": [
    "### Save Parameters\n",
    "Save the `batch_size` and `save_path` parameters for inference."
   ]
  },
  {
   "cell_type": "code",
   "execution_count": 19,
   "metadata": {
    "collapsed": true,
    "deletable": true,
    "editable": true
   },
   "outputs": [],
   "source": [
    "\"\"\"\n",
    "DON'T MODIFY ANYTHING IN THIS CELL\n",
    "\"\"\"\n",
    "# Save parameters for checkpoint\n",
    "helper.save_params(save_path)"
   ]
  },
  {
   "cell_type": "markdown",
   "metadata": {
    "deletable": true,
    "editable": true
   },
   "source": [
    "# Checkpoint"
   ]
  },
  {
   "cell_type": "code",
   "execution_count": 20,
   "metadata": {
    "collapsed": true,
    "deletable": true,
    "editable": true
   },
   "outputs": [],
   "source": [
    "\"\"\"\n",
    "DON'T MODIFY ANYTHING IN THIS CELL\n",
    "\"\"\"\n",
    "import tensorflow as tf\n",
    "import numpy as np\n",
    "import helper\n",
    "import problem_unittests as tests\n",
    "\n",
    "_, (source_vocab_to_int, target_vocab_to_int), (source_int_to_vocab, target_int_to_vocab) = helper.load_preprocess()\n",
    "load_path = helper.load_params()"
   ]
  },
  {
   "cell_type": "markdown",
   "metadata": {
    "deletable": true,
    "editable": true
   },
   "source": [
    "## Sentence to Sequence\n",
    "To feed a sentence into the model for translation, you first need to preprocess it.  Implement the function `sentence_to_seq()` to preprocess new sentences.\n",
    "\n",
    "- Convert the sentence to lowercase\n",
    "- Convert words into ids using `vocab_to_int`\n",
    " - Convert words not in the vocabulary, to the `<UNK>` word id."
   ]
  },
  {
   "cell_type": "code",
   "execution_count": 21,
   "metadata": {
    "collapsed": false,
    "deletable": true,
    "editable": true
   },
   "outputs": [
    {
     "name": "stdout",
     "output_type": "stream",
     "text": [
      "Tests Passed\n"
     ]
    }
   ],
   "source": [
    "def sentence_to_seq(sentence, vocab_to_int):\n",
    "    \"\"\"\n",
    "    Convert a sentence to a sequence of ids\n",
    "    :param sentence: String\n",
    "    :param vocab_to_int: Dictionary to go from the words to an id\n",
    "    :return: List of word ids\n",
    "    \"\"\"\n",
    "    s = sentence.lower()\n",
    "    default = vocab_to_int[\"<UNK>\"]\n",
    "    word_ids = [vocab_to_int.get(word, default) for word in s.split()]\n",
    "    return word_ids\n",
    "\n",
    "\n",
    "\"\"\"\n",
    "DON'T MODIFY ANYTHING IN THIS CELL THAT IS BELOW THIS LINE\n",
    "\"\"\"\n",
    "tests.test_sentence_to_seq(sentence_to_seq)"
   ]
  },
  {
   "cell_type": "markdown",
   "metadata": {
    "deletable": true,
    "editable": true
   },
   "source": [
    "## Translate\n",
    "This will translate `translate_sentence` from English to French."
   ]
  },
  {
   "cell_type": "code",
   "execution_count": 22,
   "metadata": {
    "collapsed": false,
    "deletable": true,
    "editable": true
   },
   "outputs": [
    {
     "name": "stdout",
     "output_type": "stream",
     "text": [
      "INFO:tensorflow:Restoring parameters from checkpoints/dev\n",
      "Input\n",
      "  Word Ids:      [144, 76, 111, 90, 81, 25, 224]\n",
      "  English Words: ['he', 'saw', 'a', 'old', 'yellow', 'truck', '.']\n",
      "\n",
      "Prediction\n",
      "  Word Ids:      [357, 168, 297, 62, 291, 147, 95, 1]\n",
      "  French Words: il était le vieux camion août . <EOS>\n"
     ]
    }
   ],
   "source": [
    "translate_sentence = 'he saw a old yellow truck .'\n",
    "#translate_sentence = \"how are you\"\n",
    "#translate_sentence = \"the house is big and green\"\n",
    "\n",
    "\"\"\"\n",
    "DON'T MODIFY ANYTHING IN THIS CELL\n",
    "\"\"\"\n",
    "translate_sentence = sentence_to_seq(translate_sentence, source_vocab_to_int)\n",
    "\n",
    "loaded_graph = tf.Graph()\n",
    "with tf.Session(graph=loaded_graph) as sess:\n",
    "    # Load saved model\n",
    "    loader = tf.train.import_meta_graph(load_path + '.meta')\n",
    "    loader.restore(sess, load_path)\n",
    "\n",
    "    input_data = loaded_graph.get_tensor_by_name('input:0')\n",
    "    logits = loaded_graph.get_tensor_by_name('predictions:0')\n",
    "    target_sequence_length = loaded_graph.get_tensor_by_name('target_sequence_length:0')\n",
    "    source_sequence_length = loaded_graph.get_tensor_by_name('source_sequence_length:0')\n",
    "    keep_prob = loaded_graph.get_tensor_by_name('keep_prob:0')\n",
    "\n",
    "    translate_logits = sess.run(logits, {input_data: [translate_sentence]*batch_size,\n",
    "                                         target_sequence_length: [len(translate_sentence)*2]*batch_size,\n",
    "                                         source_sequence_length: [len(translate_sentence)]*batch_size,\n",
    "                                         keep_prob: 1.0})[0]\n",
    "\n",
    "print('Input')\n",
    "print('  Word Ids:      {}'.format([i for i in translate_sentence]))\n",
    "print('  English Words: {}'.format([source_int_to_vocab[i] for i in translate_sentence]))\n",
    "\n",
    "print('\\nPrediction')\n",
    "print('  Word Ids:      {}'.format([i for i in translate_logits]))\n",
    "print('  French Words: {}'.format(\" \".join([target_int_to_vocab[i] for i in translate_logits])))\n"
   ]
  },
  {
   "cell_type": "markdown",
   "metadata": {
    "deletable": true,
    "editable": true
   },
   "source": [
    "## Imperfect Translation\n",
    "You might notice that some sentences translate better than others.  Since the dataset you're using only has a vocabulary of 227 English words of the thousands that you use, you're only going to see good results using these words.  For this project, you don't need a perfect translation. However, if you want to create a better translation model, you'll need better data.\n",
    "\n",
    "You can train on the [WMT10 French-English corpus](http://www.statmt.org/wmt10/training-giga-fren.tar).  This dataset has more vocabulary and richer in topics discussed.  However, this will take you days to train, so make sure you've a GPU and the neural network is performing well on dataset we provided.  Just make sure you play with the WMT10 corpus after you've submitted this project.\n",
    "## Submitting This Project\n",
    "When submitting this project, make sure to run all the cells before saving the notebook. Save the notebook file as \"dlnd_language_translation.ipynb\" and save it as a HTML file under \"File\" -> \"Download as\". Include the \"helper.py\" and \"problem_unittests.py\" files in your submission."
   ]
  }
 ],
 "metadata": {
  "anaconda-cloud": {},
  "kernelspec": {
   "display_name": "Python 3",
   "language": "python",
   "name": "python3"
  },
  "language_info": {
   "codemirror_mode": {
    "name": "ipython",
    "version": 3
   },
   "file_extension": ".py",
   "mimetype": "text/x-python",
   "name": "python",
   "nbconvert_exporter": "python",
   "pygments_lexer": "ipython3",
   "version": "3.5.2"
  }
 },
 "nbformat": 4,
 "nbformat_minor": 1
}
