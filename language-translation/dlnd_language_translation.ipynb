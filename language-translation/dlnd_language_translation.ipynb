{
 "cells": [
  {
   "cell_type": "markdown",
   "metadata": {
    "collapsed": true,
    "deletable": true,
    "editable": true
   },
   "source": [
    "# Language Translation\n",
    "In this project, you’re going to take a peek into the realm of neural network machine translation.  You’ll be training a sequence to sequence model on a dataset of English and French sentences that can translate new sentences from English to French.\n",
    "## Get the Data\n",
    "Since translating the whole language of English to French will take lots of time to train, we have provided you with a small portion of the English corpus."
   ]
  },
  {
   "cell_type": "code",
   "execution_count": 1,
   "metadata": {
    "collapsed": false,
    "deletable": true,
    "editable": true
   },
   "outputs": [],
   "source": [
    "\"\"\"\n",
    "DON'T MODIFY ANYTHING IN THIS CELL\n",
    "\"\"\"\n",
    "import helper\n",
    "import problem_unittests as tests\n",
    "\n",
    "source_path = 'data/small_vocab_en'\n",
    "target_path = 'data/small_vocab_fr'\n",
    "source_text = helper.load_data(source_path)\n",
    "target_text = helper.load_data(target_path)"
   ]
  },
  {
   "cell_type": "markdown",
   "metadata": {
    "deletable": true,
    "editable": true
   },
   "source": [
    "## Explore the Data\n",
    "Play around with view_sentence_range to view different parts of the data."
   ]
  },
  {
   "cell_type": "code",
   "execution_count": 2,
   "metadata": {
    "collapsed": false,
    "deletable": true,
    "editable": true
   },
   "outputs": [
    {
     "name": "stdout",
     "output_type": "stream",
     "text": [
      "Dataset Stats\n",
      "Roughly the number of unique words: 227\n",
      "Number of sentences: 137861\n",
      "Average number of words in a sentence: 13.225277634719028\n",
      "\n",
      "English sentences 0 to 10:\n",
      "new jersey is sometimes quiet during autumn , and it is snowy in april .\n",
      "the united states is usually chilly during july , and it is usually freezing in november .\n",
      "california is usually quiet during march , and it is usually hot in june .\n",
      "the united states is sometimes mild during june , and it is cold in september .\n",
      "your least liked fruit is the grape , but my least liked is the apple .\n",
      "his favorite fruit is the orange , but my favorite is the grape .\n",
      "paris is relaxing during december , but it is usually chilly in july .\n",
      "new jersey is busy during spring , and it is never hot in march .\n",
      "our least liked fruit is the lemon , but my least liked is the grape .\n",
      "the united states is sometimes busy during january , and it is sometimes warm in november .\n",
      "\n",
      "French sentences 0 to 10:\n",
      "new jersey est parfois calme pendant l' automne , et il est neigeux en avril .\n",
      "les états-unis est généralement froid en juillet , et il gèle habituellement en novembre .\n",
      "california est généralement calme en mars , et il est généralement chaud en juin .\n",
      "les états-unis est parfois légère en juin , et il fait froid en septembre .\n",
      "votre moins aimé fruit est le raisin , mais mon moins aimé est la pomme .\n",
      "son fruit préféré est l'orange , mais mon préféré est le raisin .\n",
      "paris est relaxant en décembre , mais il est généralement froid en juillet .\n",
      "new jersey est occupé au printemps , et il est jamais chaude en mars .\n",
      "notre fruit est moins aimé le citron , mais mon moins aimé est le raisin .\n",
      "les états-unis est parfois occupé en janvier , et il est parfois chaud en novembre .\n"
     ]
    }
   ],
   "source": [
    "view_sentence_range = (0, 10)\n",
    "\n",
    "\"\"\"\n",
    "DON'T MODIFY ANYTHING IN THIS CELL\n",
    "\"\"\"\n",
    "import numpy as np\n",
    "\n",
    "print('Dataset Stats')\n",
    "print('Roughly the number of unique words: {}'.format(len({word: None for word in source_text.split()})))\n",
    "\n",
    "sentences = source_text.split('\\n')\n",
    "word_counts = [len(sentence.split()) for sentence in sentences]\n",
    "print('Number of sentences: {}'.format(len(sentences)))\n",
    "print('Average number of words in a sentence: {}'.format(np.average(word_counts)))\n",
    "\n",
    "print()\n",
    "print('English sentences {} to {}:'.format(*view_sentence_range))\n",
    "print('\\n'.join(source_text.split('\\n')[view_sentence_range[0]:view_sentence_range[1]]))\n",
    "print()\n",
    "print('French sentences {} to {}:'.format(*view_sentence_range))\n",
    "print('\\n'.join(target_text.split('\\n')[view_sentence_range[0]:view_sentence_range[1]]))"
   ]
  },
  {
   "cell_type": "markdown",
   "metadata": {
    "deletable": true,
    "editable": true
   },
   "source": [
    "## Implement Preprocessing Function\n",
    "### Text to Word Ids\n",
    "As you did with other RNNs, you must turn the text into a number so the computer can understand it. In the function `text_to_ids()`, you'll turn `source_text` and `target_text` from words to ids.  However, you need to add the `<EOS>` word id at the end of `target_text`.  This will help the neural network predict when the sentence should end.\n",
    "\n",
    "You can get the `<EOS>` word id by doing:\n",
    "```python\n",
    "target_vocab_to_int['<EOS>']\n",
    "```\n",
    "You can get other word ids using `source_vocab_to_int` and `target_vocab_to_int`."
   ]
  },
  {
   "cell_type": "code",
   "execution_count": 3,
   "metadata": {
    "collapsed": false,
    "deletable": true,
    "editable": true
   },
   "outputs": [
    {
     "name": "stdout",
     "output_type": "stream",
     "text": [
      "Tests Passed\n"
     ]
    }
   ],
   "source": [
    "def text_to_ids(source_text, target_text, source_vocab_to_int, target_vocab_to_int):\n",
    "    \"\"\"\n",
    "    Convert source and target text to proper word ids\n",
    "    :param source_text: String that contains all the source text.\n",
    "    :param target_text: String that contains all the target text.\n",
    "    :param source_vocab_to_int: Dictionary to go from the source words to an id\n",
    "    :param target_vocab_to_int: Dictionary to go from the target words to an id\n",
    "    :return: A tuple of lists (source_id_text, target_id_text)\n",
    "    \"\"\"\n",
    "    source_ids = [[source_vocab_to_int[word] for word in entry.split()] for entry in source_text.split(\"\\n\")]\n",
    "    target_ids = [[target_vocab_to_int[word] for word in entry.split()] + [target_vocab_to_int['<EOS>']] for entry in target_text.split(\"\\n\")]\n",
    "    return source_ids, target_ids\n",
    "\n",
    "\"\"\"\n",
    "DON'T MODIFY ANYTHING IN THIS CELL THAT IS BELOW THIS LINE\n",
    "\"\"\"\n",
    "tests.test_text_to_ids(text_to_ids)"
   ]
  },
  {
   "cell_type": "markdown",
   "metadata": {
    "deletable": true,
    "editable": true
   },
   "source": [
    "### Preprocess all the data and save it\n",
    "Running the code cell below will preprocess all the data and save it to file."
   ]
  },
  {
   "cell_type": "code",
   "execution_count": 4,
   "metadata": {
    "collapsed": false,
    "deletable": true,
    "editable": true
   },
   "outputs": [],
   "source": [
    "\"\"\"\n",
    "DON'T MODIFY ANYTHING IN THIS CELL\n",
    "\"\"\"\n",
    "helper.preprocess_and_save_data(source_path, target_path, text_to_ids)"
   ]
  },
  {
   "cell_type": "markdown",
   "metadata": {
    "deletable": true,
    "editable": true
   },
   "source": [
    "# Check Point\n",
    "This is your first checkpoint. If you ever decide to come back to this notebook or have to restart the notebook, you can start from here. The preprocessed data has been saved to disk."
   ]
  },
  {
   "cell_type": "code",
   "execution_count": 2,
   "metadata": {
    "collapsed": false,
    "deletable": true,
    "editable": true
   },
   "outputs": [],
   "source": [
    "\"\"\"\n",
    "DON'T MODIFY ANYTHING IN THIS CELL\n",
    "\"\"\"\n",
    "import numpy as np\n",
    "import helper\n",
    "\n",
    "(source_int_text, target_int_text), (source_vocab_to_int, target_vocab_to_int), _ = helper.load_preprocess()"
   ]
  },
  {
   "cell_type": "markdown",
   "metadata": {
    "deletable": true,
    "editable": true
   },
   "source": [
    "### Check the Version of TensorFlow and Access to GPU\n",
    "This will check to make sure you have the correct version of TensorFlow and access to a GPU"
   ]
  },
  {
   "cell_type": "code",
   "execution_count": 3,
   "metadata": {
    "collapsed": false,
    "deletable": true,
    "editable": true
   },
   "outputs": [
    {
     "name": "stdout",
     "output_type": "stream",
     "text": [
      "TensorFlow Version: 1.1.0\n",
      "Default GPU Device: /gpu:0\n"
     ]
    }
   ],
   "source": [
    "\"\"\"\n",
    "DON'T MODIFY ANYTHING IN THIS CELL\n",
    "\"\"\"\n",
    "from distutils.version import LooseVersion\n",
    "import warnings\n",
    "import tensorflow as tf\n",
    "from tensorflow.python.layers.core import Dense\n",
    "\n",
    "# Check TensorFlow Version\n",
    "assert LooseVersion(tf.__version__) >= LooseVersion('1.1'), 'Please use TensorFlow version 1.1 or newer'\n",
    "print('TensorFlow Version: {}'.format(tf.__version__))\n",
    "\n",
    "# Check for a GPU\n",
    "if not tf.test.gpu_device_name():\n",
    "    warnings.warn('No GPU found. Please use a GPU to train your neural network.')\n",
    "else:\n",
    "    print('Default GPU Device: {}'.format(tf.test.gpu_device_name()))"
   ]
  },
  {
   "cell_type": "markdown",
   "metadata": {
    "deletable": true,
    "editable": true
   },
   "source": [
    "## Build the Neural Network\n",
    "You'll build the components necessary to build a Sequence-to-Sequence model by implementing the following functions below:\n",
    "- `model_inputs`\n",
    "- `process_decoder_input`\n",
    "- `encoding_layer`\n",
    "- `decoding_layer_train`\n",
    "- `decoding_layer_infer`\n",
    "- `decoding_layer`\n",
    "- `seq2seq_model`\n",
    "\n",
    "### Input\n",
    "Implement the `model_inputs()` function to create TF Placeholders for the Neural Network. It should create the following placeholders:\n",
    "\n",
    "- Input text placeholder named \"input\" using the TF Placeholder name parameter with rank 2.\n",
    "- Targets placeholder with rank 2.\n",
    "- Learning rate placeholder with rank 0.\n",
    "- Keep probability placeholder named \"keep_prob\" using the TF Placeholder name parameter with rank 0.\n",
    "- Target sequence length placeholder named \"target_sequence_length\" with rank 1\n",
    "- Max target sequence length tensor named \"max_target_len\" getting its value from applying tf.reduce_max on the target_sequence_length placeholder. Rank 0.\n",
    "- Source sequence length placeholder named \"source_sequence_length\" with rank 1\n",
    "\n",
    "Return the placeholders in the following the tuple (input, targets, learning rate, keep probability, target sequence length, max target sequence length, source sequence length)"
   ]
  },
  {
   "cell_type": "code",
   "execution_count": 4,
   "metadata": {
    "collapsed": false,
    "deletable": true,
    "editable": true
   },
   "outputs": [
    {
     "name": "stdout",
     "output_type": "stream",
     "text": [
      "Tests Passed\n"
     ]
    }
   ],
   "source": [
    "def model_inputs():\n",
    "    \"\"\"\n",
    "    Create TF Placeholders for input, targets, learning rate, and lengths of source and target sequences.\n",
    "    :return: Tuple (input, targets, learning rate, keep probability, target sequence length,\n",
    "    max target sequence length, source sequence length)\n",
    "    \"\"\"\n",
    "    input = tf.placeholder(dtype=tf.int32, shape=(None, None), name=\"input\")\n",
    "    targets = tf.placeholder(dtype=tf.int32, shape=(None, None), name=\"targets\")\n",
    "    lr = tf.placeholder(dtype=tf.float32, shape=(None), name=\"learnrate\")\n",
    "    keep_prob = tf.placeholder(dtype=tf.float32, shape=(None), name=\"keep_prob\")\n",
    "    target_seq_len = tf.placeholder(dtype=tf.int32, shape=(None, ), name=\"target_sequence_length\")\n",
    "    max_target_len = tf.reduce_max(target_seq_len, name=\"max_target_len\")\n",
    "    source_seq_len = tf.placeholder(dtype=tf.int32, shape=(None, ), name=\"source_sequence_length\")\n",
    "    return input, targets, lr, keep_prob, target_seq_len, max_target_len, source_seq_len\n",
    "\n",
    "\"\"\"\n",
    "DON'T MODIFY ANYTHING IN THIS CELL THAT IS BELOW THIS LINE\n",
    "\"\"\"\n",
    "tests.test_model_inputs(model_inputs)"
   ]
  },
  {
   "cell_type": "markdown",
   "metadata": {
    "deletable": true,
    "editable": true
   },
   "source": [
    "### Process Decoder Input\n",
    "Implement `process_decoder_input` by removing the last word id from each batch in `target_data` and concat the GO ID to the begining of each batch."
   ]
  },
  {
   "cell_type": "code",
   "execution_count": 5,
   "metadata": {
    "collapsed": false,
    "deletable": true,
    "editable": true
   },
   "outputs": [
    {
     "name": "stdout",
     "output_type": "stream",
     "text": [
      "Tests Passed\n"
     ]
    }
   ],
   "source": [
    "def process_decoder_input(target_data, target_vocab_to_int, batch_size):\n",
    "    \"\"\"\n",
    "    Preprocess target data for encoding\n",
    "    :param target_data: Target Placehoder\n",
    "    :param target_vocab_to_int: Dictionary to go from the target words to an id\n",
    "    :param batch_size: Batch Size\n",
    "    :return: Preprocessed target data\n",
    "    \"\"\"\n",
    "    x = tf.strided_slice(target_data, [0,0], [batch_size, -1], [1,1])\n",
    "    y = tf.concat([tf.fill([batch_size, 1], target_vocab_to_int['<GO>']), x], 1)\n",
    "    return y\n",
    "\n",
    "\"\"\"\n",
    "DON'T MODIFY ANYTHING IN THIS CELL THAT IS BELOW THIS LINE\n",
    "\"\"\"\n",
    "tests.test_process_encoding_input(process_decoder_input)"
   ]
  },
  {
   "cell_type": "markdown",
   "metadata": {
    "deletable": true,
    "editable": true
   },
   "source": [
    "### Encoding\n",
    "Implement `encoding_layer()` to create a Encoder RNN layer:\n",
    " * Embed the encoder input using [`tf.contrib.layers.embed_sequence`](https://www.tensorflow.org/api_docs/python/tf/contrib/layers/embed_sequence)\n",
    " * Construct a [stacked](https://github.com/tensorflow/tensorflow/blob/6947f65a374ebf29e74bb71e36fd82760056d82c/tensorflow/docs_src/tutorials/recurrent.md#stacking-multiple-lstms) [`tf.contrib.rnn.LSTMCell`](https://www.tensorflow.org/api_docs/python/tf/contrib/rnn/LSTMCell) wrapped in a [`tf.contrib.rnn.DropoutWrapper`](https://www.tensorflow.org/api_docs/python/tf/contrib/rnn/DropoutWrapper)\n",
    " * Pass cell and embedded input to [`tf.nn.dynamic_rnn()`](https://www.tensorflow.org/api_docs/python/tf/nn/dynamic_rnn)"
   ]
  },
  {
   "cell_type": "code",
   "execution_count": 6,
   "metadata": {
    "collapsed": false,
    "deletable": true,
    "editable": true,
    "scrolled": false
   },
   "outputs": [
    {
     "name": "stdout",
     "output_type": "stream",
     "text": [
      "Tests Passed\n"
     ]
    }
   ],
   "source": [
    "from imp import reload\n",
    "reload(tests)\n",
    "\n",
    "def encoding_layer(rnn_inputs, rnn_size, num_layers, keep_prob, \n",
    "                   source_sequence_length, source_vocab_size, \n",
    "                   encoding_embedding_size):\n",
    "    \"\"\"\n",
    "    Create encoding layer\n",
    "    :param rnn_inputs: Inputs for the RNN\n",
    "    :param rnn_size: RNN Size\n",
    "    :param num_layers: Number of layers\n",
    "    :param keep_prob: Dropout keep probability\n",
    "    :param source_sequence_length: a list of the lengths of each sequence in the batch\n",
    "    :param source_vocab_size: vocabulary size of source data\n",
    "    :param encoding_embedding_size: embedding size of source data\n",
    "    :return: tuple (RNN output, RNN state)\n",
    "    \"\"\"\n",
    "    embedded = tf.contrib.layers.embed_sequence(ids=rnn_inputs, vocab_size=source_vocab_size, embed_dim=encoding_embedding_size)\n",
    "    \n",
    "    \n",
    "    gen_cell = lambda: tf.contrib.rnn.LSTMCell(num_units=rnn_size, initializer=tf.random_uniform_initializer(-0.1, 0.1, seed=2))\n",
    "    \n",
    "    cells = tf.contrib.rnn.MultiRNNCell(cells=[gen_cell() for _ in range(num_layers)]) # new version of [cell]*5\n",
    "    drop = tf.contrib.rnn.DropoutWrapper(cell=cells, output_keep_prob=keep_prob)\n",
    "    output, state = tf.nn.dynamic_rnn(cell=drop, inputs=embedded, dtype=tf.float32)\n",
    "    return output, state\n",
    "\n",
    "\"\"\"\n",
    "DON'T MODIFY ANYTHING IN THIS CELL THAT IS BELOW THIS LINE\n",
    "\"\"\"\n",
    "tests.test_encoding_layer(encoding_layer)"
   ]
  },
  {
   "cell_type": "markdown",
   "metadata": {
    "deletable": true,
    "editable": true
   },
   "source": [
    "### Decoding - Training\n",
    "Create a training decoding layer:\n",
    "* Create a [`tf.contrib.seq2seq.TrainingHelper`](https://www.tensorflow.org/api_docs/python/tf/contrib/seq2seq/TrainingHelper) \n",
    "* Create a [`tf.contrib.seq2seq.BasicDecoder`](https://www.tensorflow.org/api_docs/python/tf/contrib/seq2seq/BasicDecoder)\n",
    "* Obtain the decoder outputs from [`tf.contrib.seq2seq.dynamic_decode`](https://www.tensorflow.org/api_docs/python/tf/contrib/seq2seq/dynamic_decode)"
   ]
  },
  {
   "cell_type": "code",
   "execution_count": 7,
   "metadata": {
    "collapsed": false,
    "deletable": true,
    "editable": true
   },
   "outputs": [
    {
     "name": "stdout",
     "output_type": "stream",
     "text": [
      "Tests Passed\n"
     ]
    }
   ],
   "source": [
    "\n",
    "def decoding_layer_train(encoder_state, dec_cell, dec_embed_input, \n",
    "                         target_sequence_length, max_summary_length, \n",
    "                         output_layer, keep_prob):\n",
    "    \"\"\"\n",
    "    Create a decoding layer for training\n",
    "    :param encoder_state: Encoder State\n",
    "    :param dec_cell: Decoder RNN Cell\n",
    "    :param dec_embed_input: Decoder embedded input\n",
    "    :param target_sequence_length: The lengths of each sequence in the target batch\n",
    "    :param max_summary_length: The length of the longest sequence in the batch\n",
    "    :param output_layer: Function to apply the output layer\n",
    "    :param keep_prob: Dropout keep probability\n",
    "    :return: BasicDecoderOutput containing training logits and sample_id\n",
    "    \"\"\"\n",
    "    training_helper = tf.contrib.seq2seq.TrainingHelper(inputs=dec_embed_input, sequence_length=target_sequence_length, time_major=False)\n",
    "    \n",
    "    decoder = tf.contrib.seq2seq.BasicDecoder(cell=dec_cell, helper=training_helper,\n",
    "                                                initial_state=encoder_state, output_layer=output_layer)\n",
    "    training_decoder_output, _ = tf.contrib.seq2seq.dynamic_decode(decoder, impute_finished=True,\n",
    "                                               maximum_iterations=max_summary_length)\n",
    "    return training_decoder_output\n",
    "\n",
    "\n",
    "\"\"\"\n",
    "DON'T MODIFY ANYTHING IN THIS CELL THAT IS BELOW THIS LINE\n",
    "\"\"\"\n",
    "tests.test_decoding_layer_train(decoding_layer_train)"
   ]
  },
  {
   "cell_type": "markdown",
   "metadata": {
    "deletable": true,
    "editable": true
   },
   "source": [
    "### Decoding - Inference\n",
    "Create inference decoder:\n",
    "* Create a [`tf.contrib.seq2seq.GreedyEmbeddingHelper`](https://www.tensorflow.org/api_docs/python/tf/contrib/seq2seq/GreedyEmbeddingHelper)\n",
    "* Create a [`tf.contrib.seq2seq.BasicDecoder`](https://www.tensorflow.org/api_docs/python/tf/contrib/seq2seq/BasicDecoder)\n",
    "* Obtain the decoder outputs from [`tf.contrib.seq2seq.dynamic_decode`](https://www.tensorflow.org/api_docs/python/tf/contrib/seq2seq/dynamic_decode)"
   ]
  },
  {
   "cell_type": "code",
   "execution_count": 8,
   "metadata": {
    "collapsed": false,
    "deletable": true,
    "editable": true,
    "scrolled": true
   },
   "outputs": [
    {
     "name": "stdout",
     "output_type": "stream",
     "text": [
      "Tests Passed\n"
     ]
    }
   ],
   "source": [
    "def decoding_layer_infer(encoder_state, dec_cell, dec_embeddings, start_of_sequence_id,\n",
    "                         end_of_sequence_id, max_target_sequence_length,\n",
    "                         vocab_size, output_layer, batch_size, keep_prob):\n",
    "    \"\"\"\n",
    "    Create a decoding layer for inference\n",
    "    :param encoder_state: Encoder state\n",
    "    :param dec_cell: Decoder RNN Cell\n",
    "    :param dec_embeddings: Decoder embeddings\n",
    "    :param start_of_sequence_id: GO ID\n",
    "    :param end_of_sequence_id: EOS Id\n",
    "    :param max_target_sequence_length: Maximum length of target sequences\n",
    "    :param vocab_size: Size of decoder/target vocabulary\n",
    "    :param decoding_scope: TenorFlow Variable Scope for decoding\n",
    "    :param output_layer: Function to apply the output layer\n",
    "    :param batch_size: Batch size\n",
    "    :param keep_prob: Dropout keep probability\n",
    "    :return: BasicDecoderOutput containing inference logits and sample_id\n",
    "    \"\"\"\n",
    "    start_tokens = tf.tile(tf.constant([start_of_sequence_id], dtype=tf.int32), [batch_size], name='start_tokens')\n",
    "    inference_helper = tf.contrib.seq2seq.GreedyEmbeddingHelper(dec_embeddings,\n",
    "                                        start_tokens, end_of_sequence_id)\n",
    "\n",
    "    # Basic decoder\n",
    "    inference_decoder = tf.contrib.seq2seq.BasicDecoder(dec_cell,\n",
    "                                        inference_helper, encoder_state, output_layer)\n",
    "\n",
    "    # Perform dynamic decoding using the decoder\n",
    "    inference_decoder_output, _ = tf.contrib.seq2seq.dynamic_decode(inference_decoder,\n",
    "                                        impute_finished=True,\n",
    "                                        maximum_iterations=max_target_sequence_length)\n",
    "    \n",
    "    return inference_decoder_output\n",
    "\n",
    "\n",
    "\n",
    "\"\"\"\n",
    "DON'T MODIFY ANYTHING IN THIS CELL THAT IS BELOW THIS LINE\n",
    "\"\"\"\n",
    "tests.test_decoding_layer_infer(decoding_layer_infer)"
   ]
  },
  {
   "cell_type": "markdown",
   "metadata": {
    "deletable": true,
    "editable": true
   },
   "source": [
    "### Build the Decoding Layer\n",
    "Implement `decoding_layer()` to create a Decoder RNN layer.\n",
    "\n",
    "* Embed the target sequences\n",
    "* Construct the decoder LSTM cell (just like you constructed the encoder cell above)\n",
    "* Create an output layer to map the outputs of the decoder to the elements of our vocabulary\n",
    "* Use the your `decoding_layer_train(encoder_state, dec_cell, dec_embed_input, target_sequence_length, max_target_sequence_length, output_layer, keep_prob)` function to get the training logits.\n",
    "* Use your `decoding_layer_infer(encoder_state, dec_cell, dec_embeddings, start_of_sequence_id, end_of_sequence_id, max_target_sequence_length, vocab_size, output_layer, batch_size, keep_prob)` function to get the inference logits.\n",
    "\n",
    "Note: You'll need to use [tf.variable_scope](https://www.tensorflow.org/api_docs/python/tf/variable_scope) to share variables between training and inference."
   ]
  },
  {
   "cell_type": "code",
   "execution_count": 9,
   "metadata": {
    "collapsed": false,
    "deletable": true,
    "editable": true
   },
   "outputs": [
    {
     "name": "stdout",
     "output_type": "stream",
     "text": [
      "Tests Passed\n"
     ]
    }
   ],
   "source": [
    "def decoding_layer(dec_input, encoder_state,\n",
    "                   target_sequence_length, max_target_sequence_length,\n",
    "                   rnn_size,\n",
    "                   num_layers, target_vocab_to_int, target_vocab_size,\n",
    "                   batch_size, keep_prob, decoding_embedding_size):\n",
    "    \"\"\"\n",
    "    Create decoding layer\n",
    "    :param dec_input: Decoder input\n",
    "    :param encoder_state: Encoder state\n",
    "    :param target_sequence_length: The lengths of each sequence in the target batch\n",
    "    :param max_target_sequence_length: Maximum length of target sequences\n",
    "    :param rnn_size: RNN Size\n",
    "    :param num_layers: Number of layers\n",
    "    :param target_vocab_to_int: Dictionary to go from the target words to an id\n",
    "    :param target_vocab_size: Size of target vocabulary\n",
    "    :param batch_size: The size of the batch\n",
    "    :param keep_prob: Dropout keep probability\n",
    "    :return: Tuple of (Training BasicDecoderOutput, Inference BasicDecoderOutput)\n",
    "    \"\"\"\n",
    "    start_of_sequence_id = target_vocab_to_int['<GO>']\n",
    "    end_of_sequence_id = target_vocab_to_int['<EOS>']\n",
    "    dec_embeddings = tf.Variable(tf.random_uniform([target_vocab_size, decoding_embedding_size]))\n",
    "    dec_embed_input = tf.nn.embedding_lookup(dec_embeddings, dec_input)\n",
    "    \n",
    "    gen_cell = lambda rnn_size: tf.contrib.rnn.LSTMCell(rnn_size, initializer=tf.random_uniform_initializer(-0.1, 0.1, seed=2))\n",
    "    \n",
    "    dec_cell = tf.contrib.rnn.MultiRNNCell([gen_cell(rnn_size) for _ in range(num_layers)])\n",
    "    \n",
    "    output_layer = Dense(units=target_vocab_size,\n",
    "                                kernel_initializer = tf.truncated_normal_initializer(mean = 0.0, stddev=0.1))\n",
    "    \n",
    "    with tf.variable_scope(\"decode\"):\n",
    "        training = decoding_layer_train(encoder_state, dec_cell, dec_embed_input, target_sequence_length,\n",
    "                                    max_target_sequence_length, output_layer, keep_prob)\n",
    "    #(encoder_state, dec_cell, dec_embed_input, target_sequence_length, max_summary_length, output_layer, keep_prob)\n",
    "    with tf.variable_scope(\"decode\", reuse=True):\n",
    "        inference = decoding_layer_infer(encoder_state, dec_cell, dec_embeddings, start_of_sequence_id, end_of_sequence_id,\n",
    "                                     max_target_sequence_length, target_vocab_size, output_layer, batch_size, keep_prob)\n",
    "    return training, inference\n",
    "\n",
    "\n",
    "\n",
    "\"\"\"\n",
    "DON'T MODIFY ANYTHING IN THIS CELL THAT IS BELOW THIS LINE\n",
    "\"\"\"\n",
    "tests.test_decoding_layer(decoding_layer)"
   ]
  },
  {
   "cell_type": "markdown",
   "metadata": {
    "deletable": true,
    "editable": true
   },
   "source": [
    "### Build the Neural Network\n",
    "Apply the functions you implemented above to:\n",
    "\n",
    "- Encode the input using your `encoding_layer(rnn_inputs, rnn_size, num_layers, keep_prob,  source_sequence_length, source_vocab_size, encoding_embedding_size)`.\n",
    "- Process target data using your `process_decoder_input(target_data, target_vocab_to_int, batch_size)` function.\n",
    "- Apply embedding to the target data for the decoder.\n",
    "- Decode the encoded input using your `decoding_layer(dec_input, enc_state, target_sequence_length, max_target_sentence_length, rnn_size, num_layers, target_vocab_to_int, target_vocab_size, batch_size, keep_prob, dec_embedding_size)` function."
   ]
  },
  {
   "cell_type": "code",
   "execution_count": 10,
   "metadata": {
    "collapsed": false,
    "deletable": true,
    "editable": true
   },
   "outputs": [
    {
     "name": "stdout",
     "output_type": "stream",
     "text": [
      "Tests Passed\n"
     ]
    }
   ],
   "source": [
    "def seq2seq_model(input_data, target_data, keep_prob, batch_size,\n",
    "                  source_sequence_length, target_sequence_length,\n",
    "                  max_target_sentence_length,\n",
    "                  source_vocab_size, target_vocab_size,\n",
    "                  enc_embedding_size, dec_embedding_size,\n",
    "                  rnn_size, num_layers, target_vocab_to_int):\n",
    "    \"\"\"\n",
    "    Build the Sequence-to-Sequence part of the neural network\n",
    "    :param input_data: Input placeholder\n",
    "    :param target_data: Target placeholder\n",
    "    :param keep_prob: Dropout keep probability placeholder\n",
    "    :param batch_size: Batch Size\n",
    "    :param source_sequence_length: Sequence Lengths of source sequences in the batch\n",
    "    :param target_sequence_length: Sequence Lengths of target sequences in the batch\n",
    "    :param source_vocab_size: Source vocabulary size\n",
    "    :param target_vocab_size: Target vocabulary size\n",
    "    :param enc_embedding_size: Decoder embedding size\n",
    "    :param dec_embedding_size: Encoder embedding size\n",
    "    :param rnn_size: RNN Size\n",
    "    :param num_layers: Number of layers\n",
    "    :param target_vocab_to_int: Dictionary to go from the target words to an id\n",
    "    :return: Tuple of (Training BasicDecoderOutput, Inference BasicDecoderOutput)\n",
    "    \"\"\"\n",
    "    \n",
    "    #Encode the input using your encoding_layer(rnn_inputs, rnn_size, num_layers, keep_prob,  source_sequence_length, source_vocab_size, encoding_embedding_size).\n",
    "    enc_output, enc_state = encoding_layer(input_data, rnn_size, num_layers, keep_prob, \n",
    "                   source_sequence_length, source_vocab_size, \n",
    "                   enc_embedding_size)\n",
    "    #Process target data using your process_decoder_input(target_data, target_vocab_to_int, batch_size) function.\n",
    "    dec_in = process_decoder_input(target_data, target_vocab_to_int, batch_size)\n",
    "    \n",
    "    #Apply embedding to the target data for the decoder.\n",
    "    #dec_in = tf.contrib.layers.embed_sequence(dec_in, target_vocab_size, dec_embedding_size)\n",
    "    \n",
    "    #Decode the encoded input using your decoding_layer(dec_input, enc_state, target_sequence_length, max_target_sentence_length, rnn_size, num_layers, target_vocab_to_int, target_vocab_size, batch_size, keep_prob, dec_embedding_size) function.\n",
    "    training, inference = decoding_layer(dec_in, enc_state, target_sequence_length, max_target_sentence_length,\n",
    "                                rnn_size, num_layers, target_vocab_to_int, target_vocab_size, batch_size,\n",
    "                                keep_prob, dec_embedding_size)\n",
    "\n",
    "    return training, inference\n",
    "\n",
    "\n",
    "\"\"\"\n",
    "DON'T MODIFY ANYTHING IN THIS CELL THAT IS BELOW THIS LINE\n",
    "\"\"\"\n",
    "tests.test_seq2seq_model(seq2seq_model)"
   ]
  },
  {
   "cell_type": "markdown",
   "metadata": {
    "deletable": true,
    "editable": true
   },
   "source": [
    "## Neural Network Training\n",
    "### Hyperparameters\n",
    "Tune the following parameters:\n",
    "\n",
    "- Set `epochs` to the number of epochs.\n",
    "- Set `batch_size` to the batch size.\n",
    "- Set `rnn_size` to the size of the RNNs.\n",
    "- Set `num_layers` to the number of layers.\n",
    "- Set `encoding_embedding_size` to the size of the embedding for the encoder.\n",
    "- Set `decoding_embedding_size` to the size of the embedding for the decoder.\n",
    "- Set `learning_rate` to the learning rate.\n",
    "- Set `keep_probability` to the Dropout keep probability\n",
    "- Set `display_step` to state how many steps between each debug output statement"
   ]
  },
  {
   "cell_type": "code",
   "execution_count": 52,
   "metadata": {
    "collapsed": true,
    "deletable": true,
    "editable": true
   },
   "outputs": [],
   "source": [
    "# Number of Epochs\n",
    "epochs = 20\n",
    "# Display every n-th step\n",
    "display_step = 10\n",
    "# Batch Size\n",
    "batch_size = 1024\n",
    "# RNN Size\n",
    "rnn_size = 64\n",
    "# Number of Layers\n",
    "num_layers = 3\n",
    "# Embedding Size\n",
    "encoding_embedding_size = 23\n",
    "decoding_embedding_size = 23\n",
    "# Learning Rate\n",
    "learning_rate = 0.01\n",
    "# Dropout Keep Probability\n",
    "keep_probability = 0.8"
   ]
  },
  {
   "cell_type": "markdown",
   "metadata": {
    "deletable": true,
    "editable": true
   },
   "source": [
    "### Build the Graph\n",
    "Build the graph using the neural network you implemented."
   ]
  },
  {
   "cell_type": "code",
   "execution_count": 53,
   "metadata": {
    "collapsed": false,
    "deletable": true,
    "editable": true
   },
   "outputs": [],
   "source": [
    "\"\"\"\n",
    "DON'T MODIFY ANYTHING IN THIS CELL\n",
    "\"\"\"\n",
    "save_path = 'checkpoints/dev'\n",
    "(source_int_text, target_int_text), (source_vocab_to_int, target_vocab_to_int), _ = helper.load_preprocess()\n",
    "max_target_sentence_length = max([len(sentence) for sentence in source_int_text])\n",
    "\n",
    "train_graph = tf.Graph()\n",
    "with train_graph.as_default():\n",
    "    input_data, targets, lr, keep_prob, target_sequence_length, max_target_sequence_length, source_sequence_length = model_inputs()\n",
    "\n",
    "    #sequence_length = tf.placeholder_with_default(max_target_sentence_length, None, name='sequence_length')\n",
    "    input_shape = tf.shape(input_data)\n",
    "\n",
    "    train_logits, inference_logits = seq2seq_model(tf.reverse(input_data, [-1]),\n",
    "                                                   targets,\n",
    "                                                   keep_prob,\n",
    "                                                   batch_size,\n",
    "                                                   source_sequence_length,\n",
    "                                                   target_sequence_length,\n",
    "                                                   max_target_sequence_length,\n",
    "                                                   len(source_vocab_to_int),\n",
    "                                                   len(target_vocab_to_int),\n",
    "                                                   encoding_embedding_size,\n",
    "                                                   decoding_embedding_size,\n",
    "                                                   rnn_size,\n",
    "                                                   num_layers,\n",
    "                                                   target_vocab_to_int)\n",
    "\n",
    "\n",
    "    training_logits = tf.identity(train_logits.rnn_output, name='logits')\n",
    "    inference_logits = tf.identity(inference_logits.sample_id, name='predictions')\n",
    "\n",
    "    masks = tf.sequence_mask(target_sequence_length, max_target_sequence_length, dtype=tf.float32, name='masks')\n",
    "\n",
    "    with tf.name_scope(\"optimization\"):\n",
    "        # Loss function\n",
    "        cost = tf.contrib.seq2seq.sequence_loss(\n",
    "            training_logits,\n",
    "            targets,\n",
    "            masks)\n",
    "\n",
    "        # Optimizer\n",
    "        optimizer = tf.train.AdamOptimizer(lr)\n",
    "\n",
    "        # Gradient Clipping\n",
    "        gradients = optimizer.compute_gradients(cost)\n",
    "        capped_gradients = [(tf.clip_by_value(grad, -1., 1.), var) for grad, var in gradients if grad is not None]\n",
    "        train_op = optimizer.apply_gradients(capped_gradients)\n"
   ]
  },
  {
   "cell_type": "markdown",
   "metadata": {
    "deletable": true,
    "editable": true
   },
   "source": [
    "Batch and pad the source and target sequences"
   ]
  },
  {
   "cell_type": "code",
   "execution_count": 54,
   "metadata": {
    "collapsed": true,
    "deletable": true,
    "editable": true
   },
   "outputs": [],
   "source": [
    "\"\"\"\n",
    "DON'T MODIFY ANYTHING IN THIS CELL\n",
    "\"\"\"\n",
    "def pad_sentence_batch(sentence_batch, pad_int):\n",
    "    \"\"\"Pad sentences with <PAD> so that each sentence of a batch has the same length\"\"\"\n",
    "    max_sentence = max([len(sentence) for sentence in sentence_batch])\n",
    "    return [sentence + [pad_int] * (max_sentence - len(sentence)) for sentence in sentence_batch]\n",
    "\n",
    "\n",
    "def get_batches(sources, targets, batch_size, source_pad_int, target_pad_int):\n",
    "    \"\"\"Batch targets, sources, and the lengths of their sentences together\"\"\"\n",
    "    for batch_i in range(0, len(sources)//batch_size):\n",
    "        start_i = batch_i * batch_size\n",
    "\n",
    "        # Slice the right amount for the batch\n",
    "        sources_batch = sources[start_i:start_i + batch_size]\n",
    "        targets_batch = targets[start_i:start_i + batch_size]\n",
    "\n",
    "        # Pad\n",
    "        pad_sources_batch = np.array(pad_sentence_batch(sources_batch, source_pad_int))\n",
    "        pad_targets_batch = np.array(pad_sentence_batch(targets_batch, target_pad_int))\n",
    "\n",
    "        # Need the lengths for the _lengths parameters\n",
    "        pad_targets_lengths = []\n",
    "        for target in pad_targets_batch:\n",
    "            pad_targets_lengths.append(len(target))\n",
    "\n",
    "        pad_source_lengths = []\n",
    "        for source in pad_sources_batch:\n",
    "            pad_source_lengths.append(len(source))\n",
    "\n",
    "        yield pad_sources_batch, pad_targets_batch, pad_source_lengths, pad_targets_lengths\n"
   ]
  },
  {
   "cell_type": "markdown",
   "metadata": {
    "deletable": true,
    "editable": true
   },
   "source": [
    "### Train\n",
    "Train the neural network on the preprocessed data. If you have a hard time getting a good loss, check the forms to see if anyone is having the same problem."
   ]
  },
  {
   "cell_type": "code",
   "execution_count": 55,
   "metadata": {
    "collapsed": false,
    "deletable": true,
    "editable": true,
    "scrolled": true
   },
   "outputs": [
    {
     "name": "stdout",
     "output_type": "stream",
     "text": [
      "Epoch   0 Batch   10/134 - Train Accuracy: 0.3133, Validation Accuracy: 0.3433, Loss: 3.2640\n",
      "Epoch   0 Batch   20/134 - Train Accuracy: 0.3423, Validation Accuracy: 0.3470, Loss: 2.9061\n",
      "Epoch   0 Batch   30/134 - Train Accuracy: 0.3757, Validation Accuracy: 0.3818, Loss: 2.8149\n",
      "Epoch   0 Batch   40/134 - Train Accuracy: 0.3604, Validation Accuracy: 0.3873, Loss: 2.8412\n",
      "Epoch   0 Batch   50/134 - Train Accuracy: 0.3686, Validation Accuracy: 0.4004, Loss: 2.7400\n",
      "Epoch   0 Batch   60/134 - Train Accuracy: 0.3933, Validation Accuracy: 0.4221, Loss: 2.6478\n",
      "Epoch   0 Batch   70/134 - Train Accuracy: 0.4356, Validation Accuracy: 0.4617, Loss: 2.4841\n",
      "Epoch   0 Batch   80/134 - Train Accuracy: 0.4523, Validation Accuracy: 0.4840, Loss: 2.3652\n",
      "Epoch   0 Batch   90/134 - Train Accuracy: 0.4558, Validation Accuracy: 0.4846, Loss: 2.2396\n",
      "Epoch   0 Batch  100/134 - Train Accuracy: 0.4756, Validation Accuracy: 0.5041, Loss: 2.1783\n",
      "Epoch   0 Batch  110/134 - Train Accuracy: 0.5018, Validation Accuracy: 0.5127, Loss: 2.0578\n",
      "Epoch   0 Batch  120/134 - Train Accuracy: 0.4264, Validation Accuracy: 0.4451, Loss: 1.9861\n",
      "Epoch   0 Batch  130/134 - Train Accuracy: 0.4547, Validation Accuracy: 0.4838, Loss: 1.9598\n",
      "Epoch   1 Batch   10/134 - Train Accuracy: 0.4483, Validation Accuracy: 0.4731, Loss: 1.8528\n",
      "Epoch   1 Batch   20/134 - Train Accuracy: 0.4836, Validation Accuracy: 0.4895, Loss: 1.7167\n",
      "Epoch   1 Batch   30/134 - Train Accuracy: 0.4724, Validation Accuracy: 0.4804, Loss: 1.6240\n",
      "Epoch   1 Batch   40/134 - Train Accuracy: 0.4605, Validation Accuracy: 0.4786, Loss: 1.6451\n",
      "Epoch   1 Batch   50/134 - Train Accuracy: 0.5003, Validation Accuracy: 0.5243, Loss: 1.5021\n",
      "Epoch   1 Batch   60/134 - Train Accuracy: 0.4888, Validation Accuracy: 0.5124, Loss: 1.4014\n",
      "Epoch   1 Batch   70/134 - Train Accuracy: 0.4909, Validation Accuracy: 0.5046, Loss: 1.3353\n",
      "Epoch   1 Batch   80/134 - Train Accuracy: 0.5186, Validation Accuracy: 0.5416, Loss: 1.3343\n",
      "Epoch   1 Batch   90/134 - Train Accuracy: 0.4914, Validation Accuracy: 0.5204, Loss: 1.1974\n",
      "Epoch   1 Batch  100/134 - Train Accuracy: 0.5093, Validation Accuracy: 0.5285, Loss: 1.1031\n",
      "Epoch   1 Batch  110/134 - Train Accuracy: 0.5215, Validation Accuracy: 0.5382, Loss: 1.0181\n",
      "Epoch   1 Batch  120/134 - Train Accuracy: 0.5361, Validation Accuracy: 0.5635, Loss: 0.9857\n",
      "Epoch   1 Batch  130/134 - Train Accuracy: 0.5475, Validation Accuracy: 0.5736, Loss: 0.9397\n",
      "Epoch   2 Batch   10/134 - Train Accuracy: 0.5694, Validation Accuracy: 0.5815, Loss: 0.8888\n",
      "Epoch   2 Batch   20/134 - Train Accuracy: 0.5735, Validation Accuracy: 0.5732, Loss: 0.8275\n",
      "Epoch   2 Batch   30/134 - Train Accuracy: 0.5816, Validation Accuracy: 0.5783, Loss: 0.7958\n",
      "Epoch   2 Batch   40/134 - Train Accuracy: 0.5731, Validation Accuracy: 0.5864, Loss: 0.8084\n",
      "Epoch   2 Batch   50/134 - Train Accuracy: 0.5718, Validation Accuracy: 0.5916, Loss: 0.7959\n",
      "Epoch   2 Batch   60/134 - Train Accuracy: 0.5811, Validation Accuracy: 0.5915, Loss: 0.7674\n",
      "Epoch   2 Batch   70/134 - Train Accuracy: 0.6015, Validation Accuracy: 0.6022, Loss: 0.7393\n",
      "Epoch   2 Batch   80/134 - Train Accuracy: 0.5853, Validation Accuracy: 0.6010, Loss: 0.7446\n",
      "Epoch   2 Batch   90/134 - Train Accuracy: 0.5833, Validation Accuracy: 0.5993, Loss: 0.7302\n",
      "Epoch   2 Batch  100/134 - Train Accuracy: 0.6023, Validation Accuracy: 0.6132, Loss: 0.7061\n",
      "Epoch   2 Batch  110/134 - Train Accuracy: 0.6202, Validation Accuracy: 0.6156, Loss: 0.6861\n",
      "Epoch   2 Batch  120/134 - Train Accuracy: 0.5974, Validation Accuracy: 0.6150, Loss: 0.6946\n",
      "Epoch   2 Batch  130/134 - Train Accuracy: 0.6006, Validation Accuracy: 0.6127, Loss: 0.6830\n",
      "Epoch   3 Batch   10/134 - Train Accuracy: 0.6238, Validation Accuracy: 0.6289, Loss: 0.6588\n",
      "Epoch   3 Batch   20/134 - Train Accuracy: 0.6305, Validation Accuracy: 0.6337, Loss: 0.6217\n",
      "Epoch   3 Batch   30/134 - Train Accuracy: 0.6365, Validation Accuracy: 0.6398, Loss: 0.6057\n",
      "Epoch   3 Batch   40/134 - Train Accuracy: 0.6302, Validation Accuracy: 0.6433, Loss: 0.6227\n",
      "Epoch   3 Batch   50/134 - Train Accuracy: 0.6203, Validation Accuracy: 0.6437, Loss: 0.6218\n",
      "Epoch   3 Batch   60/134 - Train Accuracy: 0.6359, Validation Accuracy: 0.6507, Loss: 0.6010\n",
      "Epoch   3 Batch   70/134 - Train Accuracy: 0.6424, Validation Accuracy: 0.6550, Loss: 0.5868\n",
      "Epoch   3 Batch   80/134 - Train Accuracy: 0.6320, Validation Accuracy: 0.6569, Loss: 0.5899\n",
      "Epoch   3 Batch   90/134 - Train Accuracy: 0.6391, Validation Accuracy: 0.6642, Loss: 0.5814\n",
      "Epoch   3 Batch  100/134 - Train Accuracy: 0.6436, Validation Accuracy: 0.6689, Loss: 0.5633\n",
      "Epoch   3 Batch  110/134 - Train Accuracy: 0.6765, Validation Accuracy: 0.6705, Loss: 0.5436\n",
      "Epoch   3 Batch  120/134 - Train Accuracy: 0.6549, Validation Accuracy: 0.6727, Loss: 0.5470\n",
      "Epoch   3 Batch  130/134 - Train Accuracy: 0.6489, Validation Accuracy: 0.6623, Loss: 0.5404\n",
      "Epoch   4 Batch   10/134 - Train Accuracy: 0.6647, Validation Accuracy: 0.6707, Loss: 0.5202\n",
      "Epoch   4 Batch   20/134 - Train Accuracy: 0.6781, Validation Accuracy: 0.6735, Loss: 0.4898\n",
      "Epoch   4 Batch   30/134 - Train Accuracy: 0.6706, Validation Accuracy: 0.6794, Loss: 0.4758\n",
      "Epoch   4 Batch   40/134 - Train Accuracy: 0.6699, Validation Accuracy: 0.6899, Loss: 0.4892\n",
      "Epoch   4 Batch   50/134 - Train Accuracy: 0.6625, Validation Accuracy: 0.6882, Loss: 0.4894\n",
      "Epoch   4 Batch   60/134 - Train Accuracy: 0.6771, Validation Accuracy: 0.6889, Loss: 0.4734\n",
      "Epoch   4 Batch   70/134 - Train Accuracy: 0.6857, Validation Accuracy: 0.6857, Loss: 0.4689\n",
      "Epoch   4 Batch   80/134 - Train Accuracy: 0.6778, Validation Accuracy: 0.6995, Loss: 0.4656\n",
      "Epoch   4 Batch   90/134 - Train Accuracy: 0.6741, Validation Accuracy: 0.6825, Loss: 0.4672\n",
      "Epoch   4 Batch  100/134 - Train Accuracy: 0.6416, Validation Accuracy: 0.6583, Loss: 0.4825\n",
      "Epoch   4 Batch  110/134 - Train Accuracy: 0.7031, Validation Accuracy: 0.6913, Loss: 0.4607\n",
      "Epoch   4 Batch  120/134 - Train Accuracy: 0.6848, Validation Accuracy: 0.6927, Loss: 0.4526\n",
      "Epoch   4 Batch  130/134 - Train Accuracy: 0.6849, Validation Accuracy: 0.6929, Loss: 0.4385\n",
      "Epoch   5 Batch   10/134 - Train Accuracy: 0.7161, Validation Accuracy: 0.7190, Loss: 0.4270\n",
      "Epoch   5 Batch   20/134 - Train Accuracy: 0.7087, Validation Accuracy: 0.7152, Loss: 0.4063\n",
      "Epoch   5 Batch   30/134 - Train Accuracy: 0.7126, Validation Accuracy: 0.7101, Loss: 0.3923\n",
      "Epoch   5 Batch   40/134 - Train Accuracy: 0.7069, Validation Accuracy: 0.7102, Loss: 0.4063\n",
      "Epoch   5 Batch   50/134 - Train Accuracy: 0.7004, Validation Accuracy: 0.7137, Loss: 0.4039\n",
      "Epoch   5 Batch   60/134 - Train Accuracy: 0.7178, Validation Accuracy: 0.7247, Loss: 0.3953\n",
      "Epoch   5 Batch   70/134 - Train Accuracy: 0.7237, Validation Accuracy: 0.7197, Loss: 0.3927\n",
      "Epoch   5 Batch   80/134 - Train Accuracy: 0.7168, Validation Accuracy: 0.7316, Loss: 0.3869\n",
      "Epoch   5 Batch   90/134 - Train Accuracy: 0.7018, Validation Accuracy: 0.7155, Loss: 0.3981\n",
      "Epoch   5 Batch  100/134 - Train Accuracy: 0.7041, Validation Accuracy: 0.7192, Loss: 0.3743\n",
      "Epoch   5 Batch  110/134 - Train Accuracy: 0.7552, Validation Accuracy: 0.7266, Loss: 0.3638\n",
      "Epoch   5 Batch  120/134 - Train Accuracy: 0.7313, Validation Accuracy: 0.7393, Loss: 0.3599\n",
      "Epoch   5 Batch  130/134 - Train Accuracy: 0.7287, Validation Accuracy: 0.7283, Loss: 0.3589\n",
      "Epoch   6 Batch   10/134 - Train Accuracy: 0.7470, Validation Accuracy: 0.7476, Loss: 0.3476\n",
      "Epoch   6 Batch   20/134 - Train Accuracy: 0.7467, Validation Accuracy: 0.7480, Loss: 0.3237\n",
      "Epoch   6 Batch   30/134 - Train Accuracy: 0.7365, Validation Accuracy: 0.7339, Loss: 0.3347\n",
      "Epoch   6 Batch   40/134 - Train Accuracy: 0.7424, Validation Accuracy: 0.7422, Loss: 0.3361\n",
      "Epoch   6 Batch   50/134 - Train Accuracy: 0.7322, Validation Accuracy: 0.7489, Loss: 0.3245\n",
      "Epoch   6 Batch   60/134 - Train Accuracy: 0.7420, Validation Accuracy: 0.7521, Loss: 0.3153\n",
      "Epoch   6 Batch   70/134 - Train Accuracy: 0.7503, Validation Accuracy: 0.7497, Loss: 0.3090\n",
      "Epoch   6 Batch   80/134 - Train Accuracy: 0.7568, Validation Accuracy: 0.7601, Loss: 0.3079\n",
      "Epoch   6 Batch   90/134 - Train Accuracy: 0.7402, Validation Accuracy: 0.7543, Loss: 0.3060\n",
      "Epoch   6 Batch  100/134 - Train Accuracy: 0.7484, Validation Accuracy: 0.7557, Loss: 0.3522\n",
      "Epoch   6 Batch  110/134 - Train Accuracy: 0.7564, Validation Accuracy: 0.7504, Loss: 0.3139\n",
      "Epoch   6 Batch  120/134 - Train Accuracy: 0.7520, Validation Accuracy: 0.7608, Loss: 0.3025\n",
      "Epoch   6 Batch  130/134 - Train Accuracy: 0.7613, Validation Accuracy: 0.7642, Loss: 0.2881\n",
      "Epoch   7 Batch   10/134 - Train Accuracy: 0.7674, Validation Accuracy: 0.7751, Loss: 0.2767\n",
      "Epoch   7 Batch   20/134 - Train Accuracy: 0.7640, Validation Accuracy: 0.7659, Loss: 0.2653\n",
      "Epoch   7 Batch   30/134 - Train Accuracy: 0.7670, Validation Accuracy: 0.7774, Loss: 0.2576\n",
      "Epoch   7 Batch   40/134 - Train Accuracy: 0.7645, Validation Accuracy: 0.7778, Loss: 0.2644\n",
      "Epoch   7 Batch   50/134 - Train Accuracy: 0.7607, Validation Accuracy: 0.7893, Loss: 0.2576\n",
      "Epoch   7 Batch   60/134 - Train Accuracy: 0.7714, Validation Accuracy: 0.7816, Loss: 0.2445\n",
      "Epoch   7 Batch   70/134 - Train Accuracy: 0.7509, Validation Accuracy: 0.7563, Loss: 0.2801\n",
      "Epoch   7 Batch   80/134 - Train Accuracy: 0.7727, Validation Accuracy: 0.7772, Loss: 0.2618\n",
      "Epoch   7 Batch   90/134 - Train Accuracy: 0.7666, Validation Accuracy: 0.7874, Loss: 0.2471\n",
      "Epoch   7 Batch  100/134 - Train Accuracy: 0.7825, Validation Accuracy: 0.7866, Loss: 0.2337\n",
      "Epoch   7 Batch  110/134 - Train Accuracy: 0.8067, Validation Accuracy: 0.7888, Loss: 0.2262\n",
      "Epoch   7 Batch  120/134 - Train Accuracy: 0.7744, Validation Accuracy: 0.7915, Loss: 0.2315\n",
      "Epoch   7 Batch  130/134 - Train Accuracy: 0.7766, Validation Accuracy: 0.7793, Loss: 0.2297\n",
      "Epoch   8 Batch   10/134 - Train Accuracy: 0.7860, Validation Accuracy: 0.7946, Loss: 0.2209\n",
      "Epoch   8 Batch   20/134 - Train Accuracy: 0.7869, Validation Accuracy: 0.7847, Loss: 0.2102\n",
      "Epoch   8 Batch   30/134 - Train Accuracy: 0.7892, Validation Accuracy: 0.7952, Loss: 0.2133\n",
      "Epoch   8 Batch   40/134 - Train Accuracy: 0.7839, Validation Accuracy: 0.7946, Loss: 0.2134\n",
      "Epoch   8 Batch   50/134 - Train Accuracy: 0.7759, Validation Accuracy: 0.8039, Loss: 0.2112\n",
      "Epoch   8 Batch   60/134 - Train Accuracy: 0.7922, Validation Accuracy: 0.8046, Loss: 0.1967\n",
      "Epoch   8 Batch   70/134 - Train Accuracy: 0.7961, Validation Accuracy: 0.7937, Loss: 0.1988\n",
      "Epoch   8 Batch   80/134 - Train Accuracy: 0.7852, Validation Accuracy: 0.8019, Loss: 0.1994\n",
      "Epoch   8 Batch   90/134 - Train Accuracy: 0.7886, Validation Accuracy: 0.8034, Loss: 0.1950\n",
      "Epoch   8 Batch  100/134 - Train Accuracy: 0.8051, Validation Accuracy: 0.8142, Loss: 0.2077\n",
      "Epoch   8 Batch  110/134 - Train Accuracy: 0.8164, Validation Accuracy: 0.8032, Loss: 0.1962\n",
      "Epoch   8 Batch  120/134 - Train Accuracy: 0.7985, Validation Accuracy: 0.8069, Loss: 0.1976\n",
      "Epoch   8 Batch  130/134 - Train Accuracy: 0.8012, Validation Accuracy: 0.8033, Loss: 0.1829\n",
      "Epoch   9 Batch   10/134 - Train Accuracy: 0.8034, Validation Accuracy: 0.8095, Loss: 0.1821\n",
      "Epoch   9 Batch   20/134 - Train Accuracy: 0.8149, Validation Accuracy: 0.8189, Loss: 0.1701\n",
      "Epoch   9 Batch   30/134 - Train Accuracy: 0.8082, Validation Accuracy: 0.8152, Loss: 0.1747\n",
      "Epoch   9 Batch   40/134 - Train Accuracy: 0.8205, Validation Accuracy: 0.8282, Loss: 0.1687\n",
      "Epoch   9 Batch   50/134 - Train Accuracy: 0.7981, Validation Accuracy: 0.8208, Loss: 0.1808\n",
      "Epoch   9 Batch   60/134 - Train Accuracy: 0.8144, Validation Accuracy: 0.8235, Loss: 0.1759\n",
      "Epoch   9 Batch   70/134 - Train Accuracy: 0.8180, Validation Accuracy: 0.8249, Loss: 0.1632\n",
      "Epoch   9 Batch   80/134 - Train Accuracy: 0.8233, Validation Accuracy: 0.8345, Loss: 0.1612\n",
      "Epoch   9 Batch   90/134 - Train Accuracy: 0.8242, Validation Accuracy: 0.8438, Loss: 0.1586\n",
      "Epoch   9 Batch  100/134 - Train Accuracy: 0.8351, Validation Accuracy: 0.8468, Loss: 0.1502\n",
      "Epoch   9 Batch  110/134 - Train Accuracy: 0.8494, Validation Accuracy: 0.8406, Loss: 0.1640\n",
      "Epoch   9 Batch  120/134 - Train Accuracy: 0.8270, Validation Accuracy: 0.8290, Loss: 0.1816\n",
      "Epoch   9 Batch  130/134 - Train Accuracy: 0.8197, Validation Accuracy: 0.8337, Loss: 0.1645\n",
      "Epoch  10 Batch   10/134 - Train Accuracy: 0.8401, Validation Accuracy: 0.8553, Loss: 0.1493\n",
      "Epoch  10 Batch   20/134 - Train Accuracy: 0.8561, Validation Accuracy: 0.8711, Loss: 0.1382\n",
      "Epoch  10 Batch   30/134 - Train Accuracy: 0.8533, Validation Accuracy: 0.8680, Loss: 0.1325\n",
      "Epoch  10 Batch   40/134 - Train Accuracy: 0.8464, Validation Accuracy: 0.8634, Loss: 0.1362\n",
      "Epoch  10 Batch   50/134 - Train Accuracy: 0.8616, Validation Accuracy: 0.8763, Loss: 0.1297\n",
      "Epoch  10 Batch   60/134 - Train Accuracy: 0.8710, Validation Accuracy: 0.8822, Loss: 0.1175\n",
      "Epoch  10 Batch   70/134 - Train Accuracy: 0.8725, Validation Accuracy: 0.8913, Loss: 0.1180\n",
      "Epoch  10 Batch   80/134 - Train Accuracy: 0.8827, Validation Accuracy: 0.8956, Loss: 0.1166\n",
      "Epoch  10 Batch   90/134 - Train Accuracy: 0.8788, Validation Accuracy: 0.8952, Loss: 0.1191\n",
      "Epoch  10 Batch  100/134 - Train Accuracy: 0.8241, Validation Accuracy: 0.8437, Loss: 0.1246\n",
      "Epoch  10 Batch  110/134 - Train Accuracy: 0.8767, Validation Accuracy: 0.8829, Loss: 0.1189\n",
      "Epoch  10 Batch  120/134 - Train Accuracy: 0.8720, Validation Accuracy: 0.8776, Loss: 0.1242\n",
      "Epoch  10 Batch  130/134 - Train Accuracy: 0.8737, Validation Accuracy: 0.8802, Loss: 0.1160\n",
      "Epoch  11 Batch   10/134 - Train Accuracy: 0.8777, Validation Accuracy: 0.8927, Loss: 0.1107\n",
      "Epoch  11 Batch   20/134 - Train Accuracy: 0.8920, Validation Accuracy: 0.8996, Loss: 0.1018\n",
      "Epoch  11 Batch   30/134 - Train Accuracy: 0.8926, Validation Accuracy: 0.8977, Loss: 0.0988\n",
      "Epoch  11 Batch   40/134 - Train Accuracy: 0.8792, Validation Accuracy: 0.9011, Loss: 0.1057\n",
      "Epoch  11 Batch   50/134 - Train Accuracy: 0.8777, Validation Accuracy: 0.8896, Loss: 0.1185\n",
      "Epoch  11 Batch   60/134 - Train Accuracy: 0.8769, Validation Accuracy: 0.8875, Loss: 0.1016\n",
      "Epoch  11 Batch   70/134 - Train Accuracy: 0.8853, Validation Accuracy: 0.8901, Loss: 0.1060\n",
      "Epoch  11 Batch   80/134 - Train Accuracy: 0.9045, Validation Accuracy: 0.9072, Loss: 0.0936\n",
      "Epoch  11 Batch   90/134 - Train Accuracy: 0.8930, Validation Accuracy: 0.9094, Loss: 0.0984\n",
      "Epoch  11 Batch  100/134 - Train Accuracy: 0.8929, Validation Accuracy: 0.9045, Loss: 0.0896\n",
      "Epoch  11 Batch  110/134 - Train Accuracy: 0.9017, Validation Accuracy: 0.9064, Loss: 0.0920\n",
      "Epoch  11 Batch  120/134 - Train Accuracy: 0.8718, Validation Accuracy: 0.8713, Loss: 0.1187\n",
      "Epoch  11 Batch  130/134 - Train Accuracy: 0.8895, Validation Accuracy: 0.8938, Loss: 0.0950\n",
      "Epoch  12 Batch   10/134 - Train Accuracy: 0.8991, Validation Accuracy: 0.9102, Loss: 0.0898\n",
      "Epoch  12 Batch   20/134 - Train Accuracy: 0.9070, Validation Accuracy: 0.9134, Loss: 0.0812\n",
      "Epoch  12 Batch   30/134 - Train Accuracy: 0.9136, Validation Accuracy: 0.9139, Loss: 0.0811\n",
      "Epoch  12 Batch   40/134 - Train Accuracy: 0.9129, Validation Accuracy: 0.9187, Loss: 0.0805\n",
      "Epoch  12 Batch   50/134 - Train Accuracy: 0.9079, Validation Accuracy: 0.9193, Loss: 0.0811\n",
      "Epoch  12 Batch   60/134 - Train Accuracy: 0.9041, Validation Accuracy: 0.9127, Loss: 0.0768\n",
      "Epoch  12 Batch   70/134 - Train Accuracy: 0.9161, Validation Accuracy: 0.9267, Loss: 0.0778\n",
      "Epoch  12 Batch   80/134 - Train Accuracy: 0.9357, Validation Accuracy: 0.9304, Loss: 0.0708\n",
      "Epoch  12 Batch   90/134 - Train Accuracy: 0.9085, Validation Accuracy: 0.9226, Loss: 0.0883\n",
      "Epoch  12 Batch  100/134 - Train Accuracy: 0.9062, Validation Accuracy: 0.9143, Loss: 0.0786\n",
      "Epoch  12 Batch  110/134 - Train Accuracy: 0.9262, Validation Accuracy: 0.9255, Loss: 0.0759\n",
      "Epoch  12 Batch  120/134 - Train Accuracy: 0.9344, Validation Accuracy: 0.9318, Loss: 0.0750\n",
      "Epoch  12 Batch  130/134 - Train Accuracy: 0.9271, Validation Accuracy: 0.9295, Loss: 0.0693\n",
      "Epoch  13 Batch   10/134 - Train Accuracy: 0.9198, Validation Accuracy: 0.9306, Loss: 0.0717\n",
      "Epoch  13 Batch   20/134 - Train Accuracy: 0.9241, Validation Accuracy: 0.9326, Loss: 0.0651\n",
      "Epoch  13 Batch   30/134 - Train Accuracy: 0.9302, Validation Accuracy: 0.9333, Loss: 0.0636\n",
      "Epoch  13 Batch   40/134 - Train Accuracy: 0.9241, Validation Accuracy: 0.9304, Loss: 0.0645\n",
      "Epoch  13 Batch   50/134 - Train Accuracy: 0.9272, Validation Accuracy: 0.9359, Loss: 0.0657\n",
      "Epoch  13 Batch   60/134 - Train Accuracy: 0.9314, Validation Accuracy: 0.9299, Loss: 0.0597\n",
      "Epoch  13 Batch   70/134 - Train Accuracy: 0.8883, Validation Accuracy: 0.8911, Loss: 0.1195\n",
      "Epoch  13 Batch   80/134 - Train Accuracy: 0.9220, Validation Accuracy: 0.9159, Loss: 0.0866\n",
      "Epoch  13 Batch   90/134 - Train Accuracy: 0.9156, Validation Accuracy: 0.9191, Loss: 0.0798\n",
      "Epoch  13 Batch  100/134 - Train Accuracy: 0.9196, Validation Accuracy: 0.9276, Loss: 0.0682\n",
      "Epoch  13 Batch  110/134 - Train Accuracy: 0.9259, Validation Accuracy: 0.9287, Loss: 0.0637\n",
      "Epoch  13 Batch  120/134 - Train Accuracy: 0.9359, Validation Accuracy: 0.9334, Loss: 0.0639\n",
      "Epoch  13 Batch  130/134 - Train Accuracy: 0.9301, Validation Accuracy: 0.9344, Loss: 0.0590\n",
      "Epoch  14 Batch   10/134 - Train Accuracy: 0.9264, Validation Accuracy: 0.9332, Loss: 0.0603\n",
      "Epoch  14 Batch   20/134 - Train Accuracy: 0.9315, Validation Accuracy: 0.9389, Loss: 0.0557\n",
      "Epoch  14 Batch   30/134 - Train Accuracy: 0.9296, Validation Accuracy: 0.9378, Loss: 0.0569\n",
      "Epoch  14 Batch   40/134 - Train Accuracy: 0.9393, Validation Accuracy: 0.9397, Loss: 0.0577\n",
      "Epoch  14 Batch   50/134 - Train Accuracy: 0.9347, Validation Accuracy: 0.9417, Loss: 0.0576\n",
      "Epoch  14 Batch   60/134 - Train Accuracy: 0.9351, Validation Accuracy: 0.9278, Loss: 0.0522\n",
      "Epoch  14 Batch   70/134 - Train Accuracy: 0.9351, Validation Accuracy: 0.9413, Loss: 0.0521\n",
      "Epoch  14 Batch   80/134 - Train Accuracy: 0.9483, Validation Accuracy: 0.9502, Loss: 0.0504\n",
      "Epoch  14 Batch   90/134 - Train Accuracy: 0.9325, Validation Accuracy: 0.9459, Loss: 0.0565\n",
      "Epoch  14 Batch  100/134 - Train Accuracy: 0.9353, Validation Accuracy: 0.9494, Loss: 0.0514\n",
      "Epoch  14 Batch  110/134 - Train Accuracy: 0.9358, Validation Accuracy: 0.9404, Loss: 0.0517\n",
      "Epoch  14 Batch  120/134 - Train Accuracy: 0.9459, Validation Accuracy: 0.9495, Loss: 0.0532\n",
      "Epoch  14 Batch  130/134 - Train Accuracy: 0.9423, Validation Accuracy: 0.9495, Loss: 0.0506\n",
      "Epoch  15 Batch   10/134 - Train Accuracy: 0.9351, Validation Accuracy: 0.9365, Loss: 0.0523\n",
      "Epoch  15 Batch   20/134 - Train Accuracy: 0.9401, Validation Accuracy: 0.9458, Loss: 0.0478\n",
      "Epoch  15 Batch   30/134 - Train Accuracy: 0.9398, Validation Accuracy: 0.9448, Loss: 0.0494\n",
      "Epoch  15 Batch   40/134 - Train Accuracy: 0.9449, Validation Accuracy: 0.9509, Loss: 0.0490\n",
      "Epoch  15 Batch   50/134 - Train Accuracy: 0.9425, Validation Accuracy: 0.9443, Loss: 0.0502\n",
      "Epoch  15 Batch   60/134 - Train Accuracy: 0.9418, Validation Accuracy: 0.9396, Loss: 0.0454\n",
      "Epoch  15 Batch   70/134 - Train Accuracy: 0.9433, Validation Accuracy: 0.9425, Loss: 0.0452\n",
      "Epoch  15 Batch   80/134 - Train Accuracy: 0.9556, Validation Accuracy: 0.9509, Loss: 0.0436\n",
      "Epoch  15 Batch   90/134 - Train Accuracy: 0.9428, Validation Accuracy: 0.9522, Loss: 0.0490\n",
      "Epoch  15 Batch  100/134 - Train Accuracy: 0.9479, Validation Accuracy: 0.9499, Loss: 0.0489\n",
      "Epoch  15 Batch  110/134 - Train Accuracy: 0.9403, Validation Accuracy: 0.9459, Loss: 0.0495\n",
      "Epoch  15 Batch  120/134 - Train Accuracy: 0.9473, Validation Accuracy: 0.9531, Loss: 0.0500\n",
      "Epoch  15 Batch  130/134 - Train Accuracy: 0.9443, Validation Accuracy: 0.9553, Loss: 0.0481\n",
      "Epoch  16 Batch   10/134 - Train Accuracy: 0.9129, Validation Accuracy: 0.9194, Loss: 0.0751\n",
      "Epoch  16 Batch   20/134 - Train Accuracy: 0.9098, Validation Accuracy: 0.9142, Loss: 0.0833\n",
      "Epoch  16 Batch   30/134 - Train Accuracy: 0.9090, Validation Accuracy: 0.9225, Loss: 0.0784\n",
      "Epoch  16 Batch   40/134 - Train Accuracy: 0.9203, Validation Accuracy: 0.9244, Loss: 0.0805\n",
      "Epoch  16 Batch   50/134 - Train Accuracy: 0.9301, Validation Accuracy: 0.9377, Loss: 0.0632\n",
      "Epoch  16 Batch   60/134 - Train Accuracy: 0.9375, Validation Accuracy: 0.9398, Loss: 0.0483\n",
      "Epoch  16 Batch   70/134 - Train Accuracy: 0.9490, Validation Accuracy: 0.9494, Loss: 0.0464\n",
      "Epoch  16 Batch   80/134 - Train Accuracy: 0.9528, Validation Accuracy: 0.9510, Loss: 0.0426\n",
      "Epoch  16 Batch   90/134 - Train Accuracy: 0.9437, Validation Accuracy: 0.9521, Loss: 0.0464\n",
      "Epoch  16 Batch  100/134 - Train Accuracy: 0.9392, Validation Accuracy: 0.9503, Loss: 0.0416\n",
      "Epoch  16 Batch  110/134 - Train Accuracy: 0.9453, Validation Accuracy: 0.9537, Loss: 0.0415\n",
      "Epoch  16 Batch  120/134 - Train Accuracy: 0.9533, Validation Accuracy: 0.9562, Loss: 0.0423\n",
      "Epoch  16 Batch  130/134 - Train Accuracy: 0.9436, Validation Accuracy: 0.9531, Loss: 0.0408\n",
      "Epoch  17 Batch   10/134 - Train Accuracy: 0.9387, Validation Accuracy: 0.9504, Loss: 0.0435\n",
      "Epoch  17 Batch   20/134 - Train Accuracy: 0.9472, Validation Accuracy: 0.9555, Loss: 0.0381\n",
      "Epoch  17 Batch   30/134 - Train Accuracy: 0.9461, Validation Accuracy: 0.9522, Loss: 0.0409\n",
      "Epoch  17 Batch   40/134 - Train Accuracy: 0.9542, Validation Accuracy: 0.9534, Loss: 0.0406\n",
      "Epoch  17 Batch   50/134 - Train Accuracy: 0.9461, Validation Accuracy: 0.9544, Loss: 0.0407\n",
      "Epoch  17 Batch   60/134 - Train Accuracy: 0.9517, Validation Accuracy: 0.9546, Loss: 0.0359\n",
      "Epoch  17 Batch   70/134 - Train Accuracy: 0.9551, Validation Accuracy: 0.9536, Loss: 0.0379\n",
      "Epoch  17 Batch   80/134 - Train Accuracy: 0.9580, Validation Accuracy: 0.9582, Loss: 0.0350\n",
      "Epoch  17 Batch   90/134 - Train Accuracy: 0.9489, Validation Accuracy: 0.9593, Loss: 0.0396\n",
      "Epoch  17 Batch  100/134 - Train Accuracy: 0.9511, Validation Accuracy: 0.9630, Loss: 0.0364\n",
      "Epoch  17 Batch  110/134 - Train Accuracy: 0.9504, Validation Accuracy: 0.9577, Loss: 0.0361\n",
      "Epoch  17 Batch  120/134 - Train Accuracy: 0.9536, Validation Accuracy: 0.9603, Loss: 0.0381\n",
      "Epoch  17 Batch  130/134 - Train Accuracy: 0.9492, Validation Accuracy: 0.9554, Loss: 0.0361\n",
      "Epoch  18 Batch   10/134 - Train Accuracy: 0.9473, Validation Accuracy: 0.9561, Loss: 0.0374\n",
      "Epoch  18 Batch   20/134 - Train Accuracy: 0.9494, Validation Accuracy: 0.9580, Loss: 0.0338\n",
      "Epoch  18 Batch   30/134 - Train Accuracy: 0.9515, Validation Accuracy: 0.9602, Loss: 0.0366\n",
      "Epoch  18 Batch   40/134 - Train Accuracy: 0.9532, Validation Accuracy: 0.9612, Loss: 0.0357\n",
      "Epoch  18 Batch   50/134 - Train Accuracy: 0.9509, Validation Accuracy: 0.9597, Loss: 0.0371\n",
      "Epoch  18 Batch   60/134 - Train Accuracy: 0.9525, Validation Accuracy: 0.9617, Loss: 0.0333\n",
      "Epoch  18 Batch   70/134 - Train Accuracy: 0.9537, Validation Accuracy: 0.9518, Loss: 0.0350\n",
      "Epoch  18 Batch   80/134 - Train Accuracy: 0.9601, Validation Accuracy: 0.9546, Loss: 0.0324\n",
      "Epoch  18 Batch   90/134 - Train Accuracy: 0.9523, Validation Accuracy: 0.9635, Loss: 0.0358\n",
      "Epoch  18 Batch  100/134 - Train Accuracy: 0.9568, Validation Accuracy: 0.9659, Loss: 0.0325\n",
      "Epoch  18 Batch  110/134 - Train Accuracy: 0.9536, Validation Accuracy: 0.9635, Loss: 0.0324\n",
      "Epoch  18 Batch  120/134 - Train Accuracy: 0.9582, Validation Accuracy: 0.9624, Loss: 0.0341\n",
      "Epoch  18 Batch  130/134 - Train Accuracy: 0.9539, Validation Accuracy: 0.9596, Loss: 0.0323\n",
      "Epoch  19 Batch   10/134 - Train Accuracy: 0.9527, Validation Accuracy: 0.9605, Loss: 0.0337\n",
      "Epoch  19 Batch   20/134 - Train Accuracy: 0.9501, Validation Accuracy: 0.9585, Loss: 0.0309\n",
      "Epoch  19 Batch   30/134 - Train Accuracy: 0.9574, Validation Accuracy: 0.9622, Loss: 0.0335\n",
      "Epoch  19 Batch   40/134 - Train Accuracy: 0.9567, Validation Accuracy: 0.9632, Loss: 0.0316\n",
      "Epoch  19 Batch   50/134 - Train Accuracy: 0.9533, Validation Accuracy: 0.9609, Loss: 0.0336\n",
      "Epoch  19 Batch   60/134 - Train Accuracy: 0.9522, Validation Accuracy: 0.9644, Loss: 0.0306\n",
      "Epoch  19 Batch   70/134 - Train Accuracy: 0.9566, Validation Accuracy: 0.9562, Loss: 0.0315\n",
      "Epoch  19 Batch   80/134 - Train Accuracy: 0.9615, Validation Accuracy: 0.9578, Loss: 0.0301\n",
      "Epoch  19 Batch   90/134 - Train Accuracy: 0.9564, Validation Accuracy: 0.9667, Loss: 0.0329\n",
      "Epoch  19 Batch  100/134 - Train Accuracy: 0.9578, Validation Accuracy: 0.9674, Loss: 0.0296\n",
      "Epoch  19 Batch  110/134 - Train Accuracy: 0.9511, Validation Accuracy: 0.9620, Loss: 0.0300\n",
      "Epoch  19 Batch  120/134 - Train Accuracy: 0.9603, Validation Accuracy: 0.9644, Loss: 0.0318\n",
      "Epoch  19 Batch  130/134 - Train Accuracy: 0.9566, Validation Accuracy: 0.9636, Loss: 0.0296\n",
      "Model Trained and Saved\n"
     ]
    }
   ],
   "source": [
    "\"\"\"\n",
    "DON'T MODIFY ANYTHING IN THIS CELL\n",
    "\"\"\"\n",
    "def get_accuracy(target, logits):\n",
    "    \"\"\"\n",
    "    Calculate accuracy\n",
    "    \"\"\"\n",
    "    max_seq = max(target.shape[1], logits.shape[1])\n",
    "    if max_seq - target.shape[1]:\n",
    "        target = np.pad(\n",
    "            target,\n",
    "            [(0,0),(0,max_seq - target.shape[1])],\n",
    "            'constant')\n",
    "    if max_seq - logits.shape[1]:\n",
    "        logits = np.pad(\n",
    "            logits,\n",
    "            [(0,0),(0,max_seq - logits.shape[1])],\n",
    "            'constant')\n",
    "\n",
    "    return np.mean(np.equal(target, logits))\n",
    "\n",
    "# Split data to training and validation sets\n",
    "train_source = source_int_text[batch_size:]\n",
    "train_target = target_int_text[batch_size:]\n",
    "valid_source = source_int_text[:batch_size]\n",
    "valid_target = target_int_text[:batch_size]\n",
    "(valid_sources_batch, valid_targets_batch, valid_sources_lengths, valid_targets_lengths ) = next(get_batches(valid_source,\n",
    "                                                                                                             valid_target,\n",
    "                                                                                                             batch_size,\n",
    "                                                                                                             source_vocab_to_int['<PAD>'],\n",
    "                                                                                                             target_vocab_to_int['<PAD>']))                                                                                                  \n",
    "with tf.Session(graph=train_graph) as sess:\n",
    "    sess.run(tf.global_variables_initializer())\n",
    "\n",
    "    for epoch_i in range(epochs):\n",
    "        for batch_i, (source_batch, target_batch, sources_lengths, targets_lengths) in enumerate(\n",
    "                get_batches(train_source, train_target, batch_size,\n",
    "                            source_vocab_to_int['<PAD>'],\n",
    "                            target_vocab_to_int['<PAD>'])):\n",
    "\n",
    "            _, loss = sess.run(\n",
    "                [train_op, cost],\n",
    "                {input_data: source_batch,\n",
    "                 targets: target_batch,\n",
    "                 lr: learning_rate,\n",
    "                 target_sequence_length: targets_lengths,\n",
    "                 source_sequence_length: sources_lengths,\n",
    "                 keep_prob: keep_probability})\n",
    "\n",
    "\n",
    "            if batch_i % display_step == 0 and batch_i > 0:\n",
    "\n",
    "\n",
    "                batch_train_logits = sess.run(\n",
    "                    inference_logits,\n",
    "                    {input_data: source_batch,\n",
    "                     source_sequence_length: sources_lengths,\n",
    "                     target_sequence_length: targets_lengths,\n",
    "                     keep_prob: 1.0})\n",
    "\n",
    "\n",
    "                batch_valid_logits = sess.run(\n",
    "                    inference_logits,\n",
    "                    {input_data: valid_sources_batch,\n",
    "                     source_sequence_length: valid_sources_lengths,\n",
    "                     target_sequence_length: valid_targets_lengths,\n",
    "                     keep_prob: 1.0})\n",
    "\n",
    "                train_acc = get_accuracy(target_batch, batch_train_logits)\n",
    "\n",
    "                valid_acc = get_accuracy(valid_targets_batch, batch_valid_logits)\n",
    "\n",
    "                print('Epoch {:>3} Batch {:>4}/{} - Train Accuracy: {:>6.4f}, Validation Accuracy: {:>6.4f}, Loss: {:>6.4f}'\n",
    "                      .format(epoch_i, batch_i, len(source_int_text) // batch_size, train_acc, valid_acc, loss))\n",
    "\n",
    "    # Save Model\n",
    "    saver = tf.train.Saver()\n",
    "    saver.save(sess, save_path)\n",
    "    print('Model Trained and Saved')"
   ]
  },
  {
   "cell_type": "markdown",
   "metadata": {
    "deletable": true,
    "editable": true
   },
   "source": [
    "### Save Parameters\n",
    "Save the `batch_size` and `save_path` parameters for inference."
   ]
  },
  {
   "cell_type": "code",
   "execution_count": 56,
   "metadata": {
    "collapsed": true,
    "deletable": true,
    "editable": true
   },
   "outputs": [],
   "source": [
    "\"\"\"\n",
    "DON'T MODIFY ANYTHING IN THIS CELL\n",
    "\"\"\"\n",
    "# Save parameters for checkpoint\n",
    "helper.save_params(save_path)"
   ]
  },
  {
   "cell_type": "markdown",
   "metadata": {
    "deletable": true,
    "editable": true
   },
   "source": [
    "# Checkpoint"
   ]
  },
  {
   "cell_type": "code",
   "execution_count": 57,
   "metadata": {
    "collapsed": true,
    "deletable": true,
    "editable": true
   },
   "outputs": [],
   "source": [
    "\"\"\"\n",
    "DON'T MODIFY ANYTHING IN THIS CELL\n",
    "\"\"\"\n",
    "import tensorflow as tf\n",
    "import numpy as np\n",
    "import helper\n",
    "import problem_unittests as tests\n",
    "\n",
    "_, (source_vocab_to_int, target_vocab_to_int), (source_int_to_vocab, target_int_to_vocab) = helper.load_preprocess()\n",
    "load_path = helper.load_params()"
   ]
  },
  {
   "cell_type": "markdown",
   "metadata": {
    "deletable": true,
    "editable": true
   },
   "source": [
    "## Sentence to Sequence\n",
    "To feed a sentence into the model for translation, you first need to preprocess it.  Implement the function `sentence_to_seq()` to preprocess new sentences.\n",
    "\n",
    "- Convert the sentence to lowercase\n",
    "- Convert words into ids using `vocab_to_int`\n",
    " - Convert words not in the vocabulary, to the `<UNK>` word id."
   ]
  },
  {
   "cell_type": "code",
   "execution_count": 58,
   "metadata": {
    "collapsed": false,
    "deletable": true,
    "editable": true
   },
   "outputs": [
    {
     "name": "stdout",
     "output_type": "stream",
     "text": [
      "Tests Passed\n"
     ]
    }
   ],
   "source": [
    "def sentence_to_seq(sentence, vocab_to_int):\n",
    "    \"\"\"\n",
    "    Convert a sentence to a sequence of ids\n",
    "    :param sentence: String\n",
    "    :param vocab_to_int: Dictionary to go from the words to an id\n",
    "    :return: List of word ids\n",
    "    \"\"\"\n",
    "    s = sentence.lower()\n",
    "    default = vocab_to_int[\"<UNK>\"]\n",
    "    word_ids = [vocab_to_int.get(word, default) for word in s.split()]\n",
    "    return word_ids\n",
    "\n",
    "\n",
    "\"\"\"\n",
    "DON'T MODIFY ANYTHING IN THIS CELL THAT IS BELOW THIS LINE\n",
    "\"\"\"\n",
    "tests.test_sentence_to_seq(sentence_to_seq)"
   ]
  },
  {
   "cell_type": "markdown",
   "metadata": {
    "deletable": true,
    "editable": true
   },
   "source": [
    "## Translate\n",
    "This will translate `translate_sentence` from English to French."
   ]
  },
  {
   "cell_type": "code",
   "execution_count": 62,
   "metadata": {
    "collapsed": false,
    "deletable": true,
    "editable": true
   },
   "outputs": [
    {
     "name": "stdout",
     "output_type": "stream",
     "text": [
      "INFO:tensorflow:Restoring parameters from checkpoints/dev\n",
      "Input\n",
      "  Word Ids:      [144, 76, 111, 90, 81, 25, 224]\n",
      "  English Words: ['he', 'saw', 'a', 'old', 'yellow', 'truck', '.']\n",
      "\n",
      "Prediction\n",
      "  Word Ids:      [357, 100, 102, 327, 158, 95, 1]\n",
      "  French Words: il conduit cette automne février . <EOS>\n"
     ]
    }
   ],
   "source": [
    "translate_sentence = 'he saw a old yellow truck .'\n",
    "#translate_sentence = \"how are you\"\n",
    "#translate_sentence = \"the house is big and green\"\n",
    "\n",
    "\"\"\"\n",
    "DON'T MODIFY ANYTHING IN THIS CELL\n",
    "\"\"\"\n",
    "translate_sentence = sentence_to_seq(translate_sentence, source_vocab_to_int)\n",
    "\n",
    "loaded_graph = tf.Graph()\n",
    "with tf.Session(graph=loaded_graph) as sess:\n",
    "    # Load saved model\n",
    "    loader = tf.train.import_meta_graph(load_path + '.meta')\n",
    "    loader.restore(sess, load_path)\n",
    "\n",
    "    input_data = loaded_graph.get_tensor_by_name('input:0')\n",
    "    logits = loaded_graph.get_tensor_by_name('predictions:0')\n",
    "    target_sequence_length = loaded_graph.get_tensor_by_name('target_sequence_length:0')\n",
    "    source_sequence_length = loaded_graph.get_tensor_by_name('source_sequence_length:0')\n",
    "    keep_prob = loaded_graph.get_tensor_by_name('keep_prob:0')\n",
    "\n",
    "    translate_logits = sess.run(logits, {input_data: [translate_sentence]*batch_size,\n",
    "                                         target_sequence_length: [len(translate_sentence)*2]*batch_size,\n",
    "                                         source_sequence_length: [len(translate_sentence)]*batch_size,\n",
    "                                         keep_prob: 1.0})[0]\n",
    "\n",
    "print('Input')\n",
    "print('  Word Ids:      {}'.format([i for i in translate_sentence]))\n",
    "print('  English Words: {}'.format([source_int_to_vocab[i] for i in translate_sentence]))\n",
    "\n",
    "print('\\nPrediction')\n",
    "print('  Word Ids:      {}'.format([i for i in translate_logits]))\n",
    "print('  French Words: {}'.format(\" \".join([target_int_to_vocab[i] for i in translate_logits])))\n"
   ]
  },
  {
   "cell_type": "markdown",
   "metadata": {
    "deletable": true,
    "editable": true
   },
   "source": [
    "## Imperfect Translation\n",
    "You might notice that some sentences translate better than others.  Since the dataset you're using only has a vocabulary of 227 English words of the thousands that you use, you're only going to see good results using these words.  For this project, you don't need a perfect translation. However, if you want to create a better translation model, you'll need better data.\n",
    "\n",
    "You can train on the [WMT10 French-English corpus](http://www.statmt.org/wmt10/training-giga-fren.tar).  This dataset has more vocabulary and richer in topics discussed.  However, this will take you days to train, so make sure you've a GPU and the neural network is performing well on dataset we provided.  Just make sure you play with the WMT10 corpus after you've submitted this project.\n",
    "## Submitting This Project\n",
    "When submitting this project, make sure to run all the cells before saving the notebook. Save the notebook file as \"dlnd_language_translation.ipynb\" and save it as a HTML file under \"File\" -> \"Download as\". Include the \"helper.py\" and \"problem_unittests.py\" files in your submission."
   ]
  }
 ],
 "metadata": {
  "anaconda-cloud": {},
  "kernelspec": {
   "display_name": "Python 3",
   "language": "python",
   "name": "python3"
  },
  "language_info": {
   "codemirror_mode": {
    "name": "ipython",
    "version": 3
   },
   "file_extension": ".py",
   "mimetype": "text/x-python",
   "name": "python",
   "nbconvert_exporter": "python",
   "pygments_lexer": "ipython3",
   "version": "3.6.1"
  }
 },
 "nbformat": 4,
 "nbformat_minor": 1
}
